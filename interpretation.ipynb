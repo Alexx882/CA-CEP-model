{
 "metadata": {
  "language_info": {
   "codemirror_mode": {
    "name": "ipython",
    "version": 3
   },
   "file_extension": ".py",
   "mimetype": "text/x-python",
   "name": "python",
   "nbconvert_exporter": "python",
   "pygments_lexer": "ipython3",
   "version": "3.7.8"
  },
  "orig_nbformat": 4,
  "kernelspec": {
   "name": "python3",
   "display_name": "Python 3.7.8 64-bit ('venv': venv)"
  },
  "interpreter": {
   "hash": "ac79ad19892b6e891e8d97ca5fdbb2e2457e6e4ba8b10fb20aa9e37280e031f3"
  }
 },
 "nbformat": 4,
 "nbformat_minor": 2,
 "cells": [
  {
   "source": [
    "# Interpretation"
   ],
   "cell_type": "markdown",
   "metadata": {}
  },
  {
   "cell_type": "code",
   "execution_count": 15,
   "metadata": {},
   "outputs": [],
   "source": [
    "class Evolution:\n",
    "    def __init__(self, k, c1, c2):\n",
    "        self.k = k\n",
    "        self.c1 = c1\n",
    "        self.c2 = c2"
   ]
  },
  {
   "source": [
    "## Trend Delay"
   ],
   "cell_type": "markdown",
   "metadata": {}
  },
  {
   "cell_type": "code",
   "execution_count": 1,
   "metadata": {},
   "outputs": [],
   "source": [
    "import os\n",
    "import json\n",
    "from entities import TimeWindow\n",
    "\n",
    "dataset = 'youtube'\n",
    "layer = 'TrendDelayLayer'\n",
    "\n",
    "\n",
    "time_windows = []\n",
    "\n",
    "for r, _, files in os.walk(f'data/{dataset}/raw/timeslices/{layer}'):\n",
    "    # sort by year, week\n",
    "    files.sort(key=lambda name: [int(n) for n in name[:-5].split('_')])\n",
    "\n",
    "    for f in files:\n",
    "        with open(os.path.join(r, f), 'r') as fh:\n",
    "            clusters = json.loads(fh.read())\n",
    "\n",
    "            time_window = TimeWindow.create_from_serializable_dict(clusters)\n",
    "            time_windows.append(time_window)"
   ]
  },
  {
   "cell_type": "code",
   "execution_count": 11,
   "metadata": {},
   "outputs": [],
   "source": [
    "feature_name = 'trend_delay'\n",
    "\n",
    "from typing import List\n",
    "from processing import ClusterMetricsCalculator1D\n",
    "\n",
    "class Cluster:\n",
    "    def __init__(self, nodes: List):\n",
    "        \n",
    "        calc = ClusterMetricsCalculator1D(nodes, feature_name, 0 , 0)\n",
    "\n",
    "        self.nodes = nodes\n",
    "        self.center = calc.get_center()\n",
    "        self.size = calc.get_size()\n"
   ]
  },
  {
   "cell_type": "code",
   "execution_count": 7,
   "metadata": {},
   "outputs": [],
   "source": [
    "ts_old = 1"
   ]
  },
  {
   "cell_type": "code",
   "execution_count": 12,
   "metadata": {},
   "outputs": [],
   "source": [
    "time_window = time_windows[ts_old]\n",
    "\n",
    "clusters = {}\n",
    "\n",
    "for k, nodes in time_window.clusters.items():\n",
    "    clusters[k] = Cluster(nodes)\n"
   ]
  },
  {
   "cell_type": "code",
   "execution_count": 13,
   "metadata": {},
   "outputs": [
    {
     "output_type": "execute_result",
     "data": {
      "text/plain": [
       "'(2017, 47)'"
      ]
     },
     "metadata": {},
     "execution_count": 13
    }
   ],
   "source": [
    "time_window.time"
   ]
  },
  {
   "cell_type": "code",
   "execution_count": 14,
   "metadata": {},
   "outputs": [],
   "source": [
    "time_window = time_windows[ts_old+1]\n",
    "    \n",
    "clusters2 = {}\n",
    "\n",
    "for k, nodes in time_window.clusters.items():\n",
    "    clusters2[k] = Cluster(nodes)\n"
   ]
  },
  {
   "cell_type": "code",
   "execution_count": 27,
   "metadata": {},
   "outputs": [
    {
     "output_type": "execute_result",
     "data": {
      "text/plain": [
       "9"
      ]
     },
     "metadata": {},
     "execution_count": 27
    }
   ],
   "source": [
    "threshold = 500\n",
    "large_keys = [k for k, c in clusters.items() if c.size >= threshold] + [k for k, c in clusters2.items() if c.size >= threshold]\n",
    "len(large_keys)"
   ]
  },
  {
   "cell_type": "code",
   "execution_count": 35,
   "metadata": {},
   "outputs": [],
   "source": [
    "from typing import Dict\n",
    "\n",
    "large_keys = [k for k, c in clusters.items() if c.size >= threshold] + [k for k, c in clusters2.items() if c.size >= threshold]\n",
    "large_keys = list(set(large_keys))\n",
    "large_keys.sort()\n",
    "\n",
    "old:Dict[str, Cluster] = {}\n",
    "new:Dict[str, Cluster] = {}\n",
    "\n",
    "for k in large_keys:\n",
    "    c1 = clusters[k]\n",
    "    c2 = clusters2[k]\n",
    "\n",
    "    old[k] = c1\n",
    "    new[k] = c2"
   ]
  },
  {
   "cell_type": "code",
   "execution_count": 36,
   "metadata": {},
   "outputs": [
    {
     "output_type": "execute_result",
     "data": {
      "text/plain": [
       "5"
      ]
     },
     "metadata": {},
     "execution_count": 36
    }
   ],
   "source": [
    "len(old)"
   ]
  },
  {
   "cell_type": "code",
   "execution_count": null,
   "metadata": {},
   "outputs": [],
   "source": [
    "import matplotlib.pyplot as plt\n",
    "import matplotlib.patches as mpatches\n",
    "\n",
    "fig, ax = plt.subplots()\n",
    "\n",
    "cols = ['#4d4d4d', '#8cdcda', '#b1d877', '#f16a70', 'orange']\n",
    "size_factor = 1\n",
    "\n",
    "# old \n",
    "sc = ax.scatter(\n",
    "    [c.center for c in old],# [c.center[0] for c in c_combined],\n",
    "    [0 for c in c_combined],\n",
    "    c=cols,\n",
    "    s=[c.size*size_factor for c in c_combined], \n",
    "    alpha = 1)\n",
    "\n",
    "# new \n",
    "sc = ax.scatter(\n",
    "    range(len(c2_combined)), #[c.center[0] for c in c2_combined],\n",
    "    [1 for c in c2_combined],\n",
    "    c=cols,\n",
    "    s=[c.size*size_factor for c in c2_combined], \n",
    "    alpha = 1)\n",
    "\n",
    "plt.yticks([0, 1], ['t', 't+1'])\n",
    "plt.ylim([-.5, 2.5])\n",
    "\n",
    "plt.xticks([0, 1, 2, 3, 4], coords, rotation=45)\n",
    "plt.xlim([-1, 5])\n",
    "\n",
    "plt.ylabel(\"Time window\")\n",
    "plt.xlabel(\"Start location (latitude, longitude)\")\n",
    "\n",
    "labels = ['Train station Campanha', 'Hospital São João', 'Bus station Internorte', 'Port Marina da Afurada', 'Hospital Santo António']\n",
    "\n",
    "legend_patches = []\n",
    "for c, l in zip(cols, labels):\n",
    "    pat = mpatches.Patch(color=c, label=l)\n",
    "    legend_patches.append(pat)\n",
    "\n",
    "plt.legend(handles=legend_patches)\n",
    "plt.show()\n",
    "plt.show()\n",
    "\n"
   ]
  }
 ]
}