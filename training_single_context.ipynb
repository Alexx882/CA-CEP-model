{
 "metadata": {
  "language_info": {
   "codemirror_mode": {
    "name": "ipython",
    "version": 3
   },
   "file_extension": ".py",
   "mimetype": "text/x-python",
   "name": "python",
   "nbconvert_exporter": "python",
   "pygments_lexer": "ipython3",
   "version": "3.6.9"
  },
  "orig_nbformat": 2,
  "kernelspec": {
   "name": "pythonjvsc74a57bd0edc7e8da127e731d54753afe8930f1420dc6ae9a13010eedc53dff7bbda352d4",
   "display_name": "Python 3.6.9  ('venv-gpu2': venv)"
  },
  "metadata": {
   "interpreter": {
    "hash": "edc7e8da127e731d54753afe8930f1420dc6ae9a13010eedc53dff7bbda352d4"
   }
  }
 },
 "nbformat": 4,
 "nbformat_minor": 2,
 "cells": [
  {
   "source": [
    "# Single-Context Data"
   ],
   "cell_type": "markdown",
   "metadata": {}
  },
  {
   "cell_type": "code",
   "execution_count": 1,
   "metadata": {},
   "outputs": [],
   "source": [
    "use_case = 'youtube'\n",
    "layer_name = 'LikesLayer' \n",
    "\n",
    "approach = 'single_context'"
   ]
  },
  {
   "cell_type": "code",
   "execution_count": 2,
   "metadata": {},
   "outputs": [],
   "source": [
    "import pandas as pd\n",
    "from pandas import DataFrame\n",
    "\n",
    "df: DataFrame = pd.read_csv(f'data/{use_case}/ml_input/single_context/{layer_name}.csv', index_col=0)"
   ]
  },
  {
   "cell_type": "code",
   "execution_count": null,
   "metadata": {},
   "outputs": [],
   "source": [
    "df"
   ]
  },
  {
   "source": [
    "# Training"
   ],
   "cell_type": "markdown",
   "metadata": {}
  },
  {
   "cell_type": "code",
   "execution_count": 3,
   "metadata": {},
   "outputs": [
    {
     "output_type": "stream",
     "name": "stdout",
     "text": [
      "\nWorking with: 452659 training points + 113165 test points (0.2000003534668024 test ratio).\nLabel Occurrences: Total = Counter({-1.0: 313795, 4.0: 93192, 3.0: 92757, 0.0: 24818, 1.0: 20679, 2.0: 20583}), \n\tTraining = Counter({-1.0: 251137, 4.0: 74536, 3.0: 74105, 0.0: 19812, 1.0: 16650, 2.0: 16419}), \n\tTest = Counter({-1.0: 62658, 4.0: 18656, 3.0: 18652, 0.0: 5006, 2.0: 4164, 1.0: 4029})\n"
     ]
    }
   ],
   "source": [
    "import numpy as np\n",
    "import collections\n",
    "\n",
    "def split_data(dataframe, test_dataset_frac=.2, shuffle=False) -> '(training_data, test_data)':\n",
    "    if shuffle:\n",
    "        dataframe = dataframe.sample(frac=1).reset_index(drop=True)\n",
    "\n",
    "    training_size = int(len(dataframe) * (1-test_dataset_frac))\n",
    "\n",
    "    train = dataframe[:training_size]\n",
    "    test = dataframe[training_size:]\n",
    "\n",
    "    y_train = train[train.columns[-1]]\n",
    "    y_test = test[test.columns[-1]]\n",
    "  \n",
    "    print(f\"\\nWorking with: {len(train)} training points + {len(test)} test points ({len(test)/(len(test)+len(train))} test ratio).\")\n",
    "    print(f\"Label Occurrences: Total = {collections.Counter(y_train.tolist() + y_test.tolist())}, \\n\" \\\n",
    "          f\"\\tTraining = {collections.Counter(y_train)}, \\n\" \\\n",
    "          f\"\\tTest = {collections.Counter(y_test)}\")\n",
    "    # try:\n",
    "    #     print(f\"Label Majority Class: Training = {stat.mode(Y_train)}, Test = {stat.mode(Y_test)}\\n\")\n",
    "    # except stat.StatisticsError:\n",
    "    #     print(f\"Label Majority Class: no unique mode; found 2 equally common values\")\n",
    "\n",
    "    return train, test\n",
    "\n",
    "training, testing = split_data(df, shuffle=False)"
   ]
  },
  {
   "cell_type": "code",
   "execution_count": null,
   "metadata": {},
   "outputs": [],
   "source": [
    "training"
   ]
  },
  {
   "cell_type": "code",
   "execution_count": 4,
   "metadata": {},
   "outputs": [
    {
     "output_type": "stream",
     "name": "stderr",
     "text": [
      "ipykernel_launcher:6: SettingWithCopyWarning: \nA value is trying to be set on a copy of a slice from a DataFrame.\nTry using .loc[row_indexer,col_indexer] = value instead\n\nSee the caveats in the documentation: https://pandas.pydata.org/pandas-docs/stable/user_guide/indexing.html#returning-a-view-versus-a-copy\n"
     ]
    }
   ],
   "source": [
    "def remove_empty_community_class(df):\n",
    "    '''Removes evolution_label -1 from dataset indicating the community stays empty.'''\n",
    "    # res = df.loc[df['evolution_label'] != -1.0]\n",
    "    # res = res.reset_index(drop=True)\n",
    "    # return res\n",
    "    df['evolution_label'] = df['evolution_label'].replace(-1.0, 0)\n",
    "    return df\n",
    "\n",
    "training = remove_empty_community_class(training)\n",
    "testing = remove_empty_community_class(testing)"
   ]
  },
  {
   "cell_type": "code",
   "execution_count": 5,
   "metadata": {},
   "outputs": [
    {
     "output_type": "execute_result",
     "data": {
      "text/plain": [
       "        cluster_size  cluster_variance  cluster_density  cluster_import1  \\\n",
       "0                1.0               0.0              0.0         0.000091   \n",
       "1                0.0               0.0              0.0         0.000000   \n",
       "2                1.0               0.0              0.0         0.000084   \n",
       "3                0.0               0.0              0.0         0.000000   \n",
       "4                0.0               0.0              0.0         0.000000   \n",
       "...              ...               ...              ...              ...   \n",
       "452654           2.0               0.0              0.0         0.000177   \n",
       "452655           1.0               0.0              0.0         0.000126   \n",
       "452656           0.0               0.0              0.0         0.000000   \n",
       "452657           0.0               0.0              0.0         0.000000   \n",
       "452658           0.0               0.0              0.0         0.000000   \n",
       "\n",
       "        cluster_import2  cluster_area  cluster_center_distance   time_f1  \\\n",
       "0              0.000183           0.0                      2.2  0.568065   \n",
       "1              0.000000           0.0                      0.0  0.992709   \n",
       "2              0.000167           0.0                      0.0  0.822984   \n",
       "3              0.000000           0.0                      0.0 -0.239316   \n",
       "4              0.000000           0.0                      0.0  0.239316   \n",
       "...                 ...           ...                      ...       ...   \n",
       "452654         0.000163           0.0                      0.0  0.663123   \n",
       "452655         0.000218           0.0                      0.0  0.239316   \n",
       "452656         0.000000           0.0                      0.0  0.464723   \n",
       "452657         0.000000           0.0                      0.0 -0.663123   \n",
       "452658         0.000000           0.0                      0.0  0.354605   \n",
       "\n",
       "         time_f2  cluster_size.1  ...  cluster_size.2  cluster_variance.2  \\\n",
       "0       0.822984             0.0  ...             0.0                 0.0   \n",
       "1       0.120537             0.0  ...             0.0                 0.0   \n",
       "2      -0.568065             1.0  ...             0.0                 0.0   \n",
       "3       0.970942             0.0  ...             0.0                 0.0   \n",
       "4       0.970942             0.0  ...             0.0                 0.0   \n",
       "...          ...             ...  ...             ...                 ...   \n",
       "452654 -0.748511             3.0  ...             1.0                 0.0   \n",
       "452655  0.970942             1.0  ...             3.0                 0.0   \n",
       "452656 -0.885456             0.0  ...             0.0                 0.0   \n",
       "452657  0.748511             2.0  ...             0.0                 0.0   \n",
       "452658  0.935016             0.0  ...             0.0                 0.0   \n",
       "\n",
       "        cluster_density.2  cluster_import1.2  cluster_import2.2  \\\n",
       "0                     0.0           0.000000           0.000000   \n",
       "1                     0.0           0.000000           0.000000   \n",
       "2                     0.0           0.000000           0.000000   \n",
       "3                     0.0           0.000000           0.000000   \n",
       "4                     0.0           0.000000           0.000000   \n",
       "...                   ...                ...                ...   \n",
       "452654                0.0           0.000086           0.000154   \n",
       "452655                0.0           0.000258           0.000156   \n",
       "452656                0.0           0.000000           0.000000   \n",
       "452657                0.0           0.000000           0.000000   \n",
       "452658                0.0           0.000000           0.000000   \n",
       "\n",
       "        cluster_area.2  cluster_center_distance.2     time_f1.2  time_f2.2  \\\n",
       "0                  0.0                        0.0  7.485107e-01   0.663123   \n",
       "1                  0.0                        0.0  9.927089e-01  -0.120537   \n",
       "2                  0.0                        0.0  2.393157e-01   0.970942   \n",
       "3                  0.0                        0.0  6.432491e-16   1.000000   \n",
       "4                  0.0                        0.0  5.680647e-01  -0.822984   \n",
       "...                ...                        ...           ...        ...   \n",
       "452654             0.0                        0.0  4.647232e-01  -0.885456   \n",
       "452655             0.0                        0.0  5.680647e-01  -0.822984   \n",
       "452656             0.0                        0.0  2.393157e-01  -0.970942   \n",
       "452657             0.0                        0.0 -4.647232e-01   0.885456   \n",
       "452658             0.0                        0.0  5.680647e-01   0.822984   \n",
       "\n",
       "        evolution_label  \n",
       "0                   0.0  \n",
       "1                   0.0  \n",
       "2                   4.0  \n",
       "3                   0.0  \n",
       "4                   0.0  \n",
       "...                 ...  \n",
       "452654              2.0  \n",
       "452655              3.0  \n",
       "452656              4.0  \n",
       "452657              4.0  \n",
       "452658              0.0  \n",
       "\n",
       "[452659 rows x 28 columns]"
      ],
      "text/html": "<div>\n<style scoped>\n    .dataframe tbody tr th:only-of-type {\n        vertical-align: middle;\n    }\n\n    .dataframe tbody tr th {\n        vertical-align: top;\n    }\n\n    .dataframe thead th {\n        text-align: right;\n    }\n</style>\n<table border=\"1\" class=\"dataframe\">\n  <thead>\n    <tr style=\"text-align: right;\">\n      <th></th>\n      <th>cluster_size</th>\n      <th>cluster_variance</th>\n      <th>cluster_density</th>\n      <th>cluster_import1</th>\n      <th>cluster_import2</th>\n      <th>cluster_area</th>\n      <th>cluster_center_distance</th>\n      <th>time_f1</th>\n      <th>time_f2</th>\n      <th>cluster_size.1</th>\n      <th>...</th>\n      <th>cluster_size.2</th>\n      <th>cluster_variance.2</th>\n      <th>cluster_density.2</th>\n      <th>cluster_import1.2</th>\n      <th>cluster_import2.2</th>\n      <th>cluster_area.2</th>\n      <th>cluster_center_distance.2</th>\n      <th>time_f1.2</th>\n      <th>time_f2.2</th>\n      <th>evolution_label</th>\n    </tr>\n  </thead>\n  <tbody>\n    <tr>\n      <th>0</th>\n      <td>1.0</td>\n      <td>0.0</td>\n      <td>0.0</td>\n      <td>0.000091</td>\n      <td>0.000183</td>\n      <td>0.0</td>\n      <td>2.2</td>\n      <td>0.568065</td>\n      <td>0.822984</td>\n      <td>0.0</td>\n      <td>...</td>\n      <td>0.0</td>\n      <td>0.0</td>\n      <td>0.0</td>\n      <td>0.000000</td>\n      <td>0.000000</td>\n      <td>0.0</td>\n      <td>0.0</td>\n      <td>7.485107e-01</td>\n      <td>0.663123</td>\n      <td>0.0</td>\n    </tr>\n    <tr>\n      <th>1</th>\n      <td>0.0</td>\n      <td>0.0</td>\n      <td>0.0</td>\n      <td>0.000000</td>\n      <td>0.000000</td>\n      <td>0.0</td>\n      <td>0.0</td>\n      <td>0.992709</td>\n      <td>0.120537</td>\n      <td>0.0</td>\n      <td>...</td>\n      <td>0.0</td>\n      <td>0.0</td>\n      <td>0.0</td>\n      <td>0.000000</td>\n      <td>0.000000</td>\n      <td>0.0</td>\n      <td>0.0</td>\n      <td>9.927089e-01</td>\n      <td>-0.120537</td>\n      <td>0.0</td>\n    </tr>\n    <tr>\n      <th>2</th>\n      <td>1.0</td>\n      <td>0.0</td>\n      <td>0.0</td>\n      <td>0.000084</td>\n      <td>0.000167</td>\n      <td>0.0</td>\n      <td>0.0</td>\n      <td>0.822984</td>\n      <td>-0.568065</td>\n      <td>1.0</td>\n      <td>...</td>\n      <td>0.0</td>\n      <td>0.0</td>\n      <td>0.0</td>\n      <td>0.000000</td>\n      <td>0.000000</td>\n      <td>0.0</td>\n      <td>0.0</td>\n      <td>2.393157e-01</td>\n      <td>0.970942</td>\n      <td>4.0</td>\n    </tr>\n    <tr>\n      <th>3</th>\n      <td>0.0</td>\n      <td>0.0</td>\n      <td>0.0</td>\n      <td>0.000000</td>\n      <td>0.000000</td>\n      <td>0.0</td>\n      <td>0.0</td>\n      <td>-0.239316</td>\n      <td>0.970942</td>\n      <td>0.0</td>\n      <td>...</td>\n      <td>0.0</td>\n      <td>0.0</td>\n      <td>0.0</td>\n      <td>0.000000</td>\n      <td>0.000000</td>\n      <td>0.0</td>\n      <td>0.0</td>\n      <td>6.432491e-16</td>\n      <td>1.000000</td>\n      <td>0.0</td>\n    </tr>\n    <tr>\n      <th>4</th>\n      <td>0.0</td>\n      <td>0.0</td>\n      <td>0.0</td>\n      <td>0.000000</td>\n      <td>0.000000</td>\n      <td>0.0</td>\n      <td>0.0</td>\n      <td>0.239316</td>\n      <td>0.970942</td>\n      <td>0.0</td>\n      <td>...</td>\n      <td>0.0</td>\n      <td>0.0</td>\n      <td>0.0</td>\n      <td>0.000000</td>\n      <td>0.000000</td>\n      <td>0.0</td>\n      <td>0.0</td>\n      <td>5.680647e-01</td>\n      <td>-0.822984</td>\n      <td>0.0</td>\n    </tr>\n    <tr>\n      <th>...</th>\n      <td>...</td>\n      <td>...</td>\n      <td>...</td>\n      <td>...</td>\n      <td>...</td>\n      <td>...</td>\n      <td>...</td>\n      <td>...</td>\n      <td>...</td>\n      <td>...</td>\n      <td>...</td>\n      <td>...</td>\n      <td>...</td>\n      <td>...</td>\n      <td>...</td>\n      <td>...</td>\n      <td>...</td>\n      <td>...</td>\n      <td>...</td>\n      <td>...</td>\n      <td>...</td>\n    </tr>\n    <tr>\n      <th>452654</th>\n      <td>2.0</td>\n      <td>0.0</td>\n      <td>0.0</td>\n      <td>0.000177</td>\n      <td>0.000163</td>\n      <td>0.0</td>\n      <td>0.0</td>\n      <td>0.663123</td>\n      <td>-0.748511</td>\n      <td>3.0</td>\n      <td>...</td>\n      <td>1.0</td>\n      <td>0.0</td>\n      <td>0.0</td>\n      <td>0.000086</td>\n      <td>0.000154</td>\n      <td>0.0</td>\n      <td>0.0</td>\n      <td>4.647232e-01</td>\n      <td>-0.885456</td>\n      <td>2.0</td>\n    </tr>\n    <tr>\n      <th>452655</th>\n      <td>1.0</td>\n      <td>0.0</td>\n      <td>0.0</td>\n      <td>0.000126</td>\n      <td>0.000218</td>\n      <td>0.0</td>\n      <td>0.0</td>\n      <td>0.239316</td>\n      <td>0.970942</td>\n      <td>1.0</td>\n      <td>...</td>\n      <td>3.0</td>\n      <td>0.0</td>\n      <td>0.0</td>\n      <td>0.000258</td>\n      <td>0.000156</td>\n      <td>0.0</td>\n      <td>0.0</td>\n      <td>5.680647e-01</td>\n      <td>-0.822984</td>\n      <td>3.0</td>\n    </tr>\n    <tr>\n      <th>452656</th>\n      <td>0.0</td>\n      <td>0.0</td>\n      <td>0.0</td>\n      <td>0.000000</td>\n      <td>0.000000</td>\n      <td>0.0</td>\n      <td>0.0</td>\n      <td>0.464723</td>\n      <td>-0.885456</td>\n      <td>0.0</td>\n      <td>...</td>\n      <td>0.0</td>\n      <td>0.0</td>\n      <td>0.0</td>\n      <td>0.000000</td>\n      <td>0.000000</td>\n      <td>0.0</td>\n      <td>0.0</td>\n      <td>2.393157e-01</td>\n      <td>-0.970942</td>\n      <td>4.0</td>\n    </tr>\n    <tr>\n      <th>452657</th>\n      <td>0.0</td>\n      <td>0.0</td>\n      <td>0.0</td>\n      <td>0.000000</td>\n      <td>0.000000</td>\n      <td>0.0</td>\n      <td>0.0</td>\n      <td>-0.663123</td>\n      <td>0.748511</td>\n      <td>2.0</td>\n      <td>...</td>\n      <td>0.0</td>\n      <td>0.0</td>\n      <td>0.0</td>\n      <td>0.000000</td>\n      <td>0.000000</td>\n      <td>0.0</td>\n      <td>0.0</td>\n      <td>-4.647232e-01</td>\n      <td>0.885456</td>\n      <td>4.0</td>\n    </tr>\n    <tr>\n      <th>452658</th>\n      <td>0.0</td>\n      <td>0.0</td>\n      <td>0.0</td>\n      <td>0.000000</td>\n      <td>0.000000</td>\n      <td>0.0</td>\n      <td>0.0</td>\n      <td>0.354605</td>\n      <td>0.935016</td>\n      <td>0.0</td>\n      <td>...</td>\n      <td>0.0</td>\n      <td>0.0</td>\n      <td>0.0</td>\n      <td>0.000000</td>\n      <td>0.000000</td>\n      <td>0.0</td>\n      <td>0.0</td>\n      <td>5.680647e-01</td>\n      <td>0.822984</td>\n      <td>0.0</td>\n    </tr>\n  </tbody>\n</table>\n<p>452659 rows × 28 columns</p>\n</div>"
     },
     "metadata": {},
     "execution_count": 5
    }
   ],
   "source": [
    "training"
   ]
  },
  {
   "source": [
    "## Standardization"
   ],
   "cell_type": "markdown",
   "metadata": {}
  },
  {
   "cell_type": "code",
   "execution_count": 5,
   "metadata": {},
   "outputs": [],
   "source": [
    "from sklearn.preprocessing import StandardScaler\n",
    "scaler = StandardScaler()\n",
    "\n",
    "train_X = scaler.fit_transform(training)[:,:-1] # all except y\n",
    "train_Y = training[training.columns[-1]]\n",
    "\n",
    "test_X = scaler.transform(testing)[:,:-1] # all except y\n",
    "test_Y = testing[testing.columns[-1]]"
   ]
  },
  {
   "cell_type": "code",
   "execution_count": null,
   "metadata": {},
   "outputs": [],
   "source": [
    "train_Y"
   ]
  },
  {
   "cell_type": "code",
   "execution_count": null,
   "metadata": {},
   "outputs": [],
   "source": [
    "pd.DataFrame(data=train_X, columns=df.columns[:-1])"
   ]
  },
  {
   "source": [
    "## Balancing of Training Data"
   ],
   "cell_type": "markdown",
   "metadata": {}
  },
  {
   "cell_type": "code",
   "execution_count": 6,
   "metadata": {},
   "outputs": [
    {
     "output_type": "execute_result",
     "data": {
      "text/plain": [
       "0.0    270949\n",
       "4.0     74536\n",
       "3.0     74105\n",
       "1.0     16650\n",
       "2.0     16419\n",
       "Name: evolution_label, dtype: int64"
      ]
     },
     "metadata": {},
     "execution_count": 6
    }
   ],
   "source": [
    "train_Y.value_counts()"
   ]
  },
  {
   "cell_type": "code",
   "execution_count": 7,
   "metadata": {},
   "outputs": [],
   "source": [
    "from processing import DataSampler\n",
    "\n",
    "sampler = DataSampler()\n",
    "train_X, train_Y = sampler.sample_median_size(train_X, train_Y)"
   ]
  },
  {
   "cell_type": "code",
   "execution_count": 8,
   "metadata": {},
   "outputs": [
    {
     "output_type": "execute_result",
     "data": {
      "text/plain": [
       "1.0    74105\n",
       "3.0    74105\n",
       "4.0    74105\n",
       "2.0    74105\n",
       "0.0    74105\n",
       "Name: evolution_label, dtype: int64"
      ]
     },
     "metadata": {},
     "execution_count": 8
    }
   ],
   "source": [
    "train_Y.value_counts()"
   ]
  },
  {
   "source": [
    "## Principal Components"
   ],
   "cell_type": "markdown",
   "metadata": {}
  },
  {
   "cell_type": "code",
   "execution_count": 9,
   "metadata": {},
   "outputs": [],
   "source": [
    "from sklearn.decomposition import PCA\n",
    "\n",
    "pca = PCA(n_components=8)\n",
    "\n",
    "train_Xp = pca.fit_transform(train_X)\n",
    "test_Xp = pca.transform(test_X)"
   ]
  },
  {
   "source": [
    "## Evaluation Reports"
   ],
   "cell_type": "markdown",
   "metadata": {}
  },
  {
   "cell_type": "code",
   "execution_count": 10,
   "metadata": {},
   "outputs": [],
   "source": [
    "import sklearn.metrics\n",
    "\n",
    "def print_report(clfs: list, test_Xs: list, test_Y: 'y', titles: list):\n",
    "    \"\"\"\n",
    "    Prints all reports.\n",
    "    :param clfs: list of classifiers to evaluate\n",
    "    :param test_Xs: list of test_X for the corresponding classifier at idx\n",
    "    :param test_Y: true classes:param titles: list of titles for the classifiers at idx\n",
    "    \"\"\"\n",
    "    for clf, test_X, title in zip(clfs, test_Xs, titles):\n",
    "        pred_Y = clf.predict(test_X)        \n",
    "        print(f\"### {title} ###\\n\", sklearn.metrics.classification_report(y_true=test_Y, y_pred=pred_Y))"
   ]
  },
  {
   "cell_type": "code",
   "execution_count": 11,
   "metadata": {},
   "outputs": [],
   "source": [
    "import pickle \n",
    "from pathlib import Path\n",
    "\n",
    "def export_model(model, model_name):\n",
    "    fpath = f'data/{use_case}/ml_output/{approach}/{layer_name}'\n",
    "    Path(fpath).mkdir(parents=True, exist_ok=True)\n",
    "    with open(f'{fpath}/{layer_name}_{model_name}.model', 'wb') as f:\n",
    "        pickle.dump(model, f)"
   ]
  },
  {
   "source": [
    "# Naive Bayes\n",
    "Working best with _Xp_\n",
    "\n",
    "49\\% accuracy and 43% f1 score\n",
    "\n",
    "Parameters: \n",
    "- priors: prior probabilities of classes, _None_\n",
    "- var\\_smoothing: \\[_0_ , 1\\]"
   ],
   "cell_type": "markdown",
   "metadata": {}
  },
  {
   "cell_type": "code",
   "execution_count": 22,
   "metadata": {},
   "outputs": [
    {
     "output_type": "stream",
     "name": "stdout",
     "text": [
      "### X ###\n               precision    recall  f1-score   support\n\n         0.0       0.16      0.94      0.28      5006\n         1.0       0.48      0.35      0.40      4029\n         2.0       0.07      0.00      0.00      4164\n         3.0       0.78      0.00      0.01     18652\n         4.0       1.00      1.00      1.00     18656\n\n    accuracy                           0.49     50507\n   macro avg       0.50      0.46      0.34     50507\nweighted avg       0.72      0.49      0.43     50507\n\n### Xp ###\n               precision    recall  f1-score   support\n\n         0.0       0.14      0.46      0.22      5006\n         1.0       0.53      0.17      0.26      4029\n         2.0       0.08      0.00      0.00      4164\n         3.0       0.62      0.00      0.01     18652\n         4.0       0.48      0.86      0.62     18656\n\n    accuracy                           0.38     50507\n   macro avg       0.37      0.30      0.22     50507\nweighted avg       0.47      0.38      0.27     50507\n\n"
     ]
    }
   ],
   "source": [
    "from sklearn.naive_bayes import GaussianNB\n",
    "priors = None #np.array([19,16,16,74,74]) / (19+16+16+74+74)\n",
    "smoothing = 0\n",
    "\n",
    "clf = GaussianNB(priors=priors, var_smoothing=smoothing)\n",
    "clf.fit(train_X, train_Y)\n",
    "\n",
    "clf_p = GaussianNB(priors=priors, var_smoothing=smoothing)\n",
    "clf_p.fit(train_Xp, train_Y)\n",
    "\n",
    "print_report([clf, clf_p], [test_X, test_Xp], test_Y, [\"X\", \"Xp\"])\n",
    "\n",
    "export_model(clf, 'nb_x')\n",
    "export_model(clf_p, 'nb_xp')"
   ]
  },
  {
   "source": [
    "# Support Vector Machine\n",
    "Parameters:\n",
    "Parameters:\n",
    "- C (regularization): <1, _1_, >1, def=1\n",
    "- kernel: _linear_, rbf, poly, sigmoid, def=rbf\n",
    "- gamma (for rbf, poly, sigmoid): scale, auto, float, def=scale\n",
    "- class\\_weight: _None_, balanced, dict, def=None"
   ],
   "cell_type": "markdown",
   "metadata": {}
  },
  {
   "cell_type": "code",
   "execution_count": 14,
   "metadata": {},
   "outputs": [],
   "source": [
    "from sklearn.svm import SVC\n",
    "c = 1\n",
    "kernel = 'linear'\n",
    "gamma = 'auto'\n",
    "weights = None\n",
    "\n",
    "svc = SVC(C=c, kernel=kernel, gamma=gamma, class_weight=weights)\n",
    "svc.fit(train_X, train_Y)\n",
    "\n",
    "svc_p = SVC(C=c, kernel=kernel, gamma=gamma, class_weight=weights)\n",
    "svc_p.fit(train_Xp, train_Y)\n",
    "\n",
    "print_report([svc, svc_p], [test_X, test_Xp], test_Y, [\"X\", \"Xp\"])\n",
    "\n",
    "export_model(svc, 'svc_x')\n",
    "export_model(svc_p, 'svc_xp')"
   ]
  },
  {
   "cell_type": "code",
   "execution_count": null,
   "metadata": {},
   "outputs": [],
   "source": [
    "print_report([svc, svc_p], [test_X, test_Xp], test_Y, [\"X\", \"Xp\"])"
   ]
  },
  {
   "source": [
    "# K-nearest Neighbors\n",
    "Parameters:\n",
    "- n\\_neighbors: 20\n",
    "- weights: _uniform_, distance\n",
    "- algorithm: _auto_, ball_tree, kd_tree, brute\n",
    "- leaf\\_size: 30"
   ],
   "cell_type": "markdown",
   "metadata": {}
  },
  {
   "cell_type": "code",
   "execution_count": 13,
   "metadata": {},
   "outputs": [
    {
     "output_type": "stream",
     "name": "stdout",
     "text": [
      "### X ###\n",
      "               precision    recall  f1-score   support\n",
      "\n",
      "         0.0       0.80      0.48      0.60     67664\n",
      "         1.0       0.36      0.80      0.49      4029\n",
      "         2.0       0.26      0.53      0.35      4164\n",
      "         3.0       0.75      0.58      0.65     18652\n",
      "         4.0       0.25      0.55      0.35     18656\n",
      "\n",
      "    accuracy                           0.52    113165\n",
      "   macro avg       0.48      0.59      0.49    113165\n",
      "weighted avg       0.66      0.52      0.55    113165\n",
      "\n",
      "### Xp ###\n",
      "               precision    recall  f1-score   support\n",
      "\n",
      "         0.0       0.80      0.49      0.61     67664\n",
      "         1.0       0.36      0.79      0.50      4029\n",
      "         2.0       0.26      0.53      0.35      4164\n",
      "         3.0       0.74      0.58      0.65     18652\n",
      "         4.0       0.26      0.55      0.35     18656\n",
      "\n",
      "    accuracy                           0.53    113165\n",
      "   macro avg       0.48      0.59      0.49    113165\n",
      "weighted avg       0.67      0.53      0.56    113165\n",
      "\n"
     ]
    }
   ],
   "source": [
    "from sklearn.neighbors import KNeighborsClassifier\n",
    "n_neighbors = 20\n",
    "weights = 'uniform'\n",
    "algo = 'auto'\n",
    "leaf_size = 30\n",
    "\n",
    "knnc = KNeighborsClassifier(n_neighbors=n_neighbors, weights=weights, algorithm=algo, leaf_size=leaf_size)\n",
    "knnc.fit(train_X, train_Y)\n",
    "\n",
    "knnc_p = KNeighborsClassifier(n_neighbors=n_neighbors, weights=weights,  algorithm=algo, leaf_size=leaf_size)\n",
    "knnc_p.fit(train_Xp, train_Y)\n",
    "\n",
    "print_report([knnc, knnc_p], [test_X, test_Xp], test_Y, [\"X\", \"Xp\"])\n",
    "\n",
    "export_model(knnc, 'knn_x')\n",
    "export_model(knnc_p, 'knn_xp')"
   ]
  },
  {
   "source": [
    "# Decision Tree\n",
    "Working well with _Xp_\n",
    "\n",
    "Parameters:\n",
    "- criterion: _gini_, entropy\n",
    "- splitter: best, _random_\n",
    "- max\\_depth: _10_, default=None\n",
    "- min\\_samples\\_leaf (to construct leaf): _1_, default=1\n",
    "- min\\_impurity\\_decrease (split if the impurity is then decreased by): _1E-5_, default=0\n",
    "- ccp\\_alpha (max allowed cost after pruning): _1E-3_, default=0 ie. nopruning\n"
   ],
   "cell_type": "markdown",
   "metadata": {}
  },
  {
   "cell_type": "code",
   "execution_count": 27,
   "metadata": {},
   "outputs": [
    {
     "output_type": "stream",
     "name": "stdout",
     "text": [
      "### X ###\n               precision    recall  f1-score   support\n\n         0.0       0.79      0.73      0.76     67664\n         1.0       0.32      0.80      0.46      4029\n         2.0       0.28      0.31      0.30      4164\n         3.0       0.72      0.67      0.69     18652\n         4.0       0.29      0.28      0.29     18656\n\n    accuracy                           0.64    113165\n   macro avg       0.48      0.56      0.50    113165\nweighted avg       0.66      0.64      0.64    113165\n\n### Xp ###\n               precision    recall  f1-score   support\n\n         0.0       0.79      0.48      0.60     67664\n         1.0       0.30      0.38      0.33      4029\n         2.0       0.12      0.53      0.20      4164\n         3.0       0.74      0.52      0.61     18652\n         4.0       0.24      0.46      0.32     18656\n\n    accuracy                           0.48    113165\n   macro avg       0.44      0.48      0.41    113165\nweighted avg       0.65      0.48      0.53    113165\n\n"
     ]
    }
   ],
   "source": [
    "from sklearn.tree import DecisionTreeClassifier \n",
    "criterion = 'gini'\n",
    "splitter = 'random'\n",
    "max_depth = 10\n",
    "min_samples_leaf = 1\n",
    "min_impurity_decrease = 1E-5 # impurity improvement needed to split\n",
    "ccp_alpha = 1E-3\n",
    "\n",
    "seed = 42\n",
    "\n",
    "dtc = DecisionTreeClassifier(criterion=criterion, splitter=splitter, max_depth=max_depth, min_samples_leaf=min_samples_leaf, min_impurity_decrease=min_impurity_decrease, ccp_alpha=ccp_alpha, random_state=seed)\n",
    "dtc.fit(train_X, train_Y)\n",
    "\n",
    "dtc_p = DecisionTreeClassifier(criterion=criterion, splitter=splitter, max_depth=max_depth, min_samples_leaf=min_samples_leaf, min_impurity_decrease=min_impurity_decrease, ccp_alpha=ccp_alpha, random_state=seed)\n",
    "dtc_p.fit(train_Xp, train_Y)\n",
    "\n",
    "print_report([dtc, dtc_p], [test_X, test_Xp], test_Y, [\"X\", \"Xp\"])\n",
    "\n",
    "export_model(dtc, 'dt_x')\n",
    "export_model(dtc_p, 'dt_xp')"
   ]
  },
  {
   "source": [
    "# Random Forest\n",
    "Parameters:\n",
    "- n\\_estimators: _100_ def=100\n",
    "- criterion: _gini_, entropy\n",
    "- max\\_depth: _None_ def=None\n",
    "- min\\_samples\\_leaf (to construct leaf): _2_ def=1\n",
    "- min\\_impurity\\_decrease (split if the impurity is then decreased by): _1E-5_ default=0\n",
    "- bootstrap (if bootstraped sample is used): _True_ def=True\n"
   ],
   "cell_type": "markdown",
   "metadata": {}
  },
  {
   "cell_type": "code",
   "execution_count": 31,
   "metadata": {},
   "outputs": [
    {
     "output_type": "stream",
     "name": "stdout",
     "text": [
      "### X ###\n",
      "               precision    recall  f1-score   support\n",
      "\n",
      "         0.0       0.82      0.44      0.57     67664\n",
      "         1.0       0.37      0.78      0.50      4029\n",
      "         2.0       0.28      0.50      0.36      4164\n",
      "         3.0       0.75      0.64      0.69     18652\n",
      "         4.0       0.27      0.64      0.38     18656\n",
      "\n",
      "    accuracy                           0.52    113165\n",
      "   macro avg       0.50      0.60      0.50    113165\n",
      "weighted avg       0.68      0.52      0.55    113165\n",
      "\n",
      "### Xp ###\n",
      "               precision    recall  f1-score   support\n",
      "\n",
      "         0.0       0.81      0.44      0.57     67664\n",
      "         1.0       0.36      0.76      0.49      4029\n",
      "         2.0       0.27      0.51      0.35      4164\n",
      "         3.0       0.74      0.61      0.67     18652\n",
      "         4.0       0.27      0.64      0.37     18656\n",
      "\n",
      "    accuracy                           0.52    113165\n",
      "   macro avg       0.49      0.59      0.49    113165\n",
      "weighted avg       0.68      0.52      0.54    113165\n",
      "\n"
     ]
    }
   ],
   "source": [
    "from sklearn.ensemble import RandomForestClassifier\n",
    "n_estimators = 100\n",
    "criterion = 'gini'\n",
    "max_depth = None\n",
    "min_samples_leaf = 2\n",
    "min_impurity_decrease = 1E-5\n",
    "bootstrap=True\n",
    "\n",
    "seed = 42\n",
    "\n",
    "rfc = RandomForestClassifier(n_estimators=n_estimators, criterion=criterion, max_depth=max_depth, min_samples_leaf=min_samples_leaf, min_impurity_decrease=min_impurity_decrease, bootstrap=bootstrap, random_state=seed)\n",
    "rfc.fit(train_X, train_Y)\n",
    "\n",
    "rfc_p = RandomForestClassifier(n_estimators=n_estimators, criterion=criterion, max_depth=max_depth, min_samples_leaf=min_samples_leaf, min_impurity_decrease=min_impurity_decrease, bootstrap=bootstrap, random_state=seed)\n",
    "rfc_p.fit(train_Xp, train_Y)\n",
    "\n",
    "print_report([rfc, rfc_p], [test_X, test_Xp], test_Y, [\"X\", \"Xp\"])\n",
    "\n",
    "export_model(rfc, 'rf_x')\n",
    "export_model(rfc_p, 'rf_xp')"
   ]
  },
  {
   "cell_type": "code",
   "execution_count": 29,
   "metadata": {},
   "outputs": [
    {
     "output_type": "stream",
     "name": "stdout",
     "text": [
      "### X ###\n",
      "               precision    recall  f1-score   support\n",
      "\n",
      "         0.0       0.82      0.42      0.56     67664\n",
      "         1.0       0.37      0.77      0.50      4029\n",
      "         2.0       0.28      0.51      0.36      4164\n",
      "         3.0       0.75      0.64      0.69     18652\n",
      "         4.0       0.26      0.66      0.38     18656\n",
      "\n",
      "    accuracy                           0.51    113165\n",
      "   macro avg       0.50      0.60      0.50    113165\n",
      "weighted avg       0.68      0.51      0.54    113165\n",
      "\n",
      "### Xp ###\n",
      "               precision    recall  f1-score   support\n",
      "\n",
      "         0.0       0.81      0.42      0.55     67664\n",
      "         1.0       0.36      0.76      0.49      4029\n",
      "         2.0       0.27      0.51      0.35      4164\n",
      "         3.0       0.74      0.61      0.67     18652\n",
      "         4.0       0.26      0.66      0.38     18656\n",
      "\n",
      "    accuracy                           0.51    113165\n",
      "   macro avg       0.49      0.59      0.49    113165\n",
      "weighted avg       0.68      0.51      0.53    113165\n",
      "\n"
     ]
    }
   ],
   "source": [
    "\n",
    "print_report([rfc, rfc_p], [test_X, test_Xp], test_Y, [\"X\", \"Xp\"])"
   ]
  },
  {
   "source": [
    "# Boosting\n",
    "Parameters:\n",
    "- base\\_estimator: None\n",
    "- n\\_estimators: 50\n",
    "- algorithm: samme.r\n",
    "- learning\\_rate: .3\n"
   ],
   "cell_type": "markdown",
   "metadata": {}
  },
  {
   "cell_type": "code",
   "execution_count": 35,
   "metadata": {},
   "outputs": [
    {
     "output_type": "stream",
     "name": "stdout",
     "text": [
      "### X ###\n",
      "               precision    recall  f1-score   support\n",
      "\n",
      "         0.0       0.70      0.20      0.31     67664\n",
      "         1.0       0.32      0.68      0.43      4029\n",
      "         2.0       0.28      0.56      0.38      4164\n",
      "         3.0       0.75      0.60      0.67     18652\n",
      "         4.0       0.21      0.70      0.32     18656\n",
      "\n",
      "    accuracy                           0.38    113165\n",
      "   macro avg       0.45      0.55      0.42    113165\n",
      "weighted avg       0.60      0.38      0.38    113165\n",
      "\n",
      "### Xp ###\n",
      "               precision    recall  f1-score   support\n",
      "\n",
      "         0.0       0.66      0.68      0.67     67664\n",
      "         1.0       0.50      0.38      0.43      4029\n",
      "         2.0       0.28      0.40      0.33      4164\n",
      "         3.0       0.59      0.28      0.38     18652\n",
      "         4.0       0.27      0.38      0.32     18656\n",
      "\n",
      "    accuracy                           0.54    113165\n",
      "   macro avg       0.46      0.42      0.42    113165\n",
      "weighted avg       0.57      0.54      0.54    113165\n",
      "\n"
     ]
    }
   ],
   "source": [
    "from sklearn.ensemble import AdaBoostClassifier\n",
    "base_estimator = None #SVC(kernel='linear')\n",
    "n_estimators = 50\n",
    "algo = 'SAMME.R'\n",
    "learning_rate = .3\n",
    "\n",
    "bc = AdaBoostClassifier(base_estimator=base_estimator, n_estimators=n_estimators, algorithm=algo, learning_rate=learning_rate)\n",
    "bc.fit(train_X, train_Y)\n",
    "\n",
    "bc_p = AdaBoostClassifier(base_estimator=base_estimator, n_estimators=n_estimators, algorithm=algo, learning_rate=learning_rate)\n",
    "bc_p.fit(train_Xp, train_Y)\n",
    "\n",
    "print_report([bc, bc_p], [test_X, test_Xp], test_Y, [\"X\", \"Xp\"])\n",
    "\n",
    "export_model(bc, 'boost_x')\n",
    "export_model(bc_p, 'boost_xp')"
   ]
  }
 ]
}