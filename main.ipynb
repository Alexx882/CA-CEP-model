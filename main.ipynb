{
 "metadata": {
  "language_info": {
   "codemirror_mode": {
    "name": "ipython",
    "version": 3
   },
   "file_extension": ".py",
   "mimetype": "text/x-python",
   "name": "python",
   "nbconvert_exporter": "python",
   "pygments_lexer": "ipython3",
   "version": "3.7.6-final"
  },
  "orig_nbformat": 2,
  "kernelspec": {
   "name": "python3",
   "display_name": "Python 3.7.6 64-bit ('venv')",
   "metadata": {
    "interpreter": {
     "hash": "febc8ed225c173224913a33e4bcc13b4e98623c14b3011f9df708a037d5d8a22"
    }
   }
  }
 },
 "nbformat": 4,
 "nbformat_minor": 2,
 "cells": [
  {
   "source": [
    "# Community Prediction based on Taxi Dataset"
   ],
   "cell_type": "markdown",
   "metadata": {}
  },
  {
   "source": [
    "## Load dataset\n",
    "1. TRIP_ID: (String) It contains an unique identifier for each trip;\n",
    "1. CALL_TYPE: (char) It identifies the way used to demand this service. It may contain one of three possible values:\n",
    "    - ‘A’ if this trip was dispatched from the central;\n",
    "    - ‘B’ if this trip was demanded directly to a taxi driver on a specific stand;\n",
    "    - ‘C’ otherwise (i.e. a trip demanded on a random street).\n",
    "1. ORIGIN_CALL: (integer) It contains an unique identifier for each phone number which was used to demand, at least, one service. It identifies the trip’s customer if CALL_TYPE=’A’. Otherwise, it assumes a NULL value;\n",
    "1. ORIGIN_STAND: (integer): It contains an unique identifier for the taxi stand. It identifies the starting point of the trip if CALL_TYPE=’B’. Otherwise, it assumes a NULL value;\n",
    "1. TAXI_ID: (integer): It contains an unique identifier for the taxi driver that performed each trip;\n",
    "1. TIMESTAMP: (integer) Unix Timestamp (in seconds). It identifies the trip’s start; \n",
    "1. DAYTYPE: (char) It identifies the daytype of the trip’s start. It assumes one of three possible values:\n",
    "    - ‘B’ if this trip started on a holiday or any other special day (i.e. extending holidays, floating holidays, etc.);\n",
    "    - ‘C’ if the trip started on a day before a type-B day;\n",
    "    - ‘A’ otherwise (i.e. a normal day, workday or weekend).\n",
    "1. MISSING_DATA: (Boolean) It is FALSE when the GPS data stream is complete and TRUE whenever one (or more) locations are missing\n",
    "1. POLYLINE: (String): It contains a list of GPS coordinates (i.e. WGS84 format) mapped as a string. The beginning and the end of the string are identified with brackets (i.e. \\[ and \\], respectively). Each pair of coordinates is also identified by the same brackets as \\[LONGITUDE, LATITUDE\\]. This list contains one pair of coordinates for each 15 seconds of trip. The last list item corresponds to the trip’s destination while the first one represents its start;\n"
   ],
   "cell_type": "markdown",
   "metadata": {}
  },
  {
   "cell_type": "code",
   "execution_count": null,
   "metadata": {},
   "outputs": [],
   "source": [
    "import csv\n",
    "import json\n",
    "from datetime import datetime\n",
    "from typing import Iterator\n",
    "\n",
    "enum_mapping = {'A': 1, 'B': 2, 'C': 3}\n",
    "\n",
    "def load_csv_content() -> Iterator:\n",
    "    '''Returns a generator for all lines in the csv file with correct field types.'''\n",
    "    \n",
    "    with open('train.csv') as csv_file:\n",
    "        reader = csv.reader(csv_file)    \n",
    "\n",
    "        headers = [h.lower() for h in next(reader)]\n",
    "\n",
    "        for line in reader:\n",
    "            # convert line fields to correct type\n",
    "            for i in range(len(headers)):\n",
    "                # trip_id AS string\n",
    "                if i == 0:\n",
    "                    continue\n",
    "                # call_type, day_type \n",
    "                if i in [1, 6]:\n",
    "                    line[i] = enum_mapping[line[i]]\n",
    "                # origin_call, origin_stand, taxi_id AS int\n",
    "                elif i in [2, 3, 4]:\n",
    "                    line[i] = int(line[i]) if line[i] != \"\" else \"\"\n",
    "                # timestamp AS timestamp\n",
    "                elif i == 5:\n",
    "                    # datetime is not serializable\n",
    "                    # line[i] = datetime.fromtimestamp(int(line[i]))\n",
    "                    line[i] = int(line[i])\n",
    "                # missing_data AS bool\n",
    "                elif i == 7: \n",
    "                    line[i] = line[i].lower() == 'true'\n",
    "                # polyline AS List[List[float]]\n",
    "                elif i == 8:\n",
    "                    line[i] = json.loads(line[i])\n",
    "\n",
    "            entry = dict(zip(headers, line))\n",
    "            yield entry\n"
   ]
  },
  {
   "cell_type": "code",
   "execution_count": null,
   "metadata": {},
   "outputs": [],
   "source": [
    "print(next(load_csv_content()))"
   ]
  },
  {
   "source": [
    "## Display some dataset routes"
   ],
   "cell_type": "markdown",
   "metadata": {}
  },
  {
   "cell_type": "code",
   "execution_count": null,
   "metadata": {},
   "outputs": [],
   "source": [
    "from typing import List\n",
    "import folium\n",
    "\n",
    "def displayNodes(nodes: List[List[float]]):  \n",
    "    '''\n",
    "    Displays the nodes on a map of the city.\n",
    "\n",
    "    :param nodes: A list of coordinates, eg. [[1,2],[1,3]]\n",
    "    '''\n",
    "    m = folium.Map(location=[41.15,-8.6],tiles='stamenterrain',zoom_start=12, control_scale=True) \n",
    "\n",
    "    for idx, node in enumerate(nodes): \n",
    "        popupLabel = idx\n",
    "\n",
    "        folium.Marker(\n",
    "          location=[node[1], node[0]],\n",
    "          #popup='Cluster Nr: '+ str(node.cluster_no),\n",
    "          popup=popupLabel,\n",
    "          icon=folium.Icon(color='red', icon='circle'),\n",
    "        ).add_to(m)\n",
    "      \n",
    "    display(m)"
   ]
  },
  {
   "cell_type": "code",
   "execution_count": null,
   "metadata": {},
   "outputs": [],
   "source": [
    "content = load_csv_content()"
   ]
  },
  {
   "cell_type": "code",
   "execution_count": null,
   "metadata": {},
   "outputs": [],
   "source": [
    "displayNodes(next(content)['polyline'])"
   ]
  },
  {
   "source": [
    "# Model Training"
   ],
   "cell_type": "markdown",
   "metadata": {}
  },
  {
   "source": [
    "## Split dataset in multiple layers\n",
    "Use the SMART pipeline to split up the data in multiple layers. <br />\n",
    "Therefore, upload the csv file to the Semantic Linking microservice for layer creation. Next, the Role Stage Discovery microservice will cluster the individual layers.\n",
    "\n",
    "## Define features per cluster/ layer\n",
    "### \"Local\" features based on single clusters\n",
    "- cluster size\n",
    "- cluster variance (variance from cluster mean)\n",
    "- cluster density (ratio $\\frac{cluster\\ range}{\\#\\ cluster\\ nodes}$ )\n",
    "- (cluster trustworthiness)\n",
    "### \"Global\" features based on clusters in the context of a layer\n",
    "- cluster importance I (ratio $\\frac{\\#\\ cluster\\ nodes}{\\#\\ layer\\ nodes}$)\n",
    "- cluster importance II (ratio $\\frac{1}{diversity}$, where diversity = number of clusters with nodes > 0)"
   ],
   "cell_type": "markdown",
   "metadata": {}
  }
 ]
}