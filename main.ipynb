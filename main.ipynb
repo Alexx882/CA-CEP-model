{
 "metadata": {
  "language_info": {
   "codemirror_mode": {
    "name": "ipython",
    "version": 3
   },
   "file_extension": ".py",
   "mimetype": "text/x-python",
   "name": "python",
   "nbconvert_exporter": "python",
   "pygments_lexer": "ipython3",
   "version": "3.7.6-final"
  },
  "orig_nbformat": 2,
  "kernelspec": {
   "name": "python3",
   "display_name": "Python 3.7.6 64-bit ('venv')",
   "metadata": {
    "interpreter": {
     "hash": "febc8ed225c173224913a33e4bcc13b4e98623c14b3011f9df708a037d5d8a22"
    }
   }
  }
 },
 "nbformat": 4,
 "nbformat_minor": 2,
 "cells": [
  {
   "source": [
    "# Community Prediction based on Taxi Dataset"
   ],
   "cell_type": "markdown",
   "metadata": {}
  },
  {
   "source": [
    "## Load dataset\n",
    "1. TRIP_ID: (String) It contains an unique identifier for each trip;\n",
    "1. CALL_TYPE: (char) It identifies the way used to demand this service. It may contain one of three possible values:\n",
    "    - ‘A’ if this trip was dispatched from the central;\n",
    "    - ‘B’ if this trip was demanded directly to a taxi driver on a specific stand;\n",
    "    - ‘C’ otherwise (i.e. a trip demanded on a random street).\n",
    "1. ORIGIN_CALL: (integer) It contains an unique identifier for each phone number which was used to demand, at least, one service. It identifies the trip’s customer if CALL_TYPE=’A’. Otherwise, it assumes a NULL value;\n",
    "1. ORIGIN_STAND: (integer): It contains an unique identifier for the taxi stand. It identifies the starting point of the trip if CALL_TYPE=’B’. Otherwise, it assumes a NULL value;\n",
    "1. TAXI_ID: (integer): It contains an unique identifier for the taxi driver that performed each trip;\n",
    "1. TIMESTAMP: (integer) Unix Timestamp (in seconds). It identifies the trip’s start; \n",
    "1. DAYTYPE: (char) It identifies the daytype of the trip’s start. It assumes one of three possible values:\n",
    "    - ‘B’ if this trip started on a holiday or any other special day (i.e. extending holidays, floating holidays, etc.);\n",
    "    - ‘C’ if the trip started on a day before a type-B day;\n",
    "    - ‘A’ otherwise (i.e. a normal day, workday or weekend).\n",
    "1. MISSING_DATA: (Boolean) It is FALSE when the GPS data stream is complete and TRUE whenever one (or more) locations are missing\n",
    "1. POLYLINE: (String): It contains a list of GPS coordinates (i.e. WGS84 format) mapped as a string. The beginning and the end of the string are identified with brackets (i.e. \\[ and \\], respectively). Each pair of coordinates is also identified by the same brackets as \\[LONGITUDE, LATITUDE\\]. This list contains one pair of coordinates for each 15 seconds of trip. The last list item corresponds to the trip’s destination while the first one represents its start;\n"
   ],
   "cell_type": "markdown",
   "metadata": {}
  },
  {
   "cell_type": "code",
   "execution_count": null,
   "metadata": {},
   "outputs": [],
   "source": [
    "import csv\n",
    "import json\n",
    "from datetime import datetime\n",
    "from typing import Iterator\n",
    "\n",
    "enum_mapping = {'A': 1, 'B': 2, 'C': 3}\n",
    "\n",
    "def load_csv_content() -> Iterator:\n",
    "    '''Returns a generator for all lines in the csv file with correct field types.'''\n",
    "    \n",
    "    with open('train.csv') as csv_file:\n",
    "        reader = csv.reader(csv_file)    \n",
    "\n",
    "        headers = [h.lower() for h in next(reader)]\n",
    "\n",
    "        for line in reader:\n",
    "            # convert line fields to correct type\n",
    "            for i in range(len(headers)):\n",
    "                # trip_id AS string\n",
    "                if i == 0:\n",
    "                    continue\n",
    "                # call_type, day_type \n",
    "                if i in [1, 6]:\n",
    "                    line[i] = enum_mapping[line[i]]\n",
    "                # origin_call, origin_stand, taxi_id AS int\n",
    "                elif i in [2, 3, 4]:\n",
    "                    line[i] = int(line[i]) if line[i] != \"\" else \"\"\n",
    "                # timestamp AS timestamp\n",
    "                elif i == 5:\n",
    "                    # datetime is not serializable\n",
    "                    # line[i] = datetime.fromtimestamp(int(line[i]))\n",
    "                    line[i] = int(line[i])\n",
    "                # missing_data AS bool\n",
    "                elif i == 7: \n",
    "                    line[i] = line[i].lower() == 'true'\n",
    "                # polyline AS List[List[float]]\n",
    "                elif i == 8:\n",
    "                    line[i] = json.loads(line[i])\n",
    "\n",
    "            entry = dict(zip(headers, line))\n",
    "            yield entry\n"
   ]
  },
  {
   "cell_type": "code",
   "execution_count": null,
   "metadata": {},
   "outputs": [],
   "source": [
    "print(next(load_csv_content()))"
   ]
  },
  {
   "source": [
    "## Display some dataset routes"
   ],
   "cell_type": "markdown",
   "metadata": {}
  },
  {
   "cell_type": "code",
   "execution_count": null,
   "metadata": {},
   "outputs": [],
   "source": [
    "from typing import List\n",
    "import folium\n",
    "\n",
    "def displayNodes(nodes: List[List[float]]):  \n",
    "    '''\n",
    "    Displays the nodes on a map of the city.\n",
    "\n",
    "    :param nodes: A list of coordinates, eg. [[1,2],[1,3]]\n",
    "    '''\n",
    "    m = folium.Map(location=[41.15,-8.6],tiles='stamenterrain',zoom_start=12, control_scale=True) \n",
    "\n",
    "    for idx, node in enumerate(nodes): \n",
    "        popupLabel = idx\n",
    "\n",
    "        folium.Marker(\n",
    "          location=[node[1], node[0]],\n",
    "          #popup='Cluster Nr: '+ str(node.cluster_no),\n",
    "          popup=popupLabel,\n",
    "          icon=folium.Icon(color='red', icon='circle'),\n",
    "        ).add_to(m)\n",
    "      \n",
    "    display(m)"
   ]
  },
  {
   "cell_type": "code",
   "execution_count": null,
   "metadata": {},
   "outputs": [],
   "source": [
    "content = load_csv_content()"
   ]
  },
  {
   "cell_type": "code",
   "execution_count": null,
   "metadata": {},
   "outputs": [],
   "source": [
    "displayNodes(next(content)['polyline'])"
   ]
  },
  {
   "source": [
    "# Model Training"
   ],
   "cell_type": "markdown",
   "metadata": {}
  },
  {
   "source": [
    "## Split dataset in multiple layers\n",
    "Use the SMART pipeline to split up the data in multiple layers. <br />\n",
    "Therefore, upload the csv file to the Semantic Linking microservice for layer creation. Next, the Role Stage Discovery microservice will cluster the individual layers.\n",
    "\n",
    "## Define features per cluster/ layer\n",
    "### \"Local\" features based on single clusters\n",
    "- cluster size\n",
    "- cluster variance (variance from cluster mean)\n",
    "- cluster density (ratio $\\frac{cluster\\ range}{\\#\\ cluster\\ nodes}$ )\n",
    "- (cluster trustworthiness)\n",
    "### \"Global\" features based on clusters in the context of a layer\n",
    "- cluster importance I (ratio $\\frac{\\#\\ cluster\\ nodes}{\\#\\ layer\\ nodes}$)\n",
    "- cluster importance II (ratio $\\frac{1}{diversity}$, where *diversity* = number of clusters with nodes > 0)"
   ],
   "cell_type": "markdown",
   "metadata": {}
  },
  {
   "cell_type": "code",
   "execution_count": 10,
   "metadata": {
    "tags": []
   },
   "outputs": [],
   "source": [
    "# create the metrics for the clusters\n",
    "\n",
    "from typing import List\n",
    "import json\n",
    "import os\n",
    "from entities import TimeWindow, Cluster\n",
    "\n",
    "def calculate_metrics_for_clusters(layer_name: str = 'CallTypeLayer', feature_name: str = 'call_type'):\n",
    "    path_in = f'timeslices/{layer_name}'\n",
    "    path_out = f\"metrics/{layer_name}.json\"\n",
    "\n",
    "    complete_clusters: List[Cluster] = []\n",
    "\n",
    "    for root, _, files in os.walk(path_in):\n",
    "        for f in files:\n",
    "            print(f\"Working on file: {root}/{f}\")\n",
    "            with open(os.path.join(root, f), 'r') as file:\n",
    "                json_slice = json.loads(file.read())\n",
    "                time_window = TimeWindow.create_from_serializable_dict(json_slice)\n",
    "\n",
    "                # create all clusters + metrics for one time window\n",
    "                clusters = Cluster.create_from_time_window(time_window, feature_name)\n",
    "                complete_clusters.extend(clusters)\n",
    "        \n",
    "    # store the cluster metrics\n",
    "    with open(path_out, 'w') as file:\n",
    "        file.write(json.dumps([cl.__dict__ for cl in complete_clusters]))"
   ]
  },
  {
   "cell_type": "code",
   "execution_count": 11,
   "metadata": {},
   "outputs": [
    {
     "output_type": "stream",
     "name": "stdout",
     "text": [
      "Working on file: timeslices/CallTypeLayer/2013_27.json\n",
      "Working on file: timeslices/CallTypeLayer/2013_28.json\n",
      "Working on file: timeslices/CallTypeLayer/2013_29.json\n",
      "Working on file: timeslices/CallTypeLayer/2013_30.json\n",
      "Working on file: timeslices/CallTypeLayer/2013_31.json\n",
      "Working on file: timeslices/CallTypeLayer/2013_32.json\n",
      "Working on file: timeslices/CallTypeLayer/2013_33.json\n",
      "Working on file: timeslices/CallTypeLayer/2013_34.json\n",
      "Working on file: timeslices/CallTypeLayer/2013_35.json\n",
      "Working on file: timeslices/CallTypeLayer/2013_36.json\n",
      "Working on file: timeslices/CallTypeLayer/2013_37.json\n",
      "Working on file: timeslices/CallTypeLayer/2013_38.json\n",
      "Working on file: timeslices/CallTypeLayer/2013_39.json\n",
      "Working on file: timeslices/CallTypeLayer/2013_40.json\n",
      "Working on file: timeslices/CallTypeLayer/2013_41.json\n",
      "Working on file: timeslices/CallTypeLayer/2013_42.json\n",
      "Working on file: timeslices/CallTypeLayer/2013_43.json\n",
      "Working on file: timeslices/CallTypeLayer/2013_44.json\n",
      "Working on file: timeslices/CallTypeLayer/2013_45.json\n",
      "Working on file: timeslices/CallTypeLayer/2013_46.json\n",
      "Working on file: timeslices/CallTypeLayer/2013_47.json\n",
      "Working on file: timeslices/CallTypeLayer/2013_48.json\n",
      "Working on file: timeslices/CallTypeLayer/2013_49.json\n",
      "Working on file: timeslices/CallTypeLayer/2013_50.json\n",
      "Working on file: timeslices/CallTypeLayer/2013_51.json\n",
      "Working on file: timeslices/CallTypeLayer/2013_52.json\n",
      "Working on file: timeslices/CallTypeLayer/2014_1.json\n",
      "Working on file: timeslices/CallTypeLayer/2014_10.json\n",
      "Working on file: timeslices/CallTypeLayer/2014_11.json\n",
      "Working on file: timeslices/CallTypeLayer/2014_12.json\n",
      "Working on file: timeslices/CallTypeLayer/2014_13.json\n",
      "Working on file: timeslices/CallTypeLayer/2014_14.json\n",
      "Working on file: timeslices/CallTypeLayer/2014_15.json\n",
      "Working on file: timeslices/CallTypeLayer/2014_16.json\n",
      "Working on file: timeslices/CallTypeLayer/2014_17.json\n",
      "Working on file: timeslices/CallTypeLayer/2014_18.json\n",
      "Working on file: timeslices/CallTypeLayer/2014_19.json\n",
      "Working on file: timeslices/CallTypeLayer/2014_2.json\n",
      "Working on file: timeslices/CallTypeLayer/2014_20.json\n",
      "Working on file: timeslices/CallTypeLayer/2014_21.json\n",
      "Working on file: timeslices/CallTypeLayer/2014_22.json\n",
      "Working on file: timeslices/CallTypeLayer/2014_23.json\n",
      "Working on file: timeslices/CallTypeLayer/2014_24.json\n",
      "Working on file: timeslices/CallTypeLayer/2014_25.json\n",
      "Working on file: timeslices/CallTypeLayer/2014_26.json\n",
      "Working on file: timeslices/CallTypeLayer/2014_27.json\n",
      "Working on file: timeslices/CallTypeLayer/2014_3.json\n",
      "Working on file: timeslices/CallTypeLayer/2014_4.json\n",
      "Working on file: timeslices/CallTypeLayer/2014_5.json\n",
      "Working on file: timeslices/CallTypeLayer/2014_6.json\n",
      "Working on file: timeslices/CallTypeLayer/2014_7.json\n",
      "Working on file: timeslices/CallTypeLayer/2014_8.json\n",
      "Working on file: timeslices/CallTypeLayer/2014_9.json\n"
     ]
    }
   ],
   "source": [
    "calculate_metrics_for_clusters()"
   ]
  },
  {
   "cell_type": "code",
   "execution_count": null,
   "metadata": {},
   "outputs": [],
   "source": [
    "# create dummy dataset for development\n",
    "\n",
    "def create_data(N: int = 3):\n",
    "    \"\"\"\n",
    "    A single training data point should look like this:\n",
    "\n",
    "    (cluster_size, cluster_variance, cluster_density, cluster_import1, cluster_import2) ^ N, evolution_label\n",
    "\n",
    "    The first tuple represents metrics from the cluster in t_i-(N-1).\n",
    "    The Nth tuple represents metrics from the cluster in t_i.\n",
    "    The label is one of {continuing, shrinking, growing, dissolving, forming} \\ {splitting, merging}.\n",
    "\n",
    "    :param N: number of cluster metric tuples\n",
    "    \"\"\"\n",
    "    pass"
   ]
  },
  {
   "source": [
    "## Approach\n",
    "\n",
    "### 1. Prediction of cluster evolution based on metrics from clusters in one layer\n",
    "Use cluster metrics from last N time windows to predict the change in $t_{i+1}$.\n",
    "Either use normal classification with $(cluster\\_metrics)^{N} \\cup (label)$ or choose a RNN.\n",
    "\n",
    "### 2. Prediction of cluster evolution based on metrics from cluster interaction between multiple layers\n",
    "*todo*"
   ],
   "cell_type": "markdown",
   "metadata": {}
  }
 ]
}