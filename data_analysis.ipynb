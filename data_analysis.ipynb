{
 "metadata": {
  "language_info": {
   "codemirror_mode": {
    "name": "ipython",
    "version": 3
   },
   "file_extension": ".py",
   "mimetype": "text/x-python",
   "name": "python",
   "nbconvert_exporter": "python",
   "pygments_lexer": "ipython3",
   "version": "3.7.8"
  },
  "orig_nbformat": 2,
  "kernelspec": {
   "name": "pythonjvsc74a57bd0ac79ad19892b6e891e8d97ca5fdbb2e2457e6e4ba8b10fb20aa9e37280e031f3",
   "display_name": "Python 3.7.8 64-bit ('venv': venv)"
  },
  "metadata": {
   "interpreter": {
    "hash": "ac79ad19892b6e891e8d97ca5fdbb2e2457e6e4ba8b10fb20aa9e37280e031f3"
   }
  }
 },
 "nbformat": 4,
 "nbformat_minor": 2,
 "cells": [
  {
   "source": [
    "# Number Clusters"
   ],
   "cell_type": "markdown",
   "metadata": {}
  },
  {
   "cell_type": "code",
   "execution_count": null,
   "metadata": {},
   "outputs": [],
   "source": [
    "import os\n",
    "import json\n",
    "\n",
    "layer = 'ViewsLayer'\n",
    "for r, _, files in os.walk('data/youtube/raw/clusters/'):\n",
    "    for f in files:\n",
    "        with open(f'data/youtube/raw/clusters/{f}', 'r') as fh:\n",
    "            clusters = json.loads(fh.read())\n",
    "            print(f\"{f}: {len(clusters)}\")\n"
   ]
  },
  {
   "cell_type": "code",
   "execution_count": null,
   "metadata": {},
   "outputs": [],
   "source": [
    "len(clusters)"
   ]
  },
  {
   "source": [
    "# Class distribution"
   ],
   "cell_type": "markdown",
   "metadata": {}
  },
  {
   "cell_type": "code",
   "execution_count": null,
   "metadata": {},
   "outputs": [],
   "source": [
    "import pandas as pd\n",
    "from pandas import DataFrame\n",
    "\n",
    "layer = 'LikesLayer'\n",
    "\n",
    "df = pd.read_csv(f'data/youtube/ml_input/single_context/{layer}.csv', index_col=0)"
   ]
  },
  {
   "cell_type": "code",
   "execution_count": null,
   "metadata": {},
   "outputs": [],
   "source": [
    "df['evolution_label'].value_counts()"
   ]
  },
  {
   "cell_type": "code",
   "execution_count": null,
   "metadata": {},
   "outputs": [],
   "source": [
    "from sklearn.preprocessing import StandardScaler\n",
    "import numpy as np\n",
    "\n",
    "X: np.ndarray = StandardScaler().fit_transform(df)[:,:-1] # all except y\n",
    "y: pd.Series  = df[df.columns[-1]]"
   ]
  },
  {
   "cell_type": "code",
   "execution_count": null,
   "metadata": {},
   "outputs": [],
   "source": [
    "# Print class sizes\r\n",
    "y.value_counts()"
   ]
  },
  {
   "cell_type": "code",
   "execution_count": null,
   "metadata": {},
   "outputs": [],
   "source": [
    "def undersample(X, y, strategy='not minority') -> ('X', 'y'):\n",
    "    '''Undersampling so all class sizes equal minority class size.'''\n",
    "    from imblearn.under_sampling import RandomUnderSampler\n",
    "\n",
    "    rus = RandomUnderSampler(random_state=42, sampling_strategy=strategy)\n",
    "    X_undersampled, y_undersampled = rus.fit_resample(X, y)\n",
    "\n",
    "    return X_undersampled, y_undersampled"
   ]
  },
  {
   "cell_type": "code",
   "execution_count": null,
   "metadata": {},
   "outputs": [],
   "source": [
    "def oversample(X, y) -> ('X', 'y'):\n",
    "    '''Oversample based on SMOTE so all class sizes equal majority class size.'''\n",
    "    from imblearn.over_sampling import SMOTE\n",
    "\n",
    "    sm = SMOTE(random_state=42)\n",
    "    X_oversampled, Y_oversampled = sm.fit_resample(X, y)\n",
    "\n",
    "    return X_oversampled, Y_oversampled"
   ]
  },
  {
   "cell_type": "code",
   "execution_count": null,
   "metadata": {},
   "outputs": [],
   "source": [
    "import pandas as pd\n",
    "\n",
    "def sample_median_size(X, y: pd.Series) -> ('X', 'y'):\n",
    "    '''Sample the median class size for all classes.'''\n",
    "    median = int(y.value_counts().median())\n",
    "    sampling_sizes = {k: min(median, y.value_counts()[k]) for k in y.unique()}\n",
    "\n",
    "    # undersample the larger classes to median size\n",
    "    X, y = undersample(X, y, strategy=sampling_sizes)\n",
    "    \n",
    "    # oversample the smaller classes to median size\n",
    "    X, y = oversample(X, y)\n",
    "\n",
    "    return X, y"
   ]
  },
  {
   "cell_type": "code",
   "execution_count": null,
   "metadata": {},
   "outputs": [],
   "source": [
    "X_s, y_s = sample_median_size(X, y)\n",
    "\n",
    "y_s.value_counts()"
   ]
  }
 ]
}