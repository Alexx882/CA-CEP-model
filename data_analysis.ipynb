{
 "cells": [
  {
   "cell_type": "markdown",
   "metadata": {},
   "source": [
    "# Number Clusters"
   ]
  },
  {
   "cell_type": "code",
   "execution_count": null,
   "metadata": {},
   "outputs": [],
   "source": [
    "import os\n",
    "import json\n",
    "\n",
    "layer = 'ViewsLayer'\n",
    "for r, _, files in os.walk('data/youtube/raw/clusters/'):\n",
    "    for f in files:\n",
    "        with open(f'data/youtube/raw/clusters/{f}', 'r') as fh:\n",
    "            clusters = json.loads(fh.read())\n",
    "            print(f\"{f}: {len(clusters)}\")\n"
   ]
  },
  {
   "cell_type": "code",
   "execution_count": null,
   "metadata": {},
   "outputs": [],
   "source": [
    "len(clusters)"
   ]
  },
  {
   "cell_type": "markdown",
   "metadata": {},
   "source": [
    "# Class distribution"
   ]
  },
  {
   "cell_type": "code",
   "execution_count": null,
   "metadata": {},
   "outputs": [],
   "source": [
    "import pandas as pd\n",
    "from pandas import DataFrame\n",
    "\n",
    "layer = 'LikesLayer'\n",
    "\n",
    "df = pd.read_csv(f'data/youtube/ml_input/single_context/{layer}.csv', index_col=0)"
   ]
  },
  {
   "cell_type": "code",
   "execution_count": null,
   "metadata": {},
   "outputs": [],
   "source": [
    "df['evolution_label'].value_counts()"
   ]
  },
  {
   "cell_type": "code",
   "execution_count": null,
   "metadata": {},
   "outputs": [],
   "source": [
    "from sklearn.preprocessing import StandardScaler\n",
    "import numpy as np\n",
    "\n",
    "X: np.ndarray = StandardScaler().fit_transform(df)[:,:-1] # all except y\n",
    "y: pd.Series  = df[df.columns[-1]]"
   ]
  },
  {
   "cell_type": "code",
   "execution_count": null,
   "metadata": {},
   "outputs": [],
   "source": [
    "# Print class sizes\n",
    "y.value_counts()"
   ]
  },
  {
   "cell_type": "code",
   "execution_count": null,
   "metadata": {},
   "outputs": [],
   "source": [
    "def undersample(X, y, strategy='not minority') -> ('X', 'y'):\n",
    "    '''Undersampling so all class sizes equal minority class size.'''\n",
    "    from imblearn.under_sampling import RandomUnderSampler\n",
    "\n",
    "    rus = RandomUnderSampler(random_state=42, sampling_strategy=strategy)\n",
    "    X_undersampled, y_undersampled = rus.fit_resample(X, y)\n",
    "\n",
    "    return X_undersampled, y_undersampled"
   ]
  },
  {
   "cell_type": "code",
   "execution_count": null,
   "metadata": {},
   "outputs": [],
   "source": [
    "def oversample(X, y) -> ('X', 'y'):\n",
    "    '''Oversample based on SMOTE so all class sizes equal majority class size.'''\n",
    "    from imblearn.over_sampling import SMOTE\n",
    "\n",
    "    sm = SMOTE(random_state=42)\n",
    "    X_oversampled, Y_oversampled = sm.fit_resample(X, y)\n",
    "\n",
    "    return X_oversampled, Y_oversampled"
   ]
  },
  {
   "cell_type": "code",
   "execution_count": null,
   "metadata": {},
   "outputs": [],
   "source": [
    "import pandas as pd\n",
    "\n",
    "def sample_median_size(X, y: pd.Series) -> ('X', 'y'):\n",
    "    '''Sample the median class size for all classes.'''\n",
    "    median = int(y.value_counts().median())\n",
    "    sampling_sizes = {k: min(median, y.value_counts()[k]) for k in y.unique()}\n",
    "\n",
    "    # undersample the larger classes to median size\n",
    "    X, y = undersample(X, y, strategy=sampling_sizes)\n",
    "    \n",
    "    # oversample the smaller classes to median size\n",
    "    X, y = oversample(X, y)\n",
    "\n",
    "    return X, y"
   ]
  },
  {
   "cell_type": "code",
   "execution_count": null,
   "metadata": {},
   "outputs": [],
   "source": [
    "X_s, y_s = sample_median_size(X, y)\n",
    "\n",
    "y_s.value_counts()"
   ]
  },
  {
   "cell_type": "markdown",
   "metadata": {},
   "source": [
    "# Single-context naive prediction"
   ]
  },
  {
   "cell_type": "code",
   "execution_count": null,
   "metadata": {},
   "outputs": [],
   "source": [
    "import pandas as pd\n",
    "from pandas import DataFrame\n",
    "\n",
    "use_case = 'youtube'\n",
    "layer_name = 'LikesLayer'\n",
    "\n",
    "df: DataFrame = pd.read_csv(f'data/{use_case}/ml_input/single_context/{layer_name}.csv', index_col=0)\n",
    "df['evolution_label'] = df['evolution_label'].replace(-1.0, 0)"
   ]
  },
  {
   "cell_type": "code",
   "execution_count": null,
   "metadata": {},
   "outputs": [],
   "source": [
    "simple_df = df[['cluster_size', 'cluster_size.1', 'cluster_size.2', 'evolution_label']]\n",
    "simple_df"
   ]
  },
  {
   "cell_type": "code",
   "execution_count": null,
   "metadata": {},
   "outputs": [],
   "source": [
    "def get_evolution_label(old_size: int, new_size: int) -> int:\n",
    "    '''Returns the evolution label as int by mapping 0..4 to {continuing, shrinking, growing, dissolving, forming}.'''\n",
    "    if old_size == 0 and new_size == 0:\n",
    "        return 0 # STILL EMPTY\n",
    "    if old_size == new_size:\n",
    "        return 0 # continuing\n",
    "    if old_size == 0 and new_size > 0:\n",
    "        return 4 # forming\n",
    "    if old_size > 0 and new_size == 0:\n",
    "        return 3 # dissolving\n",
    "    if old_size > new_size:\n",
    "        return 1 # shrinking\n",
    "    if old_size < new_size:\n",
    "        return 2 # growing"
   ]
  },
  {
   "cell_type": "code",
   "execution_count": null,
   "metadata": {},
   "outputs": [],
   "source": [
    "simple_df['prediction'] = simple_df.apply(lambda row: get_evolution_label(old_size=row['cluster_size.1'], new_size=row['cluster_size.2']), axis=1)"
   ]
  },
  {
   "cell_type": "code",
   "execution_count": null,
   "metadata": {},
   "outputs": [],
   "source": [
    "simple_df_test = simple_df.sample(frac=.2).reset_index(drop=True)"
   ]
  },
  {
   "cell_type": "code",
   "execution_count": null,
   "metadata": {},
   "outputs": [],
   "source": [
    "import sklearn.metrics\n",
    "    \n",
    "print(sklearn.metrics.classification_report(y_true=simple_df_test['evolution_label'], y_pred=simple_df_test['prediction']))"
   ]
  },
  {
   "cell_type": "code",
   "execution_count": null,
   "metadata": {},
   "outputs": [],
   "source": [
    "test_dataset_frac = .2\n",
    "dataframe = df\n",
    "training_size = int(len(dataframe) * (1-test_dataset_frac))\n",
    "\n",
    "train = dataframe[:training_size]\n",
    "test = dataframe[training_size:]\n",
    "\n",
    "Y_train = train[train.columns[-1]]\n",
    "Y_test = test[test.columns[-1]]"
   ]
  },
  {
   "cell_type": "code",
   "execution_count": null,
   "metadata": {},
   "outputs": [],
   "source": [
    "import sklearn\n",
    "import statistics as stat\n",
    "import random\n",
    "\n",
    "def show_majority_class_prediction():\n",
    "    print(\"### Majority Class Prediction: ###\")\n",
    "\n",
    "    majority_class = stat.mode(Y_train)\n",
    "    try:\n",
    "        print(f\"Training majority class = {stat.mode(Y_train)}, Test majority class = {stat.mode(Y_test)}\") \n",
    "    except stat.StatisticsError:\n",
    "        print(f\"Label Majority Class: no unique mode; found 2 equally common values\")\n",
    "\n",
    "    pred_Y = len(Y_test) * [majority_class]\n",
    "    print(sklearn.metrics.classification_report(y_true=Y_test, y_pred=pred_Y))\n",
    "\n",
    "    \n",
    "def show_random_prediction():\n",
    "    print(\"### Random Class Prediction: ###\")\n",
    "\n",
    "    classes = list(set(Y_train))\n",
    "    print(f\"Classes: {classes}\")\n",
    "\n",
    "    pred_Y = random.choices(classes, k=len(Y_test))\n",
    "    print(sklearn.metrics.classification_report(y_true=Y_test, y_pred=pred_Y))\n",
    "\n",
    "\n",
    "show_majority_class_prediction()\n",
    "show_random_prediction()"
   ]
  },
  {
   "cell_type": "markdown",
   "metadata": {},
   "source": [
    "# Cross-context naive prediction"
   ]
  },
  {
   "cell_type": "code",
   "execution_count": null,
   "metadata": {},
   "outputs": [],
   "source": [
    "import pandas as pd\n",
    "from pandas import DataFrame\n",
    "\n",
    "use_case = 'youtube'\n",
    "layer_name = 'LikesLayer'\n",
    "reference_layer_name = 'ViewsLayer'\n",
    "\n",
    "df: DataFrame = pd.read_csv(f'data/{use_case}/ml_input/cross_context/{layer_name}_{reference_layer_name}.csv', index_col=0)\n",
    "df['evolution_label'] = df['evolution_label'].replace(-1.0, 0)"
   ]
  },
  {
   "cell_type": "code",
   "execution_count": null,
   "metadata": {},
   "outputs": [],
   "source": [
    "df"
   ]
  },
  {
   "cell_type": "code",
   "execution_count": null,
   "metadata": {},
   "outputs": [],
   "source": [
    "simple_df = df[['n_nodes', 'n_nodes.1', 'evolution_label']]\n",
    "simple_df"
   ]
  },
  {
   "cell_type": "code",
   "execution_count": null,
   "metadata": {},
   "outputs": [],
   "source": [
    "simple_df['prediction'] = simple_df.apply(lambda row: get_evolution_label(old_size=row['n_nodes'], new_size=row['n_nodes.1']), axis=1)"
   ]
  },
  {
   "cell_type": "code",
   "execution_count": null,
   "metadata": {},
   "outputs": [],
   "source": [
    "simple_df_test = simple_df.sample(frac=.2).reset_index(drop=True)"
   ]
  },
  {
   "cell_type": "code",
   "execution_count": null,
   "metadata": {},
   "outputs": [],
   "source": [
    "import sklearn.metrics\n",
    "    \n",
    "print(sklearn.metrics.classification_report(y_true=simple_df_test['evolution_label'], y_pred=simple_df_test['prediction']))"
   ]
  },
  {
   "cell_type": "markdown",
   "metadata": {},
   "source": [
    "# Community Visualizations"
   ]
  },
  {
   "cell_type": "code",
   "execution_count": null,
   "metadata": {},
   "outputs": [],
   "source": [
    "import os\n",
    "import json\n",
    "from entities import TimeWindow\n",
    "\n",
    "dataset = 'taxi'\n",
    "layer = 'StartLocationLayer'\n",
    "feature_name = 'likes'\n",
    "\n",
    "time_windows = []\n",
    "\n",
    "for r, _, files in os.walk(f'data/{dataset}/raw/timeslices/{layer}'):\n",
    "    # sort by year, week\n",
    "    files.sort(key=lambda name: [int(n) for n in name[:-5].split('_')])\n",
    "\n",
    "    for f in files:\n",
    "        with open(os.path.join(r, f), 'r') as fh:\n",
    "            clusters = json.loads(fh.read())\n",
    "\n",
    "            time_window = TimeWindow.create_from_serializable_dict(clusters)\n",
    "            time_windows.append(time_window)"
   ]
  },
  {
   "cell_type": "code",
   "execution_count": null,
   "metadata": {},
   "outputs": [],
   "source": [
    "from typing import List\n",
    "import folium\n",
    "\n",
    "def displayNodes(nodes: List[List[float]]):  \n",
    "    '''\n",
    "    Displays the nodes on a map of the city.\n",
    "\n",
    "    :param nodes: A list of coordinates, eg. [[1,2],[1,3]]\n",
    "    '''\n",
    "    m = folium.Map(location=[41.15,-8.6],tiles='stamenterrain',zoom_start=12, control_scale=True) \n",
    "    # marker_cluster = folium.MarkerCluster().add_to(m)\n",
    "\n",
    "    for idx, node in enumerate(nodes): \n",
    "        popupLabel = idx\n",
    "\n",
    "        folium.Marker(\n",
    "          location=[node[1], node[0]],\n",
    "          #popup='Cluster Nr: '+ str(node.cluster_no),\n",
    "          popup=popupLabel,\n",
    "          icon=folium.Icon(color='red', icon='circle'),\n",
    "        ).add_to(m)\n",
    "      \n",
    "    display(m)"
   ]
  },
  {
   "cell_type": "code",
   "execution_count": null,
   "metadata": {},
   "outputs": [],
   "source": [
    "from typing import List\n",
    "\n",
    "class Cluster:\n",
    "    def __init__(self, nodes: List):\n",
    "        \n",
    "        calc = ClusterMetricsCalculator2D(nodes, ['start_location_lat', 'start_location_long'], 0 , 0)\n",
    "\n",
    "        self.nodes = nodes\n",
    "        self.center = calc.get_center()\n",
    "        self.size = calc.get_size()"
   ]
  },
  {
   "cell_type": "code",
   "execution_count": null,
   "metadata": {},
   "outputs": [],
   "source": [
    "len(time_windows)"
   ]
  },
  {
   "cell_type": "code",
   "execution_count": null,
   "metadata": {},
   "outputs": [],
   "source": [
    "import matplotlib.pyplot as plt\n",
    "\n",
    "def plot_clusters(clusters):\n",
    "\n",
    "    threshold =  12\n",
    "\n",
    "    plt.figure()\n",
    "    plt.scatter(\n",
    "        [c.center[0] for c in clusters if c.size > threshold],\n",
    "        [c.center[1] for c in clusters if c.size > threshold], \n",
    "        s=[c.size*10 for c in clusters if c.size > threshold],\n",
    "        # c=labels,\n",
    "        alpha = 0.5)\n",
    "\n",
    "    plt.show()  "
   ]
  },
  {
   "cell_type": "code",
   "execution_count": null,
   "metadata": {},
   "outputs": [],
   "source": [
    "from processing import ClusterMetricsCalculator2D\n",
    "\n",
    "time_window = time_windows[1]\n",
    "for time_window in time_windows[2:3]:\n",
    "    clusters = {}\n",
    "\n",
    "    for k, nodes in time_window.clusters.items():\n",
    "        clusters[k] = Cluster(nodes)\n",
    "\n",
    "    # plot_clusters(clusters)\n"
   ]
  },
  {
   "cell_type": "code",
   "execution_count": null,
   "metadata": {},
   "outputs": [],
   "source": [
    "tw1 = {k:v for k, v in clusters.items() if v.size > 10}"
   ]
  },
  {
   "cell_type": "code",
   "execution_count": null,
   "metadata": {},
   "outputs": [],
   "source": [
    "tw2 = {k:v for k, v in clusters.items() if (k in tw1)}"
   ]
  },
  {
   "cell_type": "code",
   "execution_count": null,
   "metadata": {},
   "outputs": [],
   "source": [
    "[v.size for k,v  in tw1.items()]"
   ]
  },
  {
   "cell_type": "code",
   "execution_count": null,
   "metadata": {},
   "outputs": [],
   "source": [
    "[v.size for k,v  in tw2.items()]"
   ]
  },
  {
   "cell_type": "code",
   "execution_count": null,
   "metadata": {},
   "outputs": [],
   "source": [
    "X = []\n",
    "cols = []\n",
    "for idx, nodes in enumerate([c.nodes for k, c in tw2.items()]):\n",
    "    X.extend([(n['start_location_lat'], n['start_location_long']) for n in nodes])\n",
    "\n",
    "    cc = [idx] * len(nodes)\n",
    "    cols.extend(cc)\n",
    "\n"
   ]
  },
  {
   "cell_type": "code",
   "execution_count": null,
   "metadata": {},
   "outputs": [],
   "source": [
    "X[0]"
   ]
  },
  {
   "cell_type": "code",
   "execution_count": null,
   "metadata": {},
   "outputs": [],
   "source": [
    "import matplotlib.pyplot as plt\n",
    "import numpy as np\n",
    "\n",
    "X = np.asarray(X)\n",
    "\n",
    "plt.figure()\n",
    "plt.scatter(\n",
    "    X[:,0],\n",
    "    X[:,1], \n",
    "    c=cols,\n",
    "    s=2,\n",
    "    alpha = 0.5)\n",
    "\n",
    "plt.show()"
   ]
  },
  {
   "cell_type": "code",
   "execution_count": null,
   "metadata": {},
   "outputs": [],
   "source": []
  },
  {
   "cell_type": "code",
   "execution_count": null,
   "metadata": {},
   "outputs": [],
   "source": []
  },
  {
   "cell_type": "code",
   "execution_count": null,
   "metadata": {},
   "outputs": [],
   "source": [
    "def get_features(time_window):\n",
    "    X = []\n",
    "\n",
    "    for k, nodes in time_window.clusters.items():\n",
    "        nodes = [(n['start_location_lat'], n['start_location_long']) for n in nodes]\n",
    "        X.extend(nodes)\n",
    "    \n",
    "    return X\n",
    "\n",
    "X = get_features(time_windows[-2])"
   ]
  },
  {
   "cell_type": "code",
   "execution_count": null,
   "metadata": {},
   "outputs": [],
   "source": [
    "import numpy as np\n",
    "X_embedded = np.asarray(X)"
   ]
  },
  {
   "cell_type": "code",
   "execution_count": null,
   "metadata": {},
   "outputs": [],
   "source": [
    "# reshape because tsne wants min 2 features\n",
    "import numpy as np\n",
    "X = np.array(X).reshape(-1, 1)"
   ]
  },
  {
   "cell_type": "code",
   "execution_count": null,
   "metadata": {},
   "outputs": [],
   "source": [
    "from sklearn.manifold import TSNE\n",
    "X_embedded = TSNE(n_components=2).fit_transform(X)"
   ]
  },
  {
   "cell_type": "code",
   "execution_count": null,
   "metadata": {},
   "outputs": [],
   "source": [
    "import matplotlib.pyplot as plt\n",
    "\n",
    "\n",
    "plt.figure()\n",
    "plt.scatter(X_embedded[:,0],X_embedded[:,1], \n",
    "c=cols,\n",
    "s=2, alpha = 0.5)\n",
    "\n",
    "plt.show()"
   ]
  },
  {
   "cell_type": "code",
   "execution_count": null,
   "metadata": {},
   "outputs": [],
   "source": [
    "import math\n",
    "\n",
    "def rotate(point, angle):\n",
    "    \"\"\"\n",
    "    Rotate a point counterclockwise by a given angle around a given origin.\n",
    "\n",
    "    The angle should be given in radians.\n",
    "    \"\"\"\n",
    "    ox, oy = (0,0)\n",
    "    px, py = point\n",
    "\n",
    "    qx = ox + math.cos(angle) * (px - ox) - math.sin(angle) * (py - oy)\n",
    "    qy = oy + math.sin(angle) * (px - ox) + math.cos(angle) * (py - oy)\n",
    "    return qx, qy\n"
   ]
  },
  {
   "cell_type": "code",
   "execution_count": null,
   "metadata": {},
   "outputs": [],
   "source": [
    "newX = []\n",
    "for p in X_embedded:\n",
    "    newX.append(rotate(p, math.radians(40)))\n",
    "\n",
    "newX = np.asarray(newX)"
   ]
  },
  {
   "cell_type": "code",
   "execution_count": null,
   "metadata": {},
   "outputs": [],
   "source": [
    "import matplotlib.pyplot as plt\n",
    "\n",
    "\n",
    "plt.figure()\n",
    "plt.scatter(newX[:,0],newX[:,1], \n",
    "c=cols,\n",
    "s=2, alpha = 0.5)\n",
    "\n",
    "plt.show()"
   ]
  },
  {
   "cell_type": "markdown",
   "metadata": {},
   "source": [
    "# Community Visualization (reduced)"
   ]
  },
  {
   "cell_type": "markdown",
   "metadata": {},
   "source": [
    "## Start Location"
   ]
  },
  {
   "cell_type": "code",
   "execution_count": null,
   "metadata": {},
   "outputs": [],
   "source": [
    "import os\n",
    "import json\n",
    "from entities import TimeWindow\n",
    "\n",
    "dataset = 'taxi'\n",
    "layer = 'StartLocationLayer'\n",
    "\n",
    "\n",
    "time_windows = []\n",
    "\n",
    "for r, _, files in os.walk(f'data/{dataset}/raw/timeslices/{layer}'):\n",
    "    # sort by year, week\n",
    "    files.sort(key=lambda name: [int(n) for n in name[:-5].split('_')])\n",
    "\n",
    "    for f in files:\n",
    "        with open(os.path.join(r, f), 'r') as fh:\n",
    "            clusters = json.loads(fh.read())\n",
    "\n",
    "            time_window = TimeWindow.create_from_serializable_dict(clusters)\n",
    "            time_windows.append(time_window)"
   ]
  },
  {
   "cell_type": "code",
   "execution_count": null,
   "metadata": {},
   "outputs": [],
   "source": [
    "from typing import List\n",
    "from processing import ClusterMetricsCalculator2D\n",
    "\n",
    "feature_name = ['start_location_lat','start_location_long']\n",
    "\n",
    "class Cluster:\n",
    "    def __init__(self, nodes: List):\n",
    "        \n",
    "        calc = ClusterMetricsCalculator2D(nodes, feature_name, 0 , 0)\n",
    "\n",
    "        self.nodes = nodes\n",
    "        self.center = calc.get_center()\n",
    "        self.size = calc.get_size()"
   ]
  },
  {
   "cell_type": "code",
   "execution_count": null,
   "metadata": {},
   "outputs": [],
   "source": [
    "ts_old = 1"
   ]
  },
  {
   "cell_type": "code",
   "execution_count": null,
   "metadata": {},
   "outputs": [],
   "source": [
    "time_window = time_windows[ts_old]\n",
    "\n",
    "clusters = {}\n",
    "\n",
    "for k, nodes in time_window.clusters.items():\n",
    "    clusters[k] = Cluster(nodes)\n"
   ]
  },
  {
   "cell_type": "code",
   "execution_count": null,
   "metadata": {},
   "outputs": [],
   "source": [
    "time_window.time"
   ]
  },
  {
   "cell_type": "code",
   "execution_count": null,
   "metadata": {},
   "outputs": [],
   "source": [
    "time_window = time_windows[ts_old+1]\n",
    "    \n",
    "clusters2 = {}\n",
    "\n",
    "for k, nodes in time_window.clusters.items():\n",
    "    clusters2[k] = Cluster(nodes)\n"
   ]
  },
  {
   "cell_type": "code",
   "execution_count": null,
   "metadata": {},
   "outputs": [],
   "source": [
    "class Evolution:\n",
    "    def __init__(self, k, c1, c2):\n",
    "        self.k = k\n",
    "        self.c1 = c1\n",
    "        self.c2 = c2"
   ]
  },
  {
   "cell_type": "code",
   "execution_count": null,
   "metadata": {},
   "outputs": [],
   "source": [
    "threshold = 13\n",
    "large_keys = [k for k, c in clusters.items() if c.size >= threshold] + [k for k, c in clusters2.items() if c.size >= threshold]\n",
    "len(large_keys)"
   ]
  },
  {
   "cell_type": "code",
   "execution_count": null,
   "metadata": {},
   "outputs": [],
   "source": [
    "threshold = 10\n",
    "large_keys = [k for k, c in clusters.items() if c.size >= threshold] + [k for k, c in clusters2.items() if c.size >= threshold]\n",
    "large_keys = list(set(large_keys))\n",
    "large_keys.sort()\n",
    "\n",
    "old, new = {}, {}\n",
    "\n",
    "for k in large_keys:\n",
    "    c1 = clusters[k]\n",
    "    c2 = clusters2[k]\n",
    "    # print(k, c1.center[0], \": \", c1.size, c2.size)\n",
    "\n",
    "    # if abs(c1.size - c2.size) > c1.size*.3 \\\n",
    "    #     and c1.center[0] > 25:\n",
    "    #     print(c1.center[0])\n",
    "\n",
    "    old[k] = c1\n",
    "    new[k] = c2"
   ]
  },
  {
   "cell_type": "code",
   "execution_count": null,
   "metadata": {},
   "outputs": [],
   "source": []
  },
  {
   "cell_type": "code",
   "execution_count": null,
   "metadata": {},
   "outputs": [],
   "source": [
    "for c in [v for (k, v) in clusters.items() if k in large_keys]:\n",
    "    print(c.center)"
   ]
  },
  {
   "cell_type": "code",
   "execution_count": null,
   "metadata": {},
   "outputs": [],
   "source": [
    "c_combined = []\n",
    "\n",
    "for c in [v for (k, v) in clusters.items() if k in large_keys]:\n",
    "    for cn in c_combined:\n",
    "        if max(abs(c.center[0]-cn.center[0]), .0005) == .0005 \\\n",
    "        or max(abs(c.center[1]-cn.center[1]), .0005) == .0005:\n",
    "            # found a matching cluster\n",
    "            cn.size += c.size\n",
    "            break\n",
    "    else:\n",
    "        c_combined.append(c)\n",
    "    \n",
    "[c.center for c in c_combined]"
   ]
  },
  {
   "cell_type": "code",
   "execution_count": null,
   "metadata": {},
   "outputs": [],
   "source": [
    "c2_combined = []\n",
    "\n",
    "for c in [v for (k, v) in clusters2.items() if k in large_keys]:\n",
    "    for cn in c2_combined:\n",
    "        if max(abs(c.center[0]-cn.center[0]), .0005) == .0005 \\\n",
    "        or max(abs(c.center[1]-cn.center[1]), .0005) == .0005:\n",
    "            # found a matching cluster\n",
    "            cn.size += c.size\n",
    "            break\n",
    "    else:\n",
    "        c2_combined.append(c)\n",
    "    \n",
    "[c.center for c in c2_combined]"
   ]
  },
  {
   "cell_type": "code",
   "execution_count": null,
   "metadata": {},
   "outputs": [],
   "source": [
    "displayNodes([cluster.center for (k, cluster) in clusters.items() if k in large_keys])"
   ]
  },
  {
   "cell_type": "code",
   "execution_count": null,
   "metadata": {},
   "outputs": [],
   "source": [
    "[c.center for c in c_combined]"
   ]
  },
  {
   "cell_type": "code",
   "execution_count": null,
   "metadata": {},
   "outputs": [],
   "source": [
    "[c.center for c in c2_combined]"
   ]
  },
  {
   "cell_type": "code",
   "execution_count": null,
   "metadata": {},
   "outputs": [],
   "source": [
    "c_combined[4] = c_combined[-1]\n",
    "c_combined = c_combined[:5]"
   ]
  },
  {
   "cell_type": "code",
   "execution_count": null,
   "metadata": {},
   "outputs": [],
   "source": [
    "c2_combined = c2_combined[:-1]"
   ]
  },
  {
   "cell_type": "code",
   "execution_count": null,
   "metadata": {},
   "outputs": [],
   "source": [
    "displayNodes([c.center for c in c2_combined])"
   ]
  },
  {
   "cell_type": "code",
   "execution_count": null,
   "metadata": {},
   "outputs": [],
   "source": [
    "tmp = c2_combined[3]\n",
    "c2_combined[3] = c2_combined[4]\n",
    "c2_combined[4] = tmp"
   ]
  },
  {
   "cell_type": "code",
   "execution_count": null,
   "metadata": {},
   "outputs": [],
   "source": [
    "coords = [(float(\"{:.5f}\".format(c.center[1])), float(\"{:.5f}\".format(c.center[0]))) for c in c_combined]"
   ]
  },
  {
   "cell_type": "code",
   "execution_count": null,
   "metadata": {},
   "outputs": [],
   "source": [
    "# STORE DATA\n",
    "data = {\n",
    "    'c_combined': [c.__dict__ for c in c_combined],\n",
    "    'c2_combined': [c.__dict__ for c in c2_combined],\n",
    "    'coords': coords,\n",
    "}\n",
    "\n",
    "import json\n",
    "with open('start_loc_interpretation_data.json', 'w') as fh:\n",
    "    fh.write(json.dumps(data))"
   ]
  },
  {
   "cell_type": "code",
   "execution_count": 150,
   "metadata": {},
   "outputs": [
    {
     "data": {
      "image/png": "[encoded data removed]",
      "image/svg+xml": "<?xml version=\"1.0\" encoding=\"utf-8\" standalone=\"no\"?>\r\n<!DOCTYPE svg PUBLIC \"-//W3C//DTD SVG 1.1//EN\"\r\n  \"http://www.w3.org/Graphics/SVG/1.1/DTD/svg11.dtd\">\r\n<!-- Created with matplotlib (https://matplotlib.org/) -->\r\n<svg height=\"365.929226pt\" version=\"1.1\" viewBox=\"0 0 390.600781 365.929226\" width=\"390.600781pt\" xmlns=\"http://www.w3.org/2000/svg\" xmlns:xlink=\"http://www.w3.org/1999/xlink\">\r\n <defs>\r\n  <style type=\"text/css\">\r\n*{stroke-linecap:butt;stroke-linejoin:round;}\r\n  </style>\r\n </defs>\r\n <g id=\"figure_1\">\r\n  <g id=\"patch_1\">\r\n   <path d=\"M 0 365.929226 \r\nL 390.600781 365.929226 \r\nL 390.600781 0 \r\nL 0 0 \r\nz\r\n\" style=\"fill:none;\"/>\r\n  </g>\r\n  <g id=\"axes_1\">\r\n   <g id=\"patch_2\">\r\n    <path d=\"M 48.600781 224.64 \r\nL 383.400781 224.64 \r\nL 383.400781 7.2 \r\nL 48.600781 7.2 \r\nz\r\n\" style=\"fill:#ffffff;\"/>\r\n   </g>\r\n   <g id=\"PathCollection_1\">\r\n    <path clip-path=\"url(#p488701d6b2)\" d=\"M 104.400781 216.648894 \r\nC 111.892475 216.648894 119.078338 213.672412 124.375766 208.374984 \r\nC 129.673193 203.077557 132.649675 195.891694 132.649675 188.4 \r\nC 132.649675 180.908306 129.673193 173.722443 124.375766 168.425016 \r\nC 119.078338 163.127588 111.892475 160.151106 104.400781 160.151106 \r\nC 96.909087 160.151106 89.723225 163.127588 84.425797 168.425016 \r\nC 79.128369 173.722443 76.151887 180.908306 76.151887 188.4 \r\nC 76.151887 195.891694 79.128369 203.077557 84.425797 208.374984 \r\nC 89.723225 213.672412 96.909087 216.648894 104.400781 216.648894 \r\nz\r\n\" style=\"fill:#4d4d4d;stroke:#4d4d4d;\"/>\r\n    <path clip-path=\"url(#p488701d6b2)\" d=\"M 160.200781 195.163875 \r\nC 161.994582 195.163875 163.715154 194.45119 164.983563 193.182782 \r\nC 166.251971 191.914373 166.964656 190.193801 166.964656 188.4 \r\nC 166.964656 186.606199 166.251971 184.885627 164.983563 183.617218 \r\nC 163.715154 182.34881 161.994582 181.636125 160.200781 181.636125 \r\nC 158.406981 181.636125 156.686408 182.34881 155.418 183.617218 \r\nC 154.149591 184.885627 153.436907 186.606199 153.436907 188.4 \r\nC 153.436907 190.193801 154.149591 191.914373 155.418 193.182782 \r\nC 156.686408 194.45119 158.406981 195.163875 160.200781 195.163875 \r\nz\r\n\" style=\"fill:#8cdcda;stroke:#8cdcda;\"/>\r\n    <path clip-path=\"url(#p488701d6b2)\" d=\"M 216.000781 201.127922 \r\nC 219.376266 201.127922 222.613953 199.786828 225.000781 197.4 \r\nC 227.387609 195.013172 228.728703 191.775484 228.728703 188.4 \r\nC 228.728703 185.024516 227.387609 181.786828 225.000781 179.4 \r\nC 222.613953 177.013172 219.376266 175.672078 216.000781 175.672078 \r\nC 212.625297 175.672078 209.387609 177.013172 207.000781 179.4 \r\nC 204.613953 181.786828 203.272859 185.024516 203.272859 188.4 \r\nC 203.272859 191.775484 204.613953 195.013172 207.000781 197.4 \r\nC 209.387609 199.786828 212.625297 201.127922 216.000781 201.127922 \r\nz\r\n\" style=\"fill:#b1d877;stroke:#b1d877;\"/>\r\n    <path clip-path=\"url(#p488701d6b2)\" d=\"M 271.800781 189.266025 \r\nC 272.030454 189.266025 272.250751 189.174776 272.413154 189.012372 \r\nC 272.575557 188.849969 272.666807 188.629673 272.666807 188.4 \r\nC 272.666807 188.170327 272.575557 187.950031 272.413154 187.787628 \r\nC 272.250751 187.625224 272.030454 187.533975 271.800781 187.533975 \r\nC 271.571109 187.533975 271.350812 187.625224 271.188409 187.787628 \r\nC 271.026006 187.950031 270.934756 188.170327 270.934756 188.4 \r\nC 270.934756 188.629673 271.026006 188.849969 271.188409 189.012372 \r\nC 271.350812 189.174776 271.571109 189.266025 271.800781 189.266025 \r\nz\r\n\" style=\"fill:#f16a70;stroke:#f16a70;\"/>\r\n    <path clip-path=\"url(#p488701d6b2)\" d=\"M 327.600781 199.422704 \r\nC 330.524036 199.422704 333.327956 198.261282 335.39501 196.194229 \r\nC 337.462063 194.127175 338.623485 191.323255 338.623485 188.4 \r\nC 338.623485 185.476745 337.462063 182.672825 335.39501 180.605771 \r\nC 333.327956 178.538718 330.524036 177.377296 327.600781 177.377296 \r\nC 324.677526 177.377296 321.873606 178.538718 319.806553 180.605771 \r\nC 317.739499 182.672825 316.578077 185.476745 316.578077 188.4 \r\nC 316.578077 191.323255 317.739499 194.127175 319.806553 196.194229 \r\nC 321.873606 198.261282 324.677526 199.422704 327.600781 199.422704 \r\nz\r\n\" style=\"fill:#ffa500;stroke:#ffa500;\"/>\r\n   </g>\r\n   <g id=\"PathCollection_2\">\r\n    <path clip-path=\"url(#p488701d6b2)\" d=\"M 104.400781 136.596073 \r\nC 109.88414 136.596073 115.143653 134.417512 119.020973 130.540192 \r\nC 122.898293 126.662871 125.076854 121.403359 125.076854 115.92 \r\nC 125.076854 110.436641 122.898293 105.177129 119.020973 101.299808 \r\nC 115.143653 97.422488 109.88414 95.243927 104.400781 95.243927 \r\nC 98.917423 95.243927 93.65791 97.422488 89.78059 101.299808 \r\nC 85.90327 105.177129 83.724708 110.436641 83.724708 115.92 \r\nC 83.724708 121.403359 85.90327 126.662871 89.78059 130.540192 \r\nC 93.65791 134.417512 98.917423 136.596073 104.400781 136.596073 \r\nz\r\n\" style=\"fill:#4d4d4d;stroke:#4d4d4d;\"/>\r\n    <path clip-path=\"url(#p488701d6b2)\" d=\"M 160.200781 121.397226 \r\nC 161.653358 121.397226 163.046637 120.820111 164.073765 119.792983 \r\nC 165.100892 118.765856 165.678007 117.372577 165.678007 115.92 \r\nC 165.678007 114.467423 165.100892 113.074144 164.073765 112.047017 \r\nC 163.046637 111.019889 161.653358 110.442774 160.200781 110.442774 \r\nC 158.748204 110.442774 157.354925 111.019889 156.327798 112.047017 \r\nC 155.300671 113.074144 154.723556 114.467423 154.723556 115.92 \r\nC 154.723556 117.372577 155.300671 118.765856 156.327798 119.792983 \r\nC 157.354925 120.820111 158.748204 121.397226 160.200781 121.397226 \r\nz\r\n\" style=\"fill:#8cdcda;stroke:#8cdcda;\"/>\r\n    <path clip-path=\"url(#p488701d6b2)\" d=\"M 216.000781 125.166621 \r\nC 218.453014 125.166621 220.805139 124.192339 222.53913 122.458348 \r\nC 224.27312 120.724358 225.247402 118.372233 225.247402 115.92 \r\nC 225.247402 113.467767 224.27312 111.115642 222.53913 109.381652 \r\nC 220.805139 107.647661 218.453014 106.673379 216.000781 106.673379 \r\nC 213.548549 106.673379 211.196423 107.647661 209.462433 109.381652 \r\nC 207.728443 111.115642 206.75416 113.467767 206.75416 115.92 \r\nC 206.75416 118.372233 207.728443 120.724358 209.462433 122.458348 \r\nC 211.196423 124.192339 213.548549 125.166621 216.000781 125.166621 \r\nz\r\n\" style=\"fill:#b1d877;stroke:#b1d877;\"/>\r\n    <path clip-path=\"url(#p488701d6b2)\" d=\"M 271.800781 121.92 \r\nC 273.392 121.92 274.91826 121.287802 276.043422 120.162641 \r\nC 277.168583 119.037479 277.800781 117.511219 277.800781 115.92 \r\nC 277.800781 114.328781 277.168583 112.802521 276.043422 111.677359 \r\nC 274.91826 110.552198 273.392 109.92 271.800781 109.92 \r\nC 270.209563 109.92 268.683302 110.552198 267.558141 111.677359 \r\nC 266.432979 112.802521 265.800781 114.328781 265.800781 115.92 \r\nC 265.800781 117.511219 266.432979 119.037479 267.558141 120.162641 \r\nC 268.683302 121.287802 270.209563 121.92 271.800781 121.92 \r\nz\r\n\" style=\"fill:#f16a70;stroke:#f16a70;\"/>\r\n    <path clip-path=\"url(#p488701d6b2)\" d=\"M 327.600781 120.250127 \r\nC 328.749144 120.250127 329.850628 119.793878 330.662643 118.981862 \r\nC 331.474659 118.169847 331.930908 117.068363 331.930908 115.92 \r\nC 331.930908 114.771637 331.474659 113.670153 330.662643 112.858138 \r\nC 329.850628 112.046122 328.749144 111.589873 327.600781 111.589873 \r\nC 326.452418 111.589873 325.350934 112.046122 324.538919 112.858138 \r\nC 323.726904 113.670153 323.270654 114.771637 323.270654 115.92 \r\nC 323.270654 117.068363 323.726904 118.169847 324.538919 118.981862 \r\nC 325.350934 119.793878 326.452418 120.250127 327.600781 120.250127 \r\nz\r\n\" style=\"fill:#ffa500;stroke:#ffa500;\"/>\r\n   </g>\r\n   <g id=\"matplotlib.axis_1\">\r\n    <g id=\"xtick_1\">\r\n     <g id=\"line2d_1\">\r\n      <defs>\r\n       <path d=\"M 0 0 \r\nL 0 3.5 \r\n\" id=\"m36206a274c\" style=\"stroke:#000000;stroke-width:0.8;\"/>\r\n      </defs>\r\n      <g>\r\n       <use style=\"stroke:#000000;stroke-width:0.8;\" x=\"104.400781\" xlink:href=\"#m36206a274c\" y=\"224.64\"/>\r\n      </g>\r\n     </g>\r\n     <g id=\"text_1\">\r\n      <!-- (41.14857, -8.58564) -->\r\n      <defs>\r\n       <path d=\"M 23.390625 -21.046875 \r\nQ 16.109375 -11.859375 11.078125 0.4375 \r\nQ 6.0625 12.75 6.0625 25.921875 \r\nQ 6.0625 37.546875 9.8125 48.1875 \r\nQ 14.203125 60.546875 23.390625 72.796875 \r\nL 29.6875 72.796875 \r\nQ 23.78125 62.640625 21.875 58.296875 \r\nQ 18.890625 51.5625 17.1875 44.234375 \r\nQ 15.09375 35.109375 15.09375 25.875 \r\nQ 15.09375 2.390625 29.6875 -21.046875 \r\nz\r\n\" id=\"ArialMT-40\"/>\r\n       <path d=\"M 32.328125 0 \r\nL 32.328125 17.140625 \r\nL 1.265625 17.140625 \r\nL 1.265625 25.203125 \r\nL 33.9375 71.578125 \r\nL 41.109375 71.578125 \r\nL 41.109375 25.203125 \r\nL 50.78125 25.203125 \r\nL 50.78125 17.140625 \r\nL 41.109375 17.140625 \r\nL 41.109375 0 \r\nz\r\nM 32.328125 25.203125 \r\nL 32.328125 57.46875 \r\nL 9.90625 25.203125 \r\nz\r\n\" id=\"ArialMT-52\"/>\r\n       <path d=\"M 37.25 0 \r\nL 28.46875 0 \r\nL 28.46875 56 \r\nQ 25.296875 52.984375 20.140625 49.953125 \r\nQ 14.984375 46.921875 10.890625 45.40625 \r\nL 10.890625 53.90625 \r\nQ 18.265625 57.375 23.78125 62.296875 \r\nQ 29.296875 67.234375 31.59375 71.875 \r\nL 37.25 71.875 \r\nz\r\n\" id=\"ArialMT-49\"/>\r\n       <path d=\"M 9.078125 0 \r\nL 9.078125 10.015625 \r\nL 19.09375 10.015625 \r\nL 19.09375 0 \r\nz\r\n\" id=\"ArialMT-46\"/>\r\n       <path d=\"M 17.671875 38.8125 \r\nQ 12.203125 40.828125 9.5625 44.53125 \r\nQ 6.9375 48.25 6.9375 53.421875 \r\nQ 6.9375 61.234375 12.546875 66.546875 \r\nQ 18.171875 71.875 27.484375 71.875 \r\nQ 36.859375 71.875 42.578125 66.421875 \r\nQ 48.296875 60.984375 48.296875 53.171875 \r\nQ 48.296875 48.1875 45.671875 44.5 \r\nQ 43.0625 40.828125 37.75 38.8125 \r\nQ 44.34375 36.671875 47.78125 31.875 \r\nQ 51.21875 27.09375 51.21875 20.453125 \r\nQ 51.21875 11.28125 44.71875 5.03125 \r\nQ 38.234375 -1.21875 27.640625 -1.21875 \r\nQ 17.046875 -1.21875 10.546875 5.046875 \r\nQ 4.046875 11.328125 4.046875 20.703125 \r\nQ 4.046875 27.6875 7.59375 32.390625 \r\nQ 11.140625 37.109375 17.671875 38.8125 \r\nz\r\nM 15.921875 53.71875 \r\nQ 15.921875 48.640625 19.1875 45.40625 \r\nQ 22.46875 42.1875 27.6875 42.1875 \r\nQ 32.765625 42.1875 36.015625 45.375 \r\nQ 39.265625 48.578125 39.265625 53.21875 \r\nQ 39.265625 58.0625 35.90625 61.359375 \r\nQ 32.5625 64.65625 27.59375 64.65625 \r\nQ 22.5625 64.65625 19.234375 61.421875 \r\nQ 15.921875 58.203125 15.921875 53.71875 \r\nz\r\nM 13.09375 20.65625 \r\nQ 13.09375 16.890625 14.875 13.375 \r\nQ 16.65625 9.859375 20.171875 7.921875 \r\nQ 23.6875 6 27.734375 6 \r\nQ 34.03125 6 38.125 10.046875 \r\nQ 42.234375 14.109375 42.234375 20.359375 \r\nQ 42.234375 26.703125 38.015625 30.859375 \r\nQ 33.796875 35.015625 27.4375 35.015625 \r\nQ 21.234375 35.015625 17.15625 30.90625 \r\nQ 13.09375 26.8125 13.09375 20.65625 \r\nz\r\n\" id=\"ArialMT-56\"/>\r\n       <path d=\"M 4.15625 18.75 \r\nL 13.375 19.53125 \r\nQ 14.40625 12.796875 18.140625 9.390625 \r\nQ 21.875 6 27.15625 6 \r\nQ 33.5 6 37.890625 10.78125 \r\nQ 42.28125 15.578125 42.28125 23.484375 \r\nQ 42.28125 31 38.0625 35.34375 \r\nQ 33.84375 39.703125 27 39.703125 \r\nQ 22.75 39.703125 19.328125 37.765625 \r\nQ 15.921875 35.84375 13.96875 32.765625 \r\nL 5.71875 33.84375 \r\nL 12.640625 70.609375 \r\nL 48.25 70.609375 \r\nL 48.25 62.203125 \r\nL 19.671875 62.203125 \r\nL 15.828125 42.96875 \r\nQ 22.265625 47.46875 29.34375 47.46875 \r\nQ 38.71875 47.46875 45.15625 40.96875 \r\nQ 51.609375 34.46875 51.609375 24.265625 \r\nQ 51.609375 14.546875 45.953125 7.46875 \r\nQ 39.0625 -1.21875 27.15625 -1.21875 \r\nQ 17.390625 -1.21875 11.203125 4.25 \r\nQ 5.03125 9.71875 4.15625 18.75 \r\nz\r\n\" id=\"ArialMT-53\"/>\r\n       <path d=\"M 4.734375 62.203125 \r\nL 4.734375 70.65625 \r\nL 51.078125 70.65625 \r\nL 51.078125 63.8125 \r\nQ 44.234375 56.546875 37.515625 44.484375 \r\nQ 30.8125 32.421875 27.15625 19.671875 \r\nQ 24.515625 10.6875 23.78125 0 \r\nL 14.75 0 \r\nQ 14.890625 8.453125 18.0625 20.40625 \r\nQ 21.234375 32.375 27.171875 43.484375 \r\nQ 33.109375 54.59375 39.796875 62.203125 \r\nz\r\n\" id=\"ArialMT-55\"/>\r\n       <path d=\"M 8.890625 0 \r\nL 8.890625 10.015625 \r\nL 18.890625 10.015625 \r\nL 18.890625 0 \r\nQ 18.890625 -5.515625 16.9375 -8.90625 \r\nQ 14.984375 -12.3125 10.75 -14.15625 \r\nL 8.296875 -10.40625 \r\nQ 11.078125 -9.1875 12.390625 -6.8125 \r\nQ 13.71875 -4.4375 13.875 0 \r\nz\r\n\" id=\"ArialMT-44\"/>\r\n       <path id=\"ArialMT-32\"/>\r\n       <path d=\"M 3.171875 21.484375 \r\nL 3.171875 30.328125 \r\nL 30.171875 30.328125 \r\nL 30.171875 21.484375 \r\nz\r\n\" id=\"ArialMT-45\"/>\r\n       <path d=\"M 49.75 54.046875 \r\nL 41.015625 53.375 \r\nQ 39.84375 58.546875 37.703125 60.890625 \r\nQ 34.125 64.65625 28.90625 64.65625 \r\nQ 24.703125 64.65625 21.53125 62.3125 \r\nQ 17.390625 59.28125 14.984375 53.46875 \r\nQ 12.59375 47.65625 12.5 36.921875 \r\nQ 15.671875 41.75 20.265625 44.09375 \r\nQ 24.859375 46.4375 29.890625 46.4375 \r\nQ 38.671875 46.4375 44.84375 39.96875 \r\nQ 51.03125 33.5 51.03125 23.25 \r\nQ 51.03125 16.5 48.125 10.71875 \r\nQ 45.21875 4.9375 40.140625 1.859375 \r\nQ 35.0625 -1.21875 28.609375 -1.21875 \r\nQ 17.625 -1.21875 10.6875 6.859375 \r\nQ 3.765625 14.9375 3.765625 33.5 \r\nQ 3.765625 54.25 11.421875 63.671875 \r\nQ 18.109375 71.875 29.4375 71.875 \r\nQ 37.890625 71.875 43.28125 67.140625 \r\nQ 48.6875 62.40625 49.75 54.046875 \r\nz\r\nM 13.875 23.1875 \r\nQ 13.875 18.65625 15.796875 14.5 \r\nQ 17.71875 10.359375 21.1875 8.171875 \r\nQ 24.65625 6 28.46875 6 \r\nQ 34.03125 6 38.03125 10.484375 \r\nQ 42.046875 14.984375 42.046875 22.703125 \r\nQ 42.046875 30.125 38.078125 34.390625 \r\nQ 34.125 38.671875 28.125 38.671875 \r\nQ 22.171875 38.671875 18.015625 34.390625 \r\nQ 13.875 30.125 13.875 23.1875 \r\nz\r\n\" id=\"ArialMT-54\"/>\r\n       <path d=\"M 12.359375 -21.046875 \r\nL 6.0625 -21.046875 \r\nQ 20.65625 2.390625 20.65625 25.875 \r\nQ 20.65625 35.0625 18.5625 44.09375 \r\nQ 16.890625 51.421875 13.921875 58.15625 \r\nQ 12.015625 62.546875 6.0625 72.796875 \r\nL 12.359375 72.796875 \r\nQ 21.53125 60.546875 25.921875 48.1875 \r\nQ 29.6875 37.546875 29.6875 25.921875 \r\nQ 29.6875 12.75 24.625 0.4375 \r\nQ 19.578125 -11.859375 12.359375 -21.046875 \r\nz\r\n\" id=\"ArialMT-41\"/>\r\n      </defs>\r\n      <g transform=\"translate(57.615724 338.420306)rotate(-45)scale(0.15 -0.15)\">\r\n       <use xlink:href=\"#ArialMT-40\"/>\r\n       <use x=\"33.300781\" xlink:href=\"#ArialMT-52\"/>\r\n       <use x=\"88.916016\" xlink:href=\"#ArialMT-49\"/>\r\n       <use x=\"144.53125\" xlink:href=\"#ArialMT-46\"/>\r\n       <use x=\"172.314453\" xlink:href=\"#ArialMT-49\"/>\r\n       <use x=\"227.929688\" xlink:href=\"#ArialMT-52\"/>\r\n       <use x=\"283.544922\" xlink:href=\"#ArialMT-56\"/>\r\n       <use x=\"339.160156\" xlink:href=\"#ArialMT-53\"/>\r\n       <use x=\"394.775391\" xlink:href=\"#ArialMT-55\"/>\r\n       <use x=\"450.390625\" xlink:href=\"#ArialMT-44\"/>\r\n       <use x=\"478.173828\" xlink:href=\"#ArialMT-32\"/>\r\n       <use x=\"505.957031\" xlink:href=\"#ArialMT-45\"/>\r\n       <use x=\"539.257812\" xlink:href=\"#ArialMT-56\"/>\r\n       <use x=\"594.873047\" xlink:href=\"#ArialMT-46\"/>\r\n       <use x=\"622.65625\" xlink:href=\"#ArialMT-53\"/>\r\n       <use x=\"678.271484\" xlink:href=\"#ArialMT-56\"/>\r\n       <use x=\"733.886719\" xlink:href=\"#ArialMT-53\"/>\r\n       <use x=\"789.501953\" xlink:href=\"#ArialMT-54\"/>\r\n       <use x=\"845.117188\" xlink:href=\"#ArialMT-52\"/>\r\n       <use x=\"900.732422\" xlink:href=\"#ArialMT-41\"/>\r\n      </g>\r\n     </g>\r\n    </g>\r\n    <g id=\"xtick_2\">\r\n     <g id=\"line2d_2\">\r\n      <g>\r\n       <use style=\"stroke:#000000;stroke-width:0.8;\" x=\"160.200781\" xlink:href=\"#m36206a274c\" y=\"224.64\"/>\r\n      </g>\r\n     </g>\r\n     <g id=\"text_2\">\r\n      <!-- (41.18271, -8.60017) -->\r\n      <defs>\r\n       <path d=\"M 50.34375 8.453125 \r\nL 50.34375 0 \r\nL 3.03125 0 \r\nQ 2.9375 3.171875 4.046875 6.109375 \r\nQ 5.859375 10.9375 9.828125 15.625 \r\nQ 13.8125 20.3125 21.34375 26.46875 \r\nQ 33.015625 36.03125 37.109375 41.625 \r\nQ 41.21875 47.21875 41.21875 52.203125 \r\nQ 41.21875 57.421875 37.46875 61 \r\nQ 33.734375 64.59375 27.734375 64.59375 \r\nQ 21.390625 64.59375 17.578125 60.78125 \r\nQ 13.765625 56.984375 13.71875 50.25 \r\nL 4.6875 51.171875 \r\nQ 5.609375 61.28125 11.65625 66.578125 \r\nQ 17.71875 71.875 27.9375 71.875 \r\nQ 38.234375 71.875 44.234375 66.15625 \r\nQ 50.25 60.453125 50.25 52 \r\nQ 50.25 47.703125 48.484375 43.546875 \r\nQ 46.734375 39.40625 42.65625 34.8125 \r\nQ 38.578125 30.21875 29.109375 22.21875 \r\nQ 21.1875 15.578125 18.9375 13.203125 \r\nQ 16.703125 10.84375 15.234375 8.453125 \r\nz\r\n\" id=\"ArialMT-50\"/>\r\n       <path d=\"M 4.15625 35.296875 \r\nQ 4.15625 48 6.765625 55.734375 \r\nQ 9.375 63.484375 14.515625 67.671875 \r\nQ 19.671875 71.875 27.484375 71.875 \r\nQ 33.25 71.875 37.59375 69.546875 \r\nQ 41.9375 67.234375 44.765625 62.859375 \r\nQ 47.609375 58.5 49.21875 52.21875 \r\nQ 50.828125 45.953125 50.828125 35.296875 \r\nQ 50.828125 22.703125 48.234375 14.96875 \r\nQ 45.65625 7.234375 40.5 3 \r\nQ 35.359375 -1.21875 27.484375 -1.21875 \r\nQ 17.140625 -1.21875 11.234375 6.203125 \r\nQ 4.15625 15.140625 4.15625 35.296875 \r\nz\r\nM 13.1875 35.296875 \r\nQ 13.1875 17.671875 17.3125 11.828125 \r\nQ 21.4375 6 27.484375 6 \r\nQ 33.546875 6 37.671875 11.859375 \r\nQ 41.796875 17.71875 41.796875 35.296875 \r\nQ 41.796875 52.984375 37.671875 58.78125 \r\nQ 33.546875 64.59375 27.390625 64.59375 \r\nQ 21.34375 64.59375 17.71875 59.46875 \r\nQ 13.1875 52.9375 13.1875 35.296875 \r\nz\r\n\" id=\"ArialMT-48\"/>\r\n      </defs>\r\n      <g transform=\"translate(113.415724 338.420306)rotate(-45)scale(0.15 -0.15)\">\r\n       <use xlink:href=\"#ArialMT-40\"/>\r\n       <use x=\"33.300781\" xlink:href=\"#ArialMT-52\"/>\r\n       <use x=\"88.916016\" xlink:href=\"#ArialMT-49\"/>\r\n       <use x=\"144.53125\" xlink:href=\"#ArialMT-46\"/>\r\n       <use x=\"172.314453\" xlink:href=\"#ArialMT-49\"/>\r\n       <use x=\"227.929688\" xlink:href=\"#ArialMT-56\"/>\r\n       <use x=\"283.544922\" xlink:href=\"#ArialMT-50\"/>\r\n       <use x=\"339.160156\" xlink:href=\"#ArialMT-55\"/>\r\n       <use x=\"394.775391\" xlink:href=\"#ArialMT-49\"/>\r\n       <use x=\"450.390625\" xlink:href=\"#ArialMT-44\"/>\r\n       <use x=\"478.173828\" xlink:href=\"#ArialMT-32\"/>\r\n       <use x=\"505.957031\" xlink:href=\"#ArialMT-45\"/>\r\n       <use x=\"539.257812\" xlink:href=\"#ArialMT-56\"/>\r\n       <use x=\"594.873047\" xlink:href=\"#ArialMT-46\"/>\r\n       <use x=\"622.65625\" xlink:href=\"#ArialMT-54\"/>\r\n       <use x=\"678.271484\" xlink:href=\"#ArialMT-48\"/>\r\n       <use x=\"733.886719\" xlink:href=\"#ArialMT-48\"/>\r\n       <use x=\"789.501953\" xlink:href=\"#ArialMT-49\"/>\r\n       <use x=\"845.117188\" xlink:href=\"#ArialMT-55\"/>\r\n       <use x=\"900.732422\" xlink:href=\"#ArialMT-41\"/>\r\n      </g>\r\n     </g>\r\n    </g>\r\n    <g id=\"xtick_3\">\r\n     <g id=\"line2d_3\">\r\n      <g>\r\n       <use style=\"stroke:#000000;stroke-width:0.8;\" x=\"216.000781\" xlink:href=\"#m36206a274c\" y=\"224.64\"/>\r\n      </g>\r\n     </g>\r\n     <g id=\"text_3\">\r\n      <!-- (41.14915, -8.59924) -->\r\n      <defs>\r\n       <path d=\"M 5.46875 16.546875 \r\nL 13.921875 17.328125 \r\nQ 14.984375 11.375 18.015625 8.6875 \r\nQ 21.046875 6 25.78125 6 \r\nQ 29.828125 6 32.875 7.859375 \r\nQ 35.9375 9.71875 37.890625 12.8125 \r\nQ 39.84375 15.921875 41.15625 21.1875 \r\nQ 42.484375 26.46875 42.484375 31.9375 \r\nQ 42.484375 32.515625 42.4375 33.6875 \r\nQ 39.796875 29.5 35.234375 26.875 \r\nQ 30.671875 24.265625 25.34375 24.265625 \r\nQ 16.453125 24.265625 10.296875 30.703125 \r\nQ 4.15625 37.15625 4.15625 47.703125 \r\nQ 4.15625 58.59375 10.578125 65.234375 \r\nQ 17 71.875 26.65625 71.875 \r\nQ 33.640625 71.875 39.421875 68.109375 \r\nQ 45.21875 64.359375 48.21875 57.390625 \r\nQ 51.21875 50.4375 51.21875 37.25 \r\nQ 51.21875 23.53125 48.234375 15.40625 \r\nQ 45.265625 7.28125 39.375 3.03125 \r\nQ 33.5 -1.21875 25.59375 -1.21875 \r\nQ 17.1875 -1.21875 11.859375 3.4375 \r\nQ 6.546875 8.109375 5.46875 16.546875 \r\nz\r\nM 41.453125 48.140625 \r\nQ 41.453125 55.71875 37.421875 60.15625 \r\nQ 33.40625 64.59375 27.734375 64.59375 \r\nQ 21.875 64.59375 17.53125 59.8125 \r\nQ 13.1875 55.03125 13.1875 47.40625 \r\nQ 13.1875 40.578125 17.3125 36.296875 \r\nQ 21.4375 32.03125 27.484375 32.03125 \r\nQ 33.59375 32.03125 37.515625 36.296875 \r\nQ 41.453125 40.578125 41.453125 48.140625 \r\nz\r\n\" id=\"ArialMT-57\"/>\r\n      </defs>\r\n      <g transform=\"translate(169.215724 338.420306)rotate(-45)scale(0.15 -0.15)\">\r\n       <use xlink:href=\"#ArialMT-40\"/>\r\n       <use x=\"33.300781\" xlink:href=\"#ArialMT-52\"/>\r\n       <use x=\"88.916016\" xlink:href=\"#ArialMT-49\"/>\r\n       <use x=\"144.53125\" xlink:href=\"#ArialMT-46\"/>\r\n       <use x=\"172.314453\" xlink:href=\"#ArialMT-49\"/>\r\n       <use x=\"227.929688\" xlink:href=\"#ArialMT-52\"/>\r\n       <use x=\"283.544922\" xlink:href=\"#ArialMT-57\"/>\r\n       <use x=\"339.160156\" xlink:href=\"#ArialMT-49\"/>\r\n       <use x=\"394.775391\" xlink:href=\"#ArialMT-53\"/>\r\n       <use x=\"450.390625\" xlink:href=\"#ArialMT-44\"/>\r\n       <use x=\"478.173828\" xlink:href=\"#ArialMT-32\"/>\r\n       <use x=\"505.957031\" xlink:href=\"#ArialMT-45\"/>\r\n       <use x=\"539.257812\" xlink:href=\"#ArialMT-56\"/>\r\n       <use x=\"594.873047\" xlink:href=\"#ArialMT-46\"/>\r\n       <use x=\"622.65625\" xlink:href=\"#ArialMT-53\"/>\r\n       <use x=\"678.271484\" xlink:href=\"#ArialMT-57\"/>\r\n       <use x=\"733.886719\" xlink:href=\"#ArialMT-57\"/>\r\n       <use x=\"789.501953\" xlink:href=\"#ArialMT-50\"/>\r\n       <use x=\"845.117188\" xlink:href=\"#ArialMT-52\"/>\r\n       <use x=\"900.732422\" xlink:href=\"#ArialMT-41\"/>\r\n      </g>\r\n     </g>\r\n    </g>\r\n    <g id=\"xtick_4\">\r\n     <g id=\"line2d_4\">\r\n      <g>\r\n       <use style=\"stroke:#000000;stroke-width:0.8;\" x=\"271.800781\" xlink:href=\"#m36206a274c\" y=\"224.64\"/>\r\n      </g>\r\n     </g>\r\n     <g id=\"text_4\">\r\n      <!-- (41.14074, -8.65071) -->\r\n      <g transform=\"translate(225.015724 338.420306)rotate(-45)scale(0.15 -0.15)\">\r\n       <use xlink:href=\"#ArialMT-40\"/>\r\n       <use x=\"33.300781\" xlink:href=\"#ArialMT-52\"/>\r\n       <use x=\"88.916016\" xlink:href=\"#ArialMT-49\"/>\r\n       <use x=\"144.53125\" xlink:href=\"#ArialMT-46\"/>\r\n       <use x=\"172.314453\" xlink:href=\"#ArialMT-49\"/>\r\n       <use x=\"227.929688\" xlink:href=\"#ArialMT-52\"/>\r\n       <use x=\"283.544922\" xlink:href=\"#ArialMT-48\"/>\r\n       <use x=\"339.160156\" xlink:href=\"#ArialMT-55\"/>\r\n       <use x=\"394.775391\" xlink:href=\"#ArialMT-52\"/>\r\n       <use x=\"450.390625\" xlink:href=\"#ArialMT-44\"/>\r\n       <use x=\"478.173828\" xlink:href=\"#ArialMT-32\"/>\r\n       <use x=\"505.957031\" xlink:href=\"#ArialMT-45\"/>\r\n       <use x=\"539.257812\" xlink:href=\"#ArialMT-56\"/>\r\n       <use x=\"594.873047\" xlink:href=\"#ArialMT-46\"/>\r\n       <use x=\"622.65625\" xlink:href=\"#ArialMT-54\"/>\r\n       <use x=\"678.271484\" xlink:href=\"#ArialMT-53\"/>\r\n       <use x=\"733.886719\" xlink:href=\"#ArialMT-48\"/>\r\n       <use x=\"789.501953\" xlink:href=\"#ArialMT-55\"/>\r\n       <use x=\"845.117188\" xlink:href=\"#ArialMT-49\"/>\r\n       <use x=\"900.732422\" xlink:href=\"#ArialMT-41\"/>\r\n      </g>\r\n     </g>\r\n    </g>\r\n    <g id=\"xtick_5\">\r\n     <g id=\"line2d_5\">\r\n      <g>\r\n       <use style=\"stroke:#000000;stroke-width:0.8;\" x=\"327.600781\" xlink:href=\"#m36206a274c\" y=\"224.64\"/>\r\n      </g>\r\n     </g>\r\n     <g id=\"text_5\">\r\n      <!-- (41.14799, -8.61986) -->\r\n      <g transform=\"translate(280.815724 338.420306)rotate(-45)scale(0.15 -0.15)\">\r\n       <use xlink:href=\"#ArialMT-40\"/>\r\n       <use x=\"33.300781\" xlink:href=\"#ArialMT-52\"/>\r\n       <use x=\"88.916016\" xlink:href=\"#ArialMT-49\"/>\r\n       <use x=\"144.53125\" xlink:href=\"#ArialMT-46\"/>\r\n       <use x=\"172.314453\" xlink:href=\"#ArialMT-49\"/>\r\n       <use x=\"227.929688\" xlink:href=\"#ArialMT-52\"/>\r\n       <use x=\"283.544922\" xlink:href=\"#ArialMT-55\"/>\r\n       <use x=\"339.160156\" xlink:href=\"#ArialMT-57\"/>\r\n       <use x=\"394.775391\" xlink:href=\"#ArialMT-57\"/>\r\n       <use x=\"450.390625\" xlink:href=\"#ArialMT-44\"/>\r\n       <use x=\"478.173828\" xlink:href=\"#ArialMT-32\"/>\r\n       <use x=\"505.957031\" xlink:href=\"#ArialMT-45\"/>\r\n       <use x=\"539.257812\" xlink:href=\"#ArialMT-56\"/>\r\n       <use x=\"594.873047\" xlink:href=\"#ArialMT-46\"/>\r\n       <use x=\"622.65625\" xlink:href=\"#ArialMT-54\"/>\r\n       <use x=\"678.271484\" xlink:href=\"#ArialMT-49\"/>\r\n       <use x=\"733.886719\" xlink:href=\"#ArialMT-57\"/>\r\n       <use x=\"789.501953\" xlink:href=\"#ArialMT-56\"/>\r\n       <use x=\"845.117188\" xlink:href=\"#ArialMT-54\"/>\r\n       <use x=\"900.732422\" xlink:href=\"#ArialMT-41\"/>\r\n      </g>\r\n     </g>\r\n    </g>\r\n    <g id=\"text_6\">\r\n     <!-- Start location (latitude, longitude) -->\r\n     <defs>\r\n      <path d=\"M 4.5 23 \r\nL 13.421875 23.78125 \r\nQ 14.0625 18.40625 16.375 14.96875 \r\nQ 18.703125 11.53125 23.578125 9.40625 \r\nQ 28.46875 7.28125 34.578125 7.28125 \r\nQ 39.984375 7.28125 44.140625 8.890625 \r\nQ 48.296875 10.5 50.3125 13.296875 \r\nQ 52.34375 16.109375 52.34375 19.4375 \r\nQ 52.34375 22.796875 50.390625 25.3125 \r\nQ 48.4375 27.828125 43.953125 29.546875 \r\nQ 41.0625 30.671875 31.203125 33.03125 \r\nQ 21.34375 35.40625 17.390625 37.5 \r\nQ 12.25 40.1875 9.734375 44.15625 \r\nQ 7.234375 48.140625 7.234375 53.078125 \r\nQ 7.234375 58.5 10.296875 63.203125 \r\nQ 13.375 67.921875 19.28125 70.359375 \r\nQ 25.203125 72.796875 32.421875 72.796875 \r\nQ 40.375 72.796875 46.453125 70.234375 \r\nQ 52.546875 67.671875 55.8125 62.6875 \r\nQ 59.078125 57.71875 59.328125 51.421875 \r\nL 50.25 50.734375 \r\nQ 49.515625 57.515625 45.28125 60.984375 \r\nQ 41.0625 64.453125 32.8125 64.453125 \r\nQ 24.21875 64.453125 20.28125 61.296875 \r\nQ 16.359375 58.15625 16.359375 53.71875 \r\nQ 16.359375 49.859375 19.140625 47.359375 \r\nQ 21.875 44.875 33.421875 42.265625 \r\nQ 44.96875 39.65625 49.265625 37.703125 \r\nQ 55.515625 34.8125 58.484375 30.390625 \r\nQ 61.46875 25.984375 61.46875 20.21875 \r\nQ 61.46875 14.5 58.203125 9.4375 \r\nQ 54.9375 4.390625 48.796875 1.578125 \r\nQ 42.671875 -1.21875 35.015625 -1.21875 \r\nQ 25.296875 -1.21875 18.71875 1.609375 \r\nQ 12.15625 4.4375 8.421875 10.125 \r\nQ 4.6875 15.828125 4.5 23 \r\nz\r\n\" id=\"ArialMT-83\"/>\r\n      <path d=\"M 25.78125 7.859375 \r\nL 27.046875 0.09375 \r\nQ 23.34375 -0.6875 20.40625 -0.6875 \r\nQ 15.625 -0.6875 12.984375 0.828125 \r\nQ 10.359375 2.34375 9.28125 4.8125 \r\nQ 8.203125 7.28125 8.203125 15.1875 \r\nL 8.203125 45.015625 \r\nL 1.765625 45.015625 \r\nL 1.765625 51.859375 \r\nL 8.203125 51.859375 \r\nL 8.203125 64.703125 \r\nL 16.9375 69.96875 \r\nL 16.9375 51.859375 \r\nL 25.78125 51.859375 \r\nL 25.78125 45.015625 \r\nL 16.9375 45.015625 \r\nL 16.9375 14.703125 \r\nQ 16.9375 10.9375 17.40625 9.859375 \r\nQ 17.875 8.796875 18.921875 8.15625 \r\nQ 19.96875 7.515625 21.921875 7.515625 \r\nQ 23.390625 7.515625 25.78125 7.859375 \r\nz\r\n\" id=\"ArialMT-116\"/>\r\n      <path d=\"M 40.4375 6.390625 \r\nQ 35.546875 2.25 31.03125 0.53125 \r\nQ 26.515625 -1.171875 21.34375 -1.171875 \r\nQ 12.796875 -1.171875 8.203125 3 \r\nQ 3.609375 7.171875 3.609375 13.671875 \r\nQ 3.609375 17.484375 5.34375 20.625 \r\nQ 7.078125 23.78125 9.890625 25.6875 \r\nQ 12.703125 27.59375 16.21875 28.5625 \r\nQ 18.796875 29.25 24.03125 29.890625 \r\nQ 34.671875 31.15625 39.703125 32.90625 \r\nQ 39.75 34.71875 39.75 35.203125 \r\nQ 39.75 40.578125 37.25 42.78125 \r\nQ 33.890625 45.75 27.25 45.75 \r\nQ 21.046875 45.75 18.09375 43.578125 \r\nQ 15.140625 41.40625 13.71875 35.890625 \r\nL 5.125 37.0625 \r\nQ 6.296875 42.578125 8.984375 45.96875 \r\nQ 11.671875 49.359375 16.75 51.1875 \r\nQ 21.828125 53.03125 28.515625 53.03125 \r\nQ 35.15625 53.03125 39.296875 51.46875 \r\nQ 43.453125 49.90625 45.40625 47.53125 \r\nQ 47.359375 45.171875 48.140625 41.546875 \r\nQ 48.578125 39.3125 48.578125 33.453125 \r\nL 48.578125 21.734375 \r\nQ 48.578125 9.46875 49.140625 6.21875 \r\nQ 49.703125 2.984375 51.375 0 \r\nL 42.1875 0 \r\nQ 40.828125 2.734375 40.4375 6.390625 \r\nz\r\nM 39.703125 26.03125 \r\nQ 34.90625 24.078125 25.34375 22.703125 \r\nQ 19.921875 21.921875 17.671875 20.9375 \r\nQ 15.4375 19.96875 14.203125 18.09375 \r\nQ 12.984375 16.21875 12.984375 13.921875 \r\nQ 12.984375 10.40625 15.640625 8.0625 \r\nQ 18.3125 5.71875 23.4375 5.71875 \r\nQ 28.515625 5.71875 32.46875 7.9375 \r\nQ 36.421875 10.15625 38.28125 14.015625 \r\nQ 39.703125 17 39.703125 22.796875 \r\nz\r\n\" id=\"ArialMT-97\"/>\r\n      <path d=\"M 6.5 0 \r\nL 6.5 51.859375 \r\nL 14.40625 51.859375 \r\nL 14.40625 44 \r\nQ 17.4375 49.515625 20 51.265625 \r\nQ 22.5625 53.03125 25.640625 53.03125 \r\nQ 30.078125 53.03125 34.671875 50.203125 \r\nL 31.640625 42.046875 \r\nQ 28.421875 43.953125 25.203125 43.953125 \r\nQ 22.3125 43.953125 20.015625 42.21875 \r\nQ 17.71875 40.484375 16.75 37.40625 \r\nQ 15.28125 32.71875 15.28125 27.15625 \r\nL 15.28125 0 \r\nz\r\n\" id=\"ArialMT-114\"/>\r\n      <path d=\"M 6.390625 0 \r\nL 6.390625 71.578125 \r\nL 15.1875 71.578125 \r\nL 15.1875 0 \r\nz\r\n\" id=\"ArialMT-108\"/>\r\n      <path d=\"M 3.328125 25.921875 \r\nQ 3.328125 40.328125 11.328125 47.265625 \r\nQ 18.015625 53.03125 27.640625 53.03125 \r\nQ 38.328125 53.03125 45.109375 46.015625 \r\nQ 51.90625 39.015625 51.90625 26.65625 \r\nQ 51.90625 16.65625 48.90625 10.90625 \r\nQ 45.90625 5.171875 40.15625 2 \r\nQ 34.421875 -1.171875 27.640625 -1.171875 \r\nQ 16.75 -1.171875 10.03125 5.8125 \r\nQ 3.328125 12.796875 3.328125 25.921875 \r\nz\r\nM 12.359375 25.921875 \r\nQ 12.359375 15.96875 16.703125 11.015625 \r\nQ 21.046875 6.0625 27.640625 6.0625 \r\nQ 34.1875 6.0625 38.53125 11.03125 \r\nQ 42.875 16.015625 42.875 26.21875 \r\nQ 42.875 35.84375 38.5 40.796875 \r\nQ 34.125 45.75 27.640625 45.75 \r\nQ 21.046875 45.75 16.703125 40.8125 \r\nQ 12.359375 35.890625 12.359375 25.921875 \r\nz\r\n\" id=\"ArialMT-111\"/>\r\n      <path d=\"M 40.4375 19 \r\nL 49.078125 17.875 \r\nQ 47.65625 8.9375 41.8125 3.875 \r\nQ 35.984375 -1.171875 27.484375 -1.171875 \r\nQ 16.84375 -1.171875 10.375 5.78125 \r\nQ 3.90625 12.75 3.90625 25.734375 \r\nQ 3.90625 34.125 6.6875 40.421875 \r\nQ 9.46875 46.734375 15.15625 49.875 \r\nQ 20.84375 53.03125 27.546875 53.03125 \r\nQ 35.984375 53.03125 41.359375 48.75 \r\nQ 46.734375 44.484375 48.25 36.625 \r\nL 39.703125 35.296875 \r\nQ 38.484375 40.53125 35.375 43.15625 \r\nQ 32.28125 45.796875 27.875 45.796875 \r\nQ 21.234375 45.796875 17.078125 41.03125 \r\nQ 12.9375 36.28125 12.9375 25.984375 \r\nQ 12.9375 15.53125 16.9375 10.796875 \r\nQ 20.953125 6.0625 27.390625 6.0625 \r\nQ 32.5625 6.0625 36.03125 9.234375 \r\nQ 39.5 12.40625 40.4375 19 \r\nz\r\n\" id=\"ArialMT-99\"/>\r\n      <path d=\"M 6.640625 61.46875 \r\nL 6.640625 71.578125 \r\nL 15.4375 71.578125 \r\nL 15.4375 61.46875 \r\nz\r\nM 6.640625 0 \r\nL 6.640625 51.859375 \r\nL 15.4375 51.859375 \r\nL 15.4375 0 \r\nz\r\n\" id=\"ArialMT-105\"/>\r\n      <path d=\"M 6.59375 0 \r\nL 6.59375 51.859375 \r\nL 14.5 51.859375 \r\nL 14.5 44.484375 \r\nQ 20.21875 53.03125 31 53.03125 \r\nQ 35.6875 53.03125 39.625 51.34375 \r\nQ 43.5625 49.65625 45.515625 46.921875 \r\nQ 47.46875 44.1875 48.25 40.4375 \r\nQ 48.734375 37.984375 48.734375 31.890625 \r\nL 48.734375 0 \r\nL 39.9375 0 \r\nL 39.9375 31.546875 \r\nQ 39.9375 36.921875 38.90625 39.578125 \r\nQ 37.890625 42.234375 35.28125 43.8125 \r\nQ 32.671875 45.40625 29.15625 45.40625 \r\nQ 23.53125 45.40625 19.453125 41.84375 \r\nQ 15.375 38.28125 15.375 28.328125 \r\nL 15.375 0 \r\nz\r\n\" id=\"ArialMT-110\"/>\r\n      <path d=\"M 40.578125 0 \r\nL 40.578125 7.625 \r\nQ 34.515625 -1.171875 24.125 -1.171875 \r\nQ 19.53125 -1.171875 15.546875 0.578125 \r\nQ 11.578125 2.34375 9.640625 5 \r\nQ 7.71875 7.671875 6.9375 11.53125 \r\nQ 6.390625 14.109375 6.390625 19.734375 \r\nL 6.390625 51.859375 \r\nL 15.1875 51.859375 \r\nL 15.1875 23.09375 \r\nQ 15.1875 16.21875 15.71875 13.8125 \r\nQ 16.546875 10.359375 19.234375 8.375 \r\nQ 21.921875 6.390625 25.875 6.390625 \r\nQ 29.828125 6.390625 33.296875 8.421875 \r\nQ 36.765625 10.453125 38.203125 13.9375 \r\nQ 39.65625 17.4375 39.65625 24.078125 \r\nL 39.65625 51.859375 \r\nL 48.4375 51.859375 \r\nL 48.4375 0 \r\nz\r\n\" id=\"ArialMT-117\"/>\r\n      <path d=\"M 40.234375 0 \r\nL 40.234375 6.546875 \r\nQ 35.296875 -1.171875 25.734375 -1.171875 \r\nQ 19.53125 -1.171875 14.328125 2.25 \r\nQ 9.125 5.671875 6.265625 11.796875 \r\nQ 3.421875 17.921875 3.421875 25.875 \r\nQ 3.421875 33.640625 6 39.96875 \r\nQ 8.59375 46.296875 13.765625 49.65625 \r\nQ 18.953125 53.03125 25.34375 53.03125 \r\nQ 30.03125 53.03125 33.6875 51.046875 \r\nQ 37.359375 49.078125 39.65625 45.90625 \r\nL 39.65625 71.578125 \r\nL 48.390625 71.578125 \r\nL 48.390625 0 \r\nz\r\nM 12.453125 25.875 \r\nQ 12.453125 15.921875 16.640625 10.984375 \r\nQ 20.84375 6.0625 26.5625 6.0625 \r\nQ 32.328125 6.0625 36.34375 10.765625 \r\nQ 40.375 15.484375 40.375 25.140625 \r\nQ 40.375 35.796875 36.265625 40.765625 \r\nQ 32.171875 45.75 26.171875 45.75 \r\nQ 20.3125 45.75 16.375 40.96875 \r\nQ 12.453125 36.1875 12.453125 25.875 \r\nz\r\n\" id=\"ArialMT-100\"/>\r\n      <path d=\"M 42.09375 16.703125 \r\nL 51.171875 15.578125 \r\nQ 49.03125 7.625 43.21875 3.21875 \r\nQ 37.40625 -1.171875 28.375 -1.171875 \r\nQ 17 -1.171875 10.328125 5.828125 \r\nQ 3.65625 12.84375 3.65625 25.484375 \r\nQ 3.65625 38.578125 10.390625 45.796875 \r\nQ 17.140625 53.03125 27.875 53.03125 \r\nQ 38.28125 53.03125 44.875 45.953125 \r\nQ 51.46875 38.875 51.46875 26.03125 \r\nQ 51.46875 25.25 51.421875 23.6875 \r\nL 12.75 23.6875 \r\nQ 13.234375 15.140625 17.578125 10.59375 \r\nQ 21.921875 6.0625 28.421875 6.0625 \r\nQ 33.25 6.0625 36.671875 8.59375 \r\nQ 40.09375 11.140625 42.09375 16.703125 \r\nz\r\nM 13.234375 30.90625 \r\nL 42.1875 30.90625 \r\nQ 41.609375 37.453125 38.875 40.71875 \r\nQ 34.671875 45.796875 27.984375 45.796875 \r\nQ 21.921875 45.796875 17.796875 41.75 \r\nQ 13.671875 37.703125 13.234375 30.90625 \r\nz\r\n\" id=\"ArialMT-101\"/>\r\n      <path d=\"M 4.984375 -4.296875 \r\nL 13.53125 -5.5625 \r\nQ 14.0625 -9.515625 16.5 -11.328125 \r\nQ 19.78125 -13.765625 25.4375 -13.765625 \r\nQ 31.546875 -13.765625 34.859375 -11.328125 \r\nQ 38.1875 -8.890625 39.359375 -4.5 \r\nQ 40.046875 -1.8125 39.984375 6.78125 \r\nQ 34.234375 0 25.640625 0 \r\nQ 14.9375 0 9.078125 7.71875 \r\nQ 3.21875 15.4375 3.21875 26.21875 \r\nQ 3.21875 33.640625 5.90625 39.90625 \r\nQ 8.59375 46.1875 13.6875 49.609375 \r\nQ 18.796875 53.03125 25.6875 53.03125 \r\nQ 34.859375 53.03125 40.828125 45.609375 \r\nL 40.828125 51.859375 \r\nL 48.921875 51.859375 \r\nL 48.921875 7.03125 \r\nQ 48.921875 -5.078125 46.453125 -10.125 \r\nQ 44 -15.1875 38.640625 -18.109375 \r\nQ 33.296875 -21.046875 25.484375 -21.046875 \r\nQ 16.21875 -21.046875 10.5 -16.875 \r\nQ 4.78125 -12.703125 4.984375 -4.296875 \r\nz\r\nM 12.25 26.859375 \r\nQ 12.25 16.65625 16.296875 11.96875 \r\nQ 20.359375 7.28125 26.46875 7.28125 \r\nQ 32.515625 7.28125 36.609375 11.9375 \r\nQ 40.71875 16.609375 40.71875 26.5625 \r\nQ 40.71875 36.078125 36.5 40.90625 \r\nQ 32.28125 45.75 26.3125 45.75 \r\nQ 20.453125 45.75 16.34375 40.984375 \r\nQ 12.25 36.234375 12.25 26.859375 \r\nz\r\n\" id=\"ArialMT-103\"/>\r\n     </defs>\r\n     <g transform=\"translate(106.361328 355.572195)scale(0.15 -0.15)\">\r\n      <use xlink:href=\"#ArialMT-83\"/>\r\n      <use x=\"66.699219\" xlink:href=\"#ArialMT-116\"/>\r\n      <use x=\"94.482422\" xlink:href=\"#ArialMT-97\"/>\r\n      <use x=\"150.097656\" xlink:href=\"#ArialMT-114\"/>\r\n      <use x=\"183.398438\" xlink:href=\"#ArialMT-116\"/>\r\n      <use x=\"211.181641\" xlink:href=\"#ArialMT-32\"/>\r\n      <use x=\"238.964844\" xlink:href=\"#ArialMT-108\"/>\r\n      <use x=\"261.181641\" xlink:href=\"#ArialMT-111\"/>\r\n      <use x=\"316.796875\" xlink:href=\"#ArialMT-99\"/>\r\n      <use x=\"366.796875\" xlink:href=\"#ArialMT-97\"/>\r\n      <use x=\"422.412109\" xlink:href=\"#ArialMT-116\"/>\r\n      <use x=\"450.195312\" xlink:href=\"#ArialMT-105\"/>\r\n      <use x=\"472.412109\" xlink:href=\"#ArialMT-111\"/>\r\n      <use x=\"528.027344\" xlink:href=\"#ArialMT-110\"/>\r\n      <use x=\"583.642578\" xlink:href=\"#ArialMT-32\"/>\r\n      <use x=\"611.425781\" xlink:href=\"#ArialMT-40\"/>\r\n      <use x=\"644.726562\" xlink:href=\"#ArialMT-108\"/>\r\n      <use x=\"666.943359\" xlink:href=\"#ArialMT-97\"/>\r\n      <use x=\"722.558594\" xlink:href=\"#ArialMT-116\"/>\r\n      <use x=\"750.341797\" xlink:href=\"#ArialMT-105\"/>\r\n      <use x=\"772.558594\" xlink:href=\"#ArialMT-116\"/>\r\n      <use x=\"800.341797\" xlink:href=\"#ArialMT-117\"/>\r\n      <use x=\"855.957031\" xlink:href=\"#ArialMT-100\"/>\r\n      <use x=\"911.572266\" xlink:href=\"#ArialMT-101\"/>\r\n      <use x=\"967.1875\" xlink:href=\"#ArialMT-44\"/>\r\n      <use x=\"994.970703\" xlink:href=\"#ArialMT-32\"/>\r\n      <use x=\"1022.753906\" xlink:href=\"#ArialMT-108\"/>\r\n      <use x=\"1044.970703\" xlink:href=\"#ArialMT-111\"/>\r\n      <use x=\"1100.585938\" xlink:href=\"#ArialMT-110\"/>\r\n      <use x=\"1156.201172\" xlink:href=\"#ArialMT-103\"/>\r\n      <use x=\"1211.816406\" xlink:href=\"#ArialMT-105\"/>\r\n      <use x=\"1234.033203\" xlink:href=\"#ArialMT-116\"/>\r\n      <use x=\"1261.816406\" xlink:href=\"#ArialMT-117\"/>\r\n      <use x=\"1317.431641\" xlink:href=\"#ArialMT-100\"/>\r\n      <use x=\"1373.046875\" xlink:href=\"#ArialMT-101\"/>\r\n      <use x=\"1428.662109\" xlink:href=\"#ArialMT-41\"/>\r\n     </g>\r\n    </g>\r\n   </g>\r\n   <g id=\"matplotlib.axis_2\">\r\n    <g id=\"ytick_1\">\r\n     <g id=\"line2d_6\">\r\n      <defs>\r\n       <path d=\"M 0 0 \r\nL -3.5 0 \r\n\" id=\"m1f92346d3d\" style=\"stroke:#000000;stroke-width:0.8;\"/>\r\n      </defs>\r\n      <g>\r\n       <use style=\"stroke:#000000;stroke-width:0.8;\" x=\"48.600781\" xlink:href=\"#m1f92346d3d\" y=\"188.4\"/>\r\n      </g>\r\n     </g>\r\n     <g id=\"text_7\">\r\n      <!-- 28 -->\r\n      <g transform=\"translate(24.917969 193.768359)scale(0.15 -0.15)\">\r\n       <use xlink:href=\"#ArialMT-50\"/>\r\n       <use x=\"55.615234\" xlink:href=\"#ArialMT-56\"/>\r\n      </g>\r\n     </g>\r\n    </g>\r\n    <g id=\"ytick_2\">\r\n     <g id=\"line2d_7\">\r\n      <g>\r\n       <use style=\"stroke:#000000;stroke-width:0.8;\" x=\"48.600781\" xlink:href=\"#m1f92346d3d\" y=\"115.92\"/>\r\n      </g>\r\n     </g>\r\n     <g id=\"text_8\">\r\n      <!-- 29 -->\r\n      <g transform=\"translate(24.917969 121.288359)scale(0.15 -0.15)\">\r\n       <use xlink:href=\"#ArialMT-50\"/>\r\n       <use x=\"55.615234\" xlink:href=\"#ArialMT-57\"/>\r\n      </g>\r\n     </g>\r\n    </g>\r\n    <g id=\"text_9\">\r\n     <!-- Time window [weeks] -->\r\n     <defs>\r\n      <path d=\"M 25.921875 0 \r\nL 25.921875 63.140625 \r\nL 2.34375 63.140625 \r\nL 2.34375 71.578125 \r\nL 59.078125 71.578125 \r\nL 59.078125 63.140625 \r\nL 35.40625 63.140625 \r\nL 35.40625 0 \r\nz\r\n\" id=\"ArialMT-84\"/>\r\n      <path d=\"M 6.59375 0 \r\nL 6.59375 51.859375 \r\nL 14.453125 51.859375 \r\nL 14.453125 44.578125 \r\nQ 16.890625 48.390625 20.9375 50.703125 \r\nQ 25 53.03125 30.171875 53.03125 \r\nQ 35.9375 53.03125 39.625 50.640625 \r\nQ 43.3125 48.25 44.828125 43.953125 \r\nQ 50.984375 53.03125 60.84375 53.03125 \r\nQ 68.5625 53.03125 72.703125 48.75 \r\nQ 76.859375 44.484375 76.859375 35.59375 \r\nL 76.859375 0 \r\nL 68.109375 0 \r\nL 68.109375 32.671875 \r\nQ 68.109375 37.9375 67.25 40.25 \r\nQ 66.40625 42.578125 64.15625 43.984375 \r\nQ 61.921875 45.40625 58.890625 45.40625 \r\nQ 53.421875 45.40625 49.796875 41.765625 \r\nQ 46.1875 38.140625 46.1875 30.125 \r\nL 46.1875 0 \r\nL 37.40625 0 \r\nL 37.40625 33.6875 \r\nQ 37.40625 39.546875 35.25 42.46875 \r\nQ 33.109375 45.40625 28.21875 45.40625 \r\nQ 24.515625 45.40625 21.359375 43.453125 \r\nQ 18.21875 41.5 16.796875 37.734375 \r\nQ 15.375 33.984375 15.375 26.90625 \r\nL 15.375 0 \r\nz\r\n\" id=\"ArialMT-109\"/>\r\n      <path d=\"M 16.15625 0 \r\nL 0.296875 51.859375 \r\nL 9.375 51.859375 \r\nL 17.625 21.921875 \r\nL 20.703125 10.796875 \r\nQ 20.90625 11.625 23.390625 21.484375 \r\nL 31.640625 51.859375 \r\nL 40.671875 51.859375 \r\nL 48.4375 21.78125 \r\nL 51.03125 11.859375 \r\nL 54 21.875 \r\nL 62.890625 51.859375 \r\nL 71.4375 51.859375 \r\nL 55.21875 0 \r\nL 46.09375 0 \r\nL 37.84375 31.0625 \r\nL 35.84375 39.890625 \r\nL 25.34375 0 \r\nz\r\n\" id=\"ArialMT-119\"/>\r\n      <path d=\"M 6.78125 -19.875 \r\nL 6.78125 71.578125 \r\nL 26.171875 71.578125 \r\nL 26.171875 64.3125 \r\nL 15.578125 64.3125 \r\nL 15.578125 -12.59375 \r\nL 26.171875 -12.59375 \r\nL 26.171875 -19.875 \r\nz\r\n\" id=\"ArialMT-91\"/>\r\n      <path d=\"M 6.640625 0 \r\nL 6.640625 71.578125 \r\nL 15.4375 71.578125 \r\nL 15.4375 30.765625 \r\nL 36.234375 51.859375 \r\nL 47.609375 51.859375 \r\nL 27.78125 32.625 \r\nL 49.609375 0 \r\nL 38.765625 0 \r\nL 21.625 26.515625 \r\nL 15.4375 20.5625 \r\nL 15.4375 0 \r\nz\r\n\" id=\"ArialMT-107\"/>\r\n      <path d=\"M 3.078125 15.484375 \r\nL 11.765625 16.84375 \r\nQ 12.5 11.625 15.84375 8.84375 \r\nQ 19.1875 6.0625 25.203125 6.0625 \r\nQ 31.25 6.0625 34.171875 8.515625 \r\nQ 37.109375 10.984375 37.109375 14.3125 \r\nQ 37.109375 17.28125 34.515625 19 \r\nQ 32.71875 20.171875 25.53125 21.96875 \r\nQ 15.875 24.421875 12.140625 26.203125 \r\nQ 8.40625 27.984375 6.46875 31.125 \r\nQ 4.546875 34.28125 4.546875 38.09375 \r\nQ 4.546875 41.546875 6.125 44.5 \r\nQ 7.71875 47.46875 10.453125 49.421875 \r\nQ 12.5 50.921875 16.03125 51.96875 \r\nQ 19.578125 53.03125 23.640625 53.03125 \r\nQ 29.734375 53.03125 34.34375 51.265625 \r\nQ 38.96875 49.515625 41.15625 46.5 \r\nQ 43.359375 43.5 44.1875 38.484375 \r\nL 35.59375 37.3125 \r\nQ 35.015625 41.3125 32.203125 43.546875 \r\nQ 29.390625 45.796875 24.265625 45.796875 \r\nQ 18.21875 45.796875 15.625 43.796875 \r\nQ 13.03125 41.796875 13.03125 39.109375 \r\nQ 13.03125 37.40625 14.109375 36.03125 \r\nQ 15.1875 34.625 17.484375 33.6875 \r\nQ 18.796875 33.203125 25.25 31.453125 \r\nQ 34.578125 28.953125 38.25 27.359375 \r\nQ 41.9375 25.78125 44.03125 22.75 \r\nQ 46.140625 19.734375 46.140625 15.234375 \r\nQ 46.140625 10.84375 43.578125 6.953125 \r\nQ 41.015625 3.078125 36.171875 0.953125 \r\nQ 31.34375 -1.171875 25.25 -1.171875 \r\nQ 15.140625 -1.171875 9.84375 3.03125 \r\nQ 4.546875 7.234375 3.078125 15.484375 \r\nz\r\n\" id=\"ArialMT-115\"/>\r\n      <path d=\"M 21.296875 -19.875 \r\nL 1.90625 -19.875 \r\nL 1.90625 -12.59375 \r\nL 12.5 -12.59375 \r\nL 12.5 64.3125 \r\nL 1.90625 64.3125 \r\nL 1.90625 71.578125 \r\nL 21.296875 71.578125 \r\nz\r\n\" id=\"ArialMT-93\"/>\r\n     </defs>\r\n     <g transform=\"translate(17.936719 186.9075)rotate(-90)scale(0.15 -0.15)\">\r\n      <use xlink:href=\"#ArialMT-84\"/>\r\n      <use x=\"57.333984\" xlink:href=\"#ArialMT-105\"/>\r\n      <use x=\"79.550781\" xlink:href=\"#ArialMT-109\"/>\r\n      <use x=\"162.851562\" xlink:href=\"#ArialMT-101\"/>\r\n      <use x=\"218.466797\" xlink:href=\"#ArialMT-32\"/>\r\n      <use x=\"246.25\" xlink:href=\"#ArialMT-119\"/>\r\n      <use x=\"318.466797\" xlink:href=\"#ArialMT-105\"/>\r\n      <use x=\"340.683594\" xlink:href=\"#ArialMT-110\"/>\r\n      <use x=\"396.298828\" xlink:href=\"#ArialMT-100\"/>\r\n      <use x=\"451.914062\" xlink:href=\"#ArialMT-111\"/>\r\n      <use x=\"507.529297\" xlink:href=\"#ArialMT-119\"/>\r\n      <use x=\"579.746094\" xlink:href=\"#ArialMT-32\"/>\r\n      <use x=\"607.529297\" xlink:href=\"#ArialMT-91\"/>\r\n      <use x=\"635.3125\" xlink:href=\"#ArialMT-119\"/>\r\n      <use x=\"707.529297\" xlink:href=\"#ArialMT-101\"/>\r\n      <use x=\"763.144531\" xlink:href=\"#ArialMT-101\"/>\r\n      <use x=\"818.759766\" xlink:href=\"#ArialMT-107\"/>\r\n      <use x=\"868.759766\" xlink:href=\"#ArialMT-115\"/>\r\n      <use x=\"918.759766\" xlink:href=\"#ArialMT-93\"/>\r\n     </g>\r\n    </g>\r\n   </g>\r\n   <g id=\"patch_3\">\r\n    <path d=\"M 48.600781 224.64 \r\nL 48.600781 7.2 \r\n\" style=\"fill:none;stroke:#000000;stroke-linecap:square;stroke-linejoin:miter;stroke-width:0.8;\"/>\r\n   </g>\r\n   <g id=\"patch_4\">\r\n    <path d=\"M 383.400781 224.64 \r\nL 383.400781 7.2 \r\n\" style=\"fill:none;stroke:#000000;stroke-linecap:square;stroke-linejoin:miter;stroke-width:0.8;\"/>\r\n   </g>\r\n   <g id=\"patch_5\">\r\n    <path d=\"M 48.600781 224.64 \r\nL 383.400781 224.64 \r\n\" style=\"fill:none;stroke:#000000;stroke-linecap:square;stroke-linejoin:miter;stroke-width:0.8;\"/>\r\n   </g>\r\n   <g id=\"patch_6\">\r\n    <path d=\"M 48.600781 7.2 \r\nL 383.400781 7.2 \r\n\" style=\"fill:none;stroke:#000000;stroke-linecap:square;stroke-linejoin:miter;stroke-width:0.8;\"/>\r\n   </g>\r\n   <g id=\"legend_1\">\r\n    <g id=\"patch_7\">\r\n     <path d=\"M 82.001563 83.036719 \r\nL 372.900781 83.036719 \r\nQ 375.900781 83.036719 375.900781 80.036719 \r\nL 375.900781 17.7 \r\nQ 375.900781 14.7 372.900781 14.7 \r\nL 82.001563 14.7 \r\nQ 79.001563 14.7 79.001563 17.7 \r\nL 79.001563 80.036719 \r\nQ 79.001563 83.036719 82.001563 83.036719 \r\nz\r\n\" style=\"fill:#ffffff;opacity:0.8;stroke:#cccccc;stroke-linejoin:miter;\"/>\r\n    </g>\r\n    <g id=\"patch_8\">\r\n     <path d=\"M 85.001563 31.436719 \r\nL 115.001563 31.436719 \r\nL 115.001563 20.936719 \r\nL 85.001563 20.936719 \r\nz\r\n\" style=\"fill:#4d4d4d;stroke:#4d4d4d;stroke-linejoin:miter;\"/>\r\n    </g>\r\n    <g id=\"text_10\">\r\n     <!-- Train station -->\r\n     <g transform=\"translate(127.001563 31.436719)scale(0.15 -0.15)\">\r\n      <use xlink:href=\"#ArialMT-84\"/>\r\n      <use x=\"57.333984\" xlink:href=\"#ArialMT-114\"/>\r\n      <use x=\"90.634766\" xlink:href=\"#ArialMT-97\"/>\r\n      <use x=\"146.25\" xlink:href=\"#ArialMT-105\"/>\r\n      <use x=\"168.466797\" xlink:href=\"#ArialMT-110\"/>\r\n      <use x=\"224.082031\" xlink:href=\"#ArialMT-32\"/>\r\n      <use x=\"251.865234\" xlink:href=\"#ArialMT-115\"/>\r\n      <use x=\"301.865234\" xlink:href=\"#ArialMT-116\"/>\r\n      <use x=\"329.648438\" xlink:href=\"#ArialMT-97\"/>\r\n      <use x=\"385.263672\" xlink:href=\"#ArialMT-116\"/>\r\n      <use x=\"413.046875\" xlink:href=\"#ArialMT-105\"/>\r\n      <use x=\"435.263672\" xlink:href=\"#ArialMT-111\"/>\r\n      <use x=\"490.878906\" xlink:href=\"#ArialMT-110\"/>\r\n     </g>\r\n    </g>\r\n    <g id=\"patch_9\">\r\n     <path d=\"M 85.001563 52.8375 \r\nL 115.001563 52.8375 \r\nL 115.001563 42.3375 \r\nL 85.001563 42.3375 \r\nz\r\n\" style=\"fill:#8cdcda;stroke:#8cdcda;stroke-linejoin:miter;\"/>\r\n    </g>\r\n    <g id=\"text_11\">\r\n     <!-- Hospital S.J. -->\r\n     <defs>\r\n      <path d=\"M 8.015625 0 \r\nL 8.015625 71.578125 \r\nL 17.484375 71.578125 \r\nL 17.484375 42.1875 \r\nL 54.6875 42.1875 \r\nL 54.6875 71.578125 \r\nL 64.15625 71.578125 \r\nL 64.15625 0 \r\nL 54.6875 0 \r\nL 54.6875 33.734375 \r\nL 17.484375 33.734375 \r\nL 17.484375 0 \r\nz\r\n\" id=\"ArialMT-72\"/>\r\n      <path d=\"M 6.59375 -19.875 \r\nL 6.59375 51.859375 \r\nL 14.59375 51.859375 \r\nL 14.59375 45.125 \r\nQ 17.4375 49.078125 21 51.046875 \r\nQ 24.5625 53.03125 29.640625 53.03125 \r\nQ 36.28125 53.03125 41.359375 49.609375 \r\nQ 46.4375 46.1875 49.015625 39.953125 \r\nQ 51.609375 33.734375 51.609375 26.3125 \r\nQ 51.609375 18.359375 48.75 11.984375 \r\nQ 45.90625 5.609375 40.453125 2.21875 \r\nQ 35.015625 -1.171875 29 -1.171875 \r\nQ 24.609375 -1.171875 21.109375 0.6875 \r\nQ 17.625 2.546875 15.375 5.375 \r\nL 15.375 -19.875 \r\nz\r\nM 14.546875 25.640625 \r\nQ 14.546875 15.625 18.59375 10.84375 \r\nQ 22.65625 6.0625 28.421875 6.0625 \r\nQ 34.28125 6.0625 38.453125 11.015625 \r\nQ 42.625 15.96875 42.625 26.375 \r\nQ 42.625 36.28125 38.546875 41.203125 \r\nQ 34.46875 46.140625 28.8125 46.140625 \r\nQ 23.1875 46.140625 18.859375 40.890625 \r\nQ 14.546875 35.640625 14.546875 25.640625 \r\nz\r\n\" id=\"ArialMT-112\"/>\r\n      <path d=\"M 2.875 20.3125 \r\nL 11.421875 21.484375 \r\nQ 11.765625 13.28125 14.5 10.25 \r\nQ 17.234375 7.234375 22.078125 7.234375 \r\nQ 25.640625 7.234375 28.21875 8.859375 \r\nQ 30.8125 10.5 31.78125 13.296875 \r\nQ 32.765625 16.109375 32.765625 22.265625 \r\nL 32.765625 71.578125 \r\nL 42.234375 71.578125 \r\nL 42.234375 22.796875 \r\nQ 42.234375 13.8125 40.0625 8.875 \r\nQ 37.890625 3.953125 33.171875 1.359375 \r\nQ 28.46875 -1.21875 22.125 -1.21875 \r\nQ 12.703125 -1.21875 7.6875 4.203125 \r\nQ 2.6875 9.625 2.875 20.3125 \r\nz\r\n\" id=\"ArialMT-74\"/>\r\n     </defs>\r\n     <g transform=\"translate(127.001563 52.8375)scale(0.15 -0.15)\">\r\n      <use xlink:href=\"#ArialMT-72\"/>\r\n      <use x=\"72.216797\" xlink:href=\"#ArialMT-111\"/>\r\n      <use x=\"127.832031\" xlink:href=\"#ArialMT-115\"/>\r\n      <use x=\"177.832031\" xlink:href=\"#ArialMT-112\"/>\r\n      <use x=\"233.447266\" xlink:href=\"#ArialMT-105\"/>\r\n      <use x=\"255.664062\" xlink:href=\"#ArialMT-116\"/>\r\n      <use x=\"283.447266\" xlink:href=\"#ArialMT-97\"/>\r\n      <use x=\"339.0625\" xlink:href=\"#ArialMT-108\"/>\r\n      <use x=\"361.279297\" xlink:href=\"#ArialMT-32\"/>\r\n      <use x=\"389.0625\" xlink:href=\"#ArialMT-83\"/>\r\n      <use x=\"455.761719\" xlink:href=\"#ArialMT-46\"/>\r\n      <use x=\"483.544922\" xlink:href=\"#ArialMT-74\"/>\r\n      <use x=\"533.544922\" xlink:href=\"#ArialMT-46\"/>\r\n     </g>\r\n    </g>\r\n    <g id=\"patch_10\">\r\n     <path d=\"M 85.001563 74.055469 \r\nL 115.001563 74.055469 \r\nL 115.001563 63.555469 \r\nL 85.001563 63.555469 \r\nz\r\n\" style=\"fill:#b1d877;stroke:#b1d877;stroke-linejoin:miter;\"/>\r\n    </g>\r\n    <g id=\"text_12\">\r\n     <!-- Bus station -->\r\n     <defs>\r\n      <path d=\"M 7.328125 0 \r\nL 7.328125 71.578125 \r\nL 34.1875 71.578125 \r\nQ 42.390625 71.578125 47.34375 69.40625 \r\nQ 52.296875 67.234375 55.09375 62.71875 \r\nQ 57.90625 58.203125 57.90625 53.265625 \r\nQ 57.90625 48.6875 55.421875 44.625 \r\nQ 52.9375 40.578125 47.90625 38.09375 \r\nQ 54.390625 36.1875 57.875 31.59375 \r\nQ 61.375 27 61.375 20.75 \r\nQ 61.375 15.71875 59.25 11.390625 \r\nQ 57.125 7.078125 54 4.734375 \r\nQ 50.875 2.390625 46.15625 1.1875 \r\nQ 41.453125 0 34.625 0 \r\nz\r\nM 16.796875 41.5 \r\nL 32.28125 41.5 \r\nQ 38.578125 41.5 41.3125 42.328125 \r\nQ 44.921875 43.40625 46.75 45.890625 \r\nQ 48.578125 48.390625 48.578125 52.15625 \r\nQ 48.578125 55.71875 46.875 58.421875 \r\nQ 45.171875 61.140625 41.984375 62.140625 \r\nQ 38.8125 63.140625 31.109375 63.140625 \r\nL 16.796875 63.140625 \r\nz\r\nM 16.796875 8.453125 \r\nL 34.625 8.453125 \r\nQ 39.203125 8.453125 41.0625 8.796875 \r\nQ 44.34375 9.375 46.53125 10.734375 \r\nQ 48.734375 12.109375 50.140625 14.71875 \r\nQ 51.5625 17.328125 51.5625 20.75 \r\nQ 51.5625 24.75 49.515625 27.703125 \r\nQ 47.46875 30.671875 43.828125 31.859375 \r\nQ 40.1875 33.0625 33.34375 33.0625 \r\nL 16.796875 33.0625 \r\nz\r\n\" id=\"ArialMT-66\"/>\r\n     </defs>\r\n     <g transform=\"translate(127.001563 74.055469)scale(0.15 -0.15)\">\r\n      <use xlink:href=\"#ArialMT-66\"/>\r\n      <use x=\"66.699219\" xlink:href=\"#ArialMT-117\"/>\r\n      <use x=\"122.314453\" xlink:href=\"#ArialMT-115\"/>\r\n      <use x=\"172.314453\" xlink:href=\"#ArialMT-32\"/>\r\n      <use x=\"200.097656\" xlink:href=\"#ArialMT-115\"/>\r\n      <use x=\"250.097656\" xlink:href=\"#ArialMT-116\"/>\r\n      <use x=\"277.880859\" xlink:href=\"#ArialMT-97\"/>\r\n      <use x=\"333.496094\" xlink:href=\"#ArialMT-116\"/>\r\n      <use x=\"361.279297\" xlink:href=\"#ArialMT-105\"/>\r\n      <use x=\"383.496094\" xlink:href=\"#ArialMT-111\"/>\r\n      <use x=\"439.111328\" xlink:href=\"#ArialMT-110\"/>\r\n     </g>\r\n    </g>\r\n    <g id=\"patch_11\">\r\n     <path d=\"M 241.198438 31.436719 \r\nL 271.198438 31.436719 \r\nL 271.198438 20.936719 \r\nL 241.198438 20.936719 \r\nz\r\n\" style=\"fill:#f16a70;stroke:#f16a70;stroke-linejoin:miter;\"/>\r\n    </g>\r\n    <g id=\"text_13\">\r\n     <!-- Port -->\r\n     <defs>\r\n      <path d=\"M 7.71875 0 \r\nL 7.71875 71.578125 \r\nL 34.71875 71.578125 \r\nQ 41.84375 71.578125 45.609375 70.90625 \r\nQ 50.875 70.015625 54.4375 67.546875 \r\nQ 58.015625 65.09375 60.1875 60.640625 \r\nQ 62.359375 56.203125 62.359375 50.875 \r\nQ 62.359375 41.75 56.546875 35.421875 \r\nQ 50.734375 29.109375 35.546875 29.109375 \r\nL 17.1875 29.109375 \r\nL 17.1875 0 \r\nz\r\nM 17.1875 37.546875 \r\nL 35.6875 37.546875 \r\nQ 44.875 37.546875 48.734375 40.96875 \r\nQ 52.59375 44.390625 52.59375 50.59375 \r\nQ 52.59375 55.078125 50.3125 58.265625 \r\nQ 48.046875 61.46875 44.34375 62.5 \r\nQ 41.9375 63.140625 35.5 63.140625 \r\nL 17.1875 63.140625 \r\nz\r\n\" id=\"ArialMT-80\"/>\r\n     </defs>\r\n     <g transform=\"translate(283.198438 31.436719)scale(0.15 -0.15)\">\r\n      <use xlink:href=\"#ArialMT-80\"/>\r\n      <use x=\"66.699219\" xlink:href=\"#ArialMT-111\"/>\r\n      <use x=\"122.314453\" xlink:href=\"#ArialMT-114\"/>\r\n      <use x=\"155.615234\" xlink:href=\"#ArialMT-116\"/>\r\n     </g>\r\n    </g>\r\n    <g id=\"patch_12\">\r\n     <path d=\"M 241.198438 52.8375 \r\nL 271.198438 52.8375 \r\nL 271.198438 42.3375 \r\nL 241.198438 42.3375 \r\nz\r\n\" style=\"fill:#ffa500;stroke:#ffa500;stroke-linejoin:miter;\"/>\r\n    </g>\r\n    <g id=\"text_14\">\r\n     <!-- Hospital S.A. -->\r\n     <defs>\r\n      <path d=\"M -0.140625 0 \r\nL 27.34375 71.578125 \r\nL 37.546875 71.578125 \r\nL 66.84375 0 \r\nL 56.0625 0 \r\nL 47.703125 21.6875 \r\nL 17.78125 21.6875 \r\nL 9.90625 0 \r\nz\r\nM 20.515625 29.390625 \r\nL 44.78125 29.390625 \r\nL 37.3125 49.21875 \r\nQ 33.890625 58.25 32.234375 64.0625 \r\nQ 30.859375 57.171875 28.375 50.390625 \r\nz\r\n\" id=\"ArialMT-65\"/>\r\n     </defs>\r\n     <g transform=\"translate(283.198438 52.8375)scale(0.15 -0.15)\">\r\n      <use xlink:href=\"#ArialMT-72\"/>\r\n      <use x=\"72.216797\" xlink:href=\"#ArialMT-111\"/>\r\n      <use x=\"127.832031\" xlink:href=\"#ArialMT-115\"/>\r\n      <use x=\"177.832031\" xlink:href=\"#ArialMT-112\"/>\r\n      <use x=\"233.447266\" xlink:href=\"#ArialMT-105\"/>\r\n      <use x=\"255.664062\" xlink:href=\"#ArialMT-116\"/>\r\n      <use x=\"283.447266\" xlink:href=\"#ArialMT-97\"/>\r\n      <use x=\"339.0625\" xlink:href=\"#ArialMT-108\"/>\r\n      <use x=\"361.279297\" xlink:href=\"#ArialMT-32\"/>\r\n      <use x=\"389.0625\" xlink:href=\"#ArialMT-83\"/>\r\n      <use x=\"455.761719\" xlink:href=\"#ArialMT-46\"/>\r\n      <use x=\"483.544922\" xlink:href=\"#ArialMT-65\"/>\r\n      <use x=\"550.244141\" xlink:href=\"#ArialMT-46\"/>\r\n     </g>\r\n    </g>\r\n   </g>\r\n  </g>\r\n </g>\r\n <defs>\r\n  <clipPath id=\"p488701d6b2\">\r\n   <rect height=\"217.44\" width=\"334.8\" x=\"48.600781\" y=\"7.2\"/>\r\n  </clipPath>\r\n </defs>\r\n</svg>\r\n",
      "text/plain": [
       "<Figure size 432x288 with 1 Axes>"
      ]
     },
     "metadata": {
      "needs_background": "light"
     },
     "output_type": "display_data"
    }
   ],
   "source": [
    "import matplotlib.pyplot as plt\n",
    "import matplotlib.patches as mpatches\n",
    "import matplotlib\n",
    "\n",
    "size = 15\n",
    "font = {'family' : 'Arial',\n",
    "        'weight' : 'normal',\n",
    "        'size'   : size}\n",
    "matplotlib.rc('font', **font)\n",
    "matplotlib.rc('xtick', labelsize=size) \n",
    "matplotlib.rc('ytick', labelsize=size) \n",
    "\n",
    "fig, ax = plt.subplots()\n",
    "\n",
    "cols = ['#4d4d4d', '#8cdcda', '#b1d877', '#f16a70', 'orange']\n",
    "size_factor = 3\n",
    "\n",
    "# old \n",
    "sc = ax.scatter(\n",
    "    range(len(c_combined)),# [c.center[0] for c in c_combined],\n",
    "    [0 for c in c_combined],\n",
    "    c=cols,\n",
    "    s=[c.size*size_factor for c in c_combined], \n",
    "    alpha = 1)\n",
    "\n",
    "# new \n",
    "sc = ax.scatter(\n",
    "    range(len(c2_combined)), #[c.center[0] for c in c2_combined],\n",
    "    [1 for c in c2_combined],\n",
    "    c=cols,\n",
    "    s=[c.size*size_factor for c in c2_combined], \n",
    "    alpha = 1)\n",
    "\n",
    "plt.yticks([0, 1], ['28', '29'])\n",
    "plt.ylim([-.5, 2.5])\n",
    "\n",
    "plt.xticks([0, 1, 2, 3, 4], coords, rotation=45)\n",
    "plt.xlim([-1, 5])\n",
    "\n",
    "plt.ylabel(\"Time window [weeks]\")\n",
    "plt.xlabel(\"Start location (latitude, longitude)\")\n",
    "\n",
    "# labels = ['Train station Campanha', 'Hospital São João', 'Bus station Internorte', 'Port Marina da Afurada', 'Hospital Santo António']\n",
    "labels = ['Train station', 'Hospital S.J.', 'Bus station', 'Port', 'Hospital S.A.']\n",
    "\n",
    "legend_patches = []\n",
    "for c, l in zip(cols, labels):\n",
    "    pat = mpatches.Patch(color=c, label=l)\n",
    "    legend_patches.append(pat)\n",
    "\n",
    "plt.legend(handles=legend_patches,\n",
    "    # bbox_to_anchor =(1.0, 1.5),\n",
    "    ncol=2)\n",
    "plt.show()\n",
    "plt.show()\n",
    "\n"
   ]
  },
  {
   "cell_type": "code",
   "execution_count": null,
   "metadata": {},
   "outputs": [],
   "source": [
    "coords"
   ]
  },
  {
   "cell_type": "code",
   "execution_count": null,
   "metadata": {},
   "outputs": [],
   "source": [
    "# import matplotlib.pyplot as plt\n",
    "\n",
    "# fig, ax = plt.subplots()\n",
    "\n",
    "# size_factor = 15\n",
    "\n",
    "# cols = ['blue', 'green', 'red', 'yellow']\n",
    "# lab = ['No likes', 'Low number of likes', 'Moderate number of likes', 'Many likes']\n",
    "\n",
    "# for idx, k in enumerate(old.keys()):    \n",
    "#     ax.scatter(\n",
    "#         [old[k].center[0], new[k].center[0]],\n",
    "#         [0, 1],\n",
    "#         c=cols[idx],\n",
    "#         s=[old[k].size*size_factor, new[k].size*size_factor], \n",
    "#         label=lab[idx],\n",
    "#         alpha = 0.5)\n",
    "\n",
    "# plt.legend()\n",
    "\n",
    "# plt.yticks([0, 1], ['t', 't+1'])\n",
    "# plt.ylim([-.5, 1.5])\n",
    "\n",
    "# plt.ylabel(\"Time window\")\n",
    "# plt.xlabel(\"Number of likes\")\n",
    "\n",
    "# plt.show()"
   ]
  },
  {
   "cell_type": "markdown",
   "metadata": {},
   "source": [
    "## Likes "
   ]
  },
  {
   "cell_type": "code",
   "execution_count": 108,
   "metadata": {},
   "outputs": [],
   "source": [
    "import os\n",
    "import json\n",
    "from entities import TimeWindow\n",
    "\n",
    "dataset = 'youtube'\n",
    "layer = 'LikesLayer'\n",
    "\n",
    "\n",
    "time_windows = []\n",
    "\n",
    "for r, _, files in os.walk(f'data/{dataset}/raw/timeslices/{layer}'):\n",
    "    # sort by year, week\n",
    "    files.sort(key=lambda name: [int(n) for n in name[:-5].split('_')])\n",
    "\n",
    "    for f in files:\n",
    "        with open(os.path.join(r, f), 'r') as fh:\n",
    "            clusters = json.loads(fh.read())\n",
    "\n",
    "            time_window = TimeWindow.create_from_serializable_dict(clusters)\n",
    "            time_windows.append(time_window)"
   ]
  },
  {
   "cell_type": "code",
   "execution_count": 109,
   "metadata": {},
   "outputs": [],
   "source": [
    "from typing import List\n",
    "from processing import ClusterMetricsCalculator1D\n",
    "\n",
    "feature_name = 'likes'\n",
    "\n",
    "class Cluster:\n",
    "    def __init__(self, nodes: List):\n",
    "        \n",
    "        calc = ClusterMetricsCalculator1D(nodes, feature_name, 0 , 0)\n",
    "\n",
    "        self.nodes = nodes\n",
    "        self.center = calc.get_center()\n",
    "        self.size = calc.get_size()"
   ]
  },
  {
   "cell_type": "code",
   "execution_count": 110,
   "metadata": {},
   "outputs": [],
   "source": [
    "ts_old = 1"
   ]
  },
  {
   "cell_type": "code",
   "execution_count": 111,
   "metadata": {},
   "outputs": [],
   "source": [
    "time_window = time_windows[ts_old]\n",
    "\n",
    "clusters = {}\n",
    "\n",
    "for k, nodes in time_window.clusters.items():\n",
    "    clusters[k] = Cluster(nodes)"
   ]
  },
  {
   "cell_type": "code",
   "execution_count": 112,
   "metadata": {},
   "outputs": [
    {
     "data": {
      "text/plain": [
       "'(2017, 47)'"
      ]
     },
     "execution_count": 112,
     "metadata": {},
     "output_type": "execute_result"
    }
   ],
   "source": [
    "time_window.time"
   ]
  },
  {
   "cell_type": "code",
   "execution_count": 113,
   "metadata": {},
   "outputs": [],
   "source": [
    "time_window = time_windows[ts_old+1]\n",
    "    \n",
    "clusters2 = {}\n",
    "\n",
    "for k, nodes in time_window.clusters.items():\n",
    "    clusters2[k] = Cluster(nodes)\n"
   ]
  },
  {
   "cell_type": "code",
   "execution_count": 124,
   "metadata": {},
   "outputs": [
    {
     "data": {
      "text/plain": [
       "5"
      ]
     },
     "execution_count": 124,
     "metadata": {},
     "output_type": "execute_result"
    }
   ],
   "source": [
    "threshold = 20\n",
    "large_keys = [k for k, c in clusters.items() if c.size >= threshold] + [k for k, c in clusters2.items() if c.size >= threshold]\n",
    "len(large_keys)"
   ]
  },
  {
   "cell_type": "code",
   "execution_count": 121,
   "metadata": {},
   "outputs": [],
   "source": [
    "threshold = 20\n",
    "large_keys = [k for k, c in clusters.items() if c.size >= threshold] + [k for k, c in clusters2.items() if c.size >= threshold]\n",
    "large_keys = list(set(large_keys))\n",
    "large_keys.sort()\n"
   ]
  },
  {
   "cell_type": "code",
   "execution_count": 122,
   "metadata": {},
   "outputs": [],
   "source": [
    "old, new = {}, {}\n",
    "\n",
    "for k in large_keys:\n",
    "    c1 = clusters[k]\n",
    "    c2 = clusters2[k]\n",
    "    # print(k, c1.center[0], \": \", c1.size, c2.size)\n",
    "\n",
    "    # if abs(c1.size - c2.size) > c1.size*.3 \\\n",
    "    #     and c1.center[0] > 25:\n",
    "    #     print(c1.center[0])\n",
    "\n",
    "    old[k] = c1\n",
    "    new[k] = c2\n",
    "\t"
   ]
  },
  {
   "cell_type": "code",
   "execution_count": 123,
   "metadata": {},
   "outputs": [
    {
     "data": {
      "text/plain": [
       "4"
      ]
     },
     "execution_count": 123,
     "metadata": {},
     "output_type": "execute_result"
    }
   ],
   "source": [
    "len(old)"
   ]
  },
  {
   "cell_type": "code",
   "execution_count": 125,
   "metadata": {},
   "outputs": [
    {
     "name": "stdout",
     "output_type": "stream",
     "text": [
      "(0.0, 0)\n",
      "(90.0, 0)\n",
      "(33.0, 0)\n",
      "(56.0, 0)\n"
     ]
    }
   ],
   "source": [
    "for c in [v for (k, v) in clusters.items() if k in large_keys]:\n",
    "    print(c.center)"
   ]
  },
  {
   "cell_type": "code",
   "execution_count": 127,
   "metadata": {},
   "outputs": [],
   "source": [
    "# STORE DATA\n",
    "data = {\n",
    "    'new': [c.__dict__ for k, c in new.items()],\n",
    "    'old': [c.__dict__ for k, c in old.items()],\n",
    "    'coords': coords,\n",
    "}\n",
    "\n",
    "import json\n",
    "with open('likes_interpretation_data.json', 'w') as fh:\n",
    "    fh.write(json.dumps(data))"
   ]
  },
  {
   "cell_type": "code",
   "execution_count": 149,
   "metadata": {},
   "outputs": [
    {
     "data": {
      "image/png": "[encoded data removed]",
      "image/svg+xml": "<?xml version=\"1.0\" encoding=\"utf-8\" standalone=\"no\"?>\r\n<!DOCTYPE svg PUBLIC \"-//W3C//DTD SVG 1.1//EN\"\r\n  \"http://www.w3.org/Graphics/SVG/1.1/DTD/svg11.dtd\">\r\n<!-- Created with matplotlib (https://matplotlib.org/) -->\r\n<svg height=\"270.275937pt\" version=\"1.1\" viewBox=\"0 0 390.600781 270.275937\" width=\"390.600781pt\" xmlns=\"http://www.w3.org/2000/svg\" xmlns:xlink=\"http://www.w3.org/1999/xlink\">\r\n <defs>\r\n  <style type=\"text/css\">\r\n*{stroke-linecap:butt;stroke-linejoin:round;}\r\n  </style>\r\n </defs>\r\n <g id=\"figure_1\">\r\n  <g id=\"patch_1\">\r\n   <path d=\"M 0 270.275937 \r\nL 390.600781 270.275937 \r\nL 390.600781 0 \r\nL 0 0 \r\nz\r\n\" style=\"fill:none;\"/>\r\n  </g>\r\n  <g id=\"axes_1\">\r\n   <g id=\"patch_2\">\r\n    <path d=\"M 48.600781 224.64 \r\nL 383.400781 224.64 \r\nL 383.400781 7.2 \r\nL 48.600781 7.2 \r\nz\r\n\" style=\"fill:#ffffff;\"/>\r\n   </g>\r\n   <g id=\"PathCollection_1\">\r\n    <path clip-path=\"url(#p6ed92a5483)\" d=\"M 319.016166 198.646951 \r\nC 321.733689 198.646951 324.340275 197.567267 326.261854 195.645688 \r\nC 328.183433 193.724109 329.263117 191.117523 329.263117 188.4 \r\nC 329.263117 185.682477 328.183433 183.075891 326.261854 181.154312 \r\nC 324.340275 179.232733 321.733689 178.153049 319.016166 178.153049 \r\nC 316.298643 178.153049 313.692057 179.232733 311.770477 181.154312 \r\nC 309.848898 183.075891 308.769215 185.682477 308.769215 188.4 \r\nC 308.769215 191.117523 309.848898 193.724109 311.770477 195.645688 \r\nC 313.692057 197.567267 316.298643 198.646951 319.016166 198.646951 \r\nz\r\n\" style=\"fill:#f16a70;stroke:#f16a70;\"/>\r\n    <path clip-path=\"url(#p6ed92a5483)\" d=\"M 231.453089 198.888088 \r\nC 234.234563 198.888088 236.902489 197.782997 238.869287 195.816198 \r\nC 240.836086 193.8494 241.941177 191.181474 241.941177 188.4 \r\nC 241.941177 185.618526 240.836086 182.9506 238.869287 180.983802 \r\nC 236.902489 179.017003 234.234563 177.911912 231.453089 177.911912 \r\nC 228.671615 177.911912 226.003689 179.017003 224.03689 180.983802 \r\nC 222.070092 182.9506 220.965 185.618526 220.965 188.4 \r\nC 220.965 191.181474 222.070092 193.8494 224.03689 195.816198 \r\nC 226.003689 197.782997 228.671615 198.888088 231.453089 198.888088 \r\nz\r\n\" style=\"fill:#b1d877;stroke:#b1d877;\"/>\r\n    <path clip-path=\"url(#p6ed92a5483)\" d=\"M 172.219243 195.108204 \r\nC 173.998279 195.108204 175.704691 194.401385 176.962659 193.143416 \r\nC 178.220628 191.885448 178.927447 190.179036 178.927447 188.4 \r\nC 178.927447 186.620964 178.220628 184.914552 176.962659 183.656584 \r\nC 175.704691 182.398615 173.998279 181.691796 172.219243 181.691796 \r\nC 170.440206 181.691796 168.733795 182.398615 167.475826 183.656584 \r\nC 166.217858 184.914552 165.511039 186.620964 165.511039 188.4 \r\nC 165.511039 190.179036 166.217858 191.885448 167.475826 193.143416 \r\nC 168.733795 194.401385 170.440206 195.108204 172.219243 195.108204 \r\nz\r\n\" style=\"fill:#8cdcda;stroke:#8cdcda;\"/>\r\n    <path clip-path=\"url(#p6ed92a5483)\" d=\"M 87.23155 218.14895 \r\nC 95.121064 218.14895 102.688506 215.014413 108.267234 209.435684 \r\nC 113.845963 203.856955 116.9805 196.289514 116.9805 188.4 \r\nC 116.9805 180.510486 113.845963 172.943045 108.267234 167.364316 \r\nC 102.688506 161.785587 95.121064 158.65105 87.23155 158.65105 \r\nC 79.342037 158.65105 71.774595 161.785587 66.195867 167.364316 \r\nC 60.617138 172.943045 57.482601 180.510486 57.482601 188.4 \r\nC 57.482601 196.289514 60.617138 203.856955 66.195867 209.435684 \r\nC 71.774595 215.014413 79.342037 218.14895 87.23155 218.14895 \r\nz\r\n\" style=\"fill:#4d4d4d;stroke:#4d4d4d;\"/>\r\n   </g>\r\n   <g id=\"PathCollection_2\">\r\n    <path clip-path=\"url(#p6ed92a5483)\" d=\"M 319.016166 122.628204 \r\nC 320.795202 122.628204 322.501614 121.921385 323.759582 120.663416 \r\nC 325.017551 119.405448 325.72437 117.699036 325.72437 115.92 \r\nC 325.72437 114.140964 325.017551 112.434552 323.759582 111.176584 \r\nC 322.501614 109.918615 320.795202 109.211796 319.016166 109.211796 \r\nC 317.237129 109.211796 315.530718 109.918615 314.272749 111.176584 \r\nC 313.014781 112.434552 312.307962 114.140964 312.307962 115.92 \r\nC 312.307962 117.699036 313.014781 119.405448 314.272749 120.663416 \r\nC 315.530718 121.921385 317.237129 122.628204 319.016166 122.628204 \r\nz\r\n\" style=\"fill:#f16a70;stroke:#f16a70;\"/>\r\n    <path clip-path=\"url(#p6ed92a5483)\" d=\"M 231.453089 123.665967 \r\nC 233.507343 123.665967 235.477737 122.849803 236.930315 121.397226 \r\nC 238.382892 119.944648 239.199056 117.974254 239.199056 115.92 \r\nC 239.199056 113.865746 238.382892 111.895352 236.930315 110.442774 \r\nC 235.477737 108.990197 233.507343 108.174033 231.453089 108.174033 \r\nC 229.398835 108.174033 227.428441 108.990197 225.975863 110.442774 \r\nC 224.523286 111.895352 223.707122 113.865746 223.707122 115.92 \r\nC 223.707122 117.974254 224.523286 119.944648 225.975863 121.397226 \r\nC 227.428441 122.849803 229.398835 123.665967 231.453089 123.665967 \r\nz\r\n\" style=\"fill:#b1d877;stroke:#b1d877;\"/>\r\n    <path clip-path=\"url(#p6ed92a5483)\" d=\"M 172.219243 125.92 \r\nC 174.871274 125.92 177.415041 124.866337 179.290311 122.991068 \r\nC 181.16558 121.115799 182.219243 118.572031 182.219243 115.92 \r\nC 182.219243 113.267969 181.16558 110.724201 179.290311 108.848932 \r\nC 177.415041 106.973663 174.871274 105.92 172.219243 105.92 \r\nC 169.567212 105.92 167.023444 106.973663 165.148175 108.848932 \r\nC 163.272906 110.724201 162.219243 113.267969 162.219243 115.92 \r\nC 162.219243 118.572031 163.272906 121.115799 165.148175 122.991068 \r\nC 167.023444 124.866337 169.567212 125.92 172.219243 125.92 \r\nz\r\n\" style=\"fill:#8cdcda;stroke:#8cdcda;\"/>\r\n    <path clip-path=\"url(#p6ed92a5483)\" d=\"M 87.23155 146.823074 \r\nC 95.427142 146.823074 103.288166 143.566931 109.083324 137.771773 \r\nC 114.878482 131.976615 118.134625 124.115591 118.134625 115.92 \r\nC 118.134625 107.724409 114.878482 99.863385 109.083324 94.068227 \r\nC 103.288166 88.273069 95.427142 85.016926 87.23155 85.016926 \r\nC 79.035959 85.016926 71.174935 88.273069 65.379777 94.068227 \r\nC 59.584619 99.863385 56.328476 107.724409 56.328476 115.92 \r\nC 56.328476 124.115591 59.584619 131.976615 65.379777 137.771773 \r\nC 71.174935 143.566931 79.035959 146.823074 87.23155 146.823074 \r\nz\r\n\" style=\"fill:#4d4d4d;stroke:#4d4d4d;\"/>\r\n   </g>\r\n   <g id=\"matplotlib.axis_1\">\r\n    <g id=\"xtick_1\">\r\n     <g id=\"line2d_1\">\r\n      <defs>\r\n       <path d=\"M 0 0 \r\nL 0 3.5 \r\n\" id=\"mb2bc644f0e\" style=\"stroke:#000000;stroke-width:0.8;\"/>\r\n      </defs>\r\n      <g>\r\n       <use style=\"stroke:#000000;stroke-width:0.8;\" x=\"87.23155\" xlink:href=\"#mb2bc644f0e\" y=\"224.64\"/>\r\n      </g>\r\n     </g>\r\n     <g id=\"text_1\">\r\n      <!-- 0 -->\r\n      <defs>\r\n       <path d=\"M 4.15625 35.296875 \r\nQ 4.15625 48 6.765625 55.734375 \r\nQ 9.375 63.484375 14.515625 67.671875 \r\nQ 19.671875 71.875 27.484375 71.875 \r\nQ 33.25 71.875 37.59375 69.546875 \r\nQ 41.9375 67.234375 44.765625 62.859375 \r\nQ 47.609375 58.5 49.21875 52.21875 \r\nQ 50.828125 45.953125 50.828125 35.296875 \r\nQ 50.828125 22.703125 48.234375 14.96875 \r\nQ 45.65625 7.234375 40.5 3 \r\nQ 35.359375 -1.21875 27.484375 -1.21875 \r\nQ 17.140625 -1.21875 11.234375 6.203125 \r\nQ 4.15625 15.140625 4.15625 35.296875 \r\nz\r\nM 13.1875 35.296875 \r\nQ 13.1875 17.671875 17.3125 11.828125 \r\nQ 21.4375 6 27.484375 6 \r\nQ 33.546875 6 37.671875 11.859375 \r\nQ 41.796875 17.71875 41.796875 35.296875 \r\nQ 41.796875 52.984375 37.671875 58.78125 \r\nQ 33.546875 64.59375 27.390625 64.59375 \r\nQ 21.34375 64.59375 17.71875 59.46875 \r\nQ 13.1875 52.9375 13.1875 35.296875 \r\nz\r\n\" id=\"ArialMT-48\"/>\r\n      </defs>\r\n      <g transform=\"translate(83.060847 242.376719)scale(0.15 -0.15)\">\r\n       <use xlink:href=\"#ArialMT-48\"/>\r\n      </g>\r\n     </g>\r\n    </g>\r\n    <g id=\"xtick_2\">\r\n     <g id=\"line2d_2\">\r\n      <g>\r\n       <use style=\"stroke:#000000;stroke-width:0.8;\" x=\"138.739243\" xlink:href=\"#mb2bc644f0e\" y=\"224.64\"/>\r\n      </g>\r\n     </g>\r\n     <g id=\"text_2\">\r\n      <!-- 200 -->\r\n      <defs>\r\n       <path d=\"M 50.34375 8.453125 \r\nL 50.34375 0 \r\nL 3.03125 0 \r\nQ 2.9375 3.171875 4.046875 6.109375 \r\nQ 5.859375 10.9375 9.828125 15.625 \r\nQ 13.8125 20.3125 21.34375 26.46875 \r\nQ 33.015625 36.03125 37.109375 41.625 \r\nQ 41.21875 47.21875 41.21875 52.203125 \r\nQ 41.21875 57.421875 37.46875 61 \r\nQ 33.734375 64.59375 27.734375 64.59375 \r\nQ 21.390625 64.59375 17.578125 60.78125 \r\nQ 13.765625 56.984375 13.71875 50.25 \r\nL 4.6875 51.171875 \r\nQ 5.609375 61.28125 11.65625 66.578125 \r\nQ 17.71875 71.875 27.9375 71.875 \r\nQ 38.234375 71.875 44.234375 66.15625 \r\nQ 50.25 60.453125 50.25 52 \r\nQ 50.25 47.703125 48.484375 43.546875 \r\nQ 46.734375 39.40625 42.65625 34.8125 \r\nQ 38.578125 30.21875 29.109375 22.21875 \r\nQ 21.1875 15.578125 18.9375 13.203125 \r\nQ 16.703125 10.84375 15.234375 8.453125 \r\nz\r\n\" id=\"ArialMT-50\"/>\r\n      </defs>\r\n      <g transform=\"translate(126.227133 242.376719)scale(0.15 -0.15)\">\r\n       <use xlink:href=\"#ArialMT-50\"/>\r\n       <use x=\"55.615234\" xlink:href=\"#ArialMT-48\"/>\r\n       <use x=\"111.230469\" xlink:href=\"#ArialMT-48\"/>\r\n      </g>\r\n     </g>\r\n    </g>\r\n    <g id=\"xtick_3\">\r\n     <g id=\"line2d_3\">\r\n      <g>\r\n       <use style=\"stroke:#000000;stroke-width:0.8;\" x=\"190.246935\" xlink:href=\"#mb2bc644f0e\" y=\"224.64\"/>\r\n      </g>\r\n     </g>\r\n     <g id=\"text_3\">\r\n      <!-- 400 -->\r\n      <defs>\r\n       <path d=\"M 32.328125 0 \r\nL 32.328125 17.140625 \r\nL 1.265625 17.140625 \r\nL 1.265625 25.203125 \r\nL 33.9375 71.578125 \r\nL 41.109375 71.578125 \r\nL 41.109375 25.203125 \r\nL 50.78125 25.203125 \r\nL 50.78125 17.140625 \r\nL 41.109375 17.140625 \r\nL 41.109375 0 \r\nz\r\nM 32.328125 25.203125 \r\nL 32.328125 57.46875 \r\nL 9.90625 25.203125 \r\nz\r\n\" id=\"ArialMT-52\"/>\r\n      </defs>\r\n      <g transform=\"translate(177.734826 242.376719)scale(0.15 -0.15)\">\r\n       <use xlink:href=\"#ArialMT-52\"/>\r\n       <use x=\"55.615234\" xlink:href=\"#ArialMT-48\"/>\r\n       <use x=\"111.230469\" xlink:href=\"#ArialMT-48\"/>\r\n      </g>\r\n     </g>\r\n    </g>\r\n    <g id=\"xtick_4\">\r\n     <g id=\"line2d_4\">\r\n      <g>\r\n       <use style=\"stroke:#000000;stroke-width:0.8;\" x=\"241.754627\" xlink:href=\"#mb2bc644f0e\" y=\"224.64\"/>\r\n      </g>\r\n     </g>\r\n     <g id=\"text_4\">\r\n      <!-- 600 -->\r\n      <defs>\r\n       <path d=\"M 49.75 54.046875 \r\nL 41.015625 53.375 \r\nQ 39.84375 58.546875 37.703125 60.890625 \r\nQ 34.125 64.65625 28.90625 64.65625 \r\nQ 24.703125 64.65625 21.53125 62.3125 \r\nQ 17.390625 59.28125 14.984375 53.46875 \r\nQ 12.59375 47.65625 12.5 36.921875 \r\nQ 15.671875 41.75 20.265625 44.09375 \r\nQ 24.859375 46.4375 29.890625 46.4375 \r\nQ 38.671875 46.4375 44.84375 39.96875 \r\nQ 51.03125 33.5 51.03125 23.25 \r\nQ 51.03125 16.5 48.125 10.71875 \r\nQ 45.21875 4.9375 40.140625 1.859375 \r\nQ 35.0625 -1.21875 28.609375 -1.21875 \r\nQ 17.625 -1.21875 10.6875 6.859375 \r\nQ 3.765625 14.9375 3.765625 33.5 \r\nQ 3.765625 54.25 11.421875 63.671875 \r\nQ 18.109375 71.875 29.4375 71.875 \r\nQ 37.890625 71.875 43.28125 67.140625 \r\nQ 48.6875 62.40625 49.75 54.046875 \r\nz\r\nM 13.875 23.1875 \r\nQ 13.875 18.65625 15.796875 14.5 \r\nQ 17.71875 10.359375 21.1875 8.171875 \r\nQ 24.65625 6 28.46875 6 \r\nQ 34.03125 6 38.03125 10.484375 \r\nQ 42.046875 14.984375 42.046875 22.703125 \r\nQ 42.046875 30.125 38.078125 34.390625 \r\nQ 34.125 38.671875 28.125 38.671875 \r\nQ 22.171875 38.671875 18.015625 34.390625 \r\nQ 13.875 30.125 13.875 23.1875 \r\nz\r\n\" id=\"ArialMT-54\"/>\r\n      </defs>\r\n      <g transform=\"translate(229.242518 242.376719)scale(0.15 -0.15)\">\r\n       <use xlink:href=\"#ArialMT-54\"/>\r\n       <use x=\"55.615234\" xlink:href=\"#ArialMT-48\"/>\r\n       <use x=\"111.230469\" xlink:href=\"#ArialMT-48\"/>\r\n      </g>\r\n     </g>\r\n    </g>\r\n    <g id=\"xtick_5\">\r\n     <g id=\"line2d_5\">\r\n      <g>\r\n       <use style=\"stroke:#000000;stroke-width:0.8;\" x=\"293.26232\" xlink:href=\"#mb2bc644f0e\" y=\"224.64\"/>\r\n      </g>\r\n     </g>\r\n     <g id=\"text_5\">\r\n      <!-- 800 -->\r\n      <defs>\r\n       <path d=\"M 17.671875 38.8125 \r\nQ 12.203125 40.828125 9.5625 44.53125 \r\nQ 6.9375 48.25 6.9375 53.421875 \r\nQ 6.9375 61.234375 12.546875 66.546875 \r\nQ 18.171875 71.875 27.484375 71.875 \r\nQ 36.859375 71.875 42.578125 66.421875 \r\nQ 48.296875 60.984375 48.296875 53.171875 \r\nQ 48.296875 48.1875 45.671875 44.5 \r\nQ 43.0625 40.828125 37.75 38.8125 \r\nQ 44.34375 36.671875 47.78125 31.875 \r\nQ 51.21875 27.09375 51.21875 20.453125 \r\nQ 51.21875 11.28125 44.71875 5.03125 \r\nQ 38.234375 -1.21875 27.640625 -1.21875 \r\nQ 17.046875 -1.21875 10.546875 5.046875 \r\nQ 4.046875 11.328125 4.046875 20.703125 \r\nQ 4.046875 27.6875 7.59375 32.390625 \r\nQ 11.140625 37.109375 17.671875 38.8125 \r\nz\r\nM 15.921875 53.71875 \r\nQ 15.921875 48.640625 19.1875 45.40625 \r\nQ 22.46875 42.1875 27.6875 42.1875 \r\nQ 32.765625 42.1875 36.015625 45.375 \r\nQ 39.265625 48.578125 39.265625 53.21875 \r\nQ 39.265625 58.0625 35.90625 61.359375 \r\nQ 32.5625 64.65625 27.59375 64.65625 \r\nQ 22.5625 64.65625 19.234375 61.421875 \r\nQ 15.921875 58.203125 15.921875 53.71875 \r\nz\r\nM 13.09375 20.65625 \r\nQ 13.09375 16.890625 14.875 13.375 \r\nQ 16.65625 9.859375 20.171875 7.921875 \r\nQ 23.6875 6 27.734375 6 \r\nQ 34.03125 6 38.125 10.046875 \r\nQ 42.234375 14.109375 42.234375 20.359375 \r\nQ 42.234375 26.703125 38.015625 30.859375 \r\nQ 33.796875 35.015625 27.4375 35.015625 \r\nQ 21.234375 35.015625 17.15625 30.90625 \r\nQ 13.09375 26.8125 13.09375 20.65625 \r\nz\r\n\" id=\"ArialMT-56\"/>\r\n      </defs>\r\n      <g transform=\"translate(280.75021 242.376719)scale(0.15 -0.15)\">\r\n       <use xlink:href=\"#ArialMT-56\"/>\r\n       <use x=\"55.615234\" xlink:href=\"#ArialMT-48\"/>\r\n       <use x=\"111.230469\" xlink:href=\"#ArialMT-48\"/>\r\n      </g>\r\n     </g>\r\n    </g>\r\n    <g id=\"xtick_6\">\r\n     <g id=\"line2d_6\">\r\n      <g>\r\n       <use style=\"stroke:#000000;stroke-width:0.8;\" x=\"344.770012\" xlink:href=\"#mb2bc644f0e\" y=\"224.64\"/>\r\n      </g>\r\n     </g>\r\n     <g id=\"text_6\">\r\n      <!-- 1000 -->\r\n      <defs>\r\n       <path d=\"M 37.25 0 \r\nL 28.46875 0 \r\nL 28.46875 56 \r\nQ 25.296875 52.984375 20.140625 49.953125 \r\nQ 14.984375 46.921875 10.890625 45.40625 \r\nL 10.890625 53.90625 \r\nQ 18.265625 57.375 23.78125 62.296875 \r\nQ 29.296875 67.234375 31.59375 71.875 \r\nL 37.25 71.875 \r\nz\r\n\" id=\"ArialMT-49\"/>\r\n      </defs>\r\n      <g transform=\"translate(328.0872 242.376719)scale(0.15 -0.15)\">\r\n       <use xlink:href=\"#ArialMT-49\"/>\r\n       <use x=\"55.615234\" xlink:href=\"#ArialMT-48\"/>\r\n       <use x=\"111.230469\" xlink:href=\"#ArialMT-48\"/>\r\n       <use x=\"166.845703\" xlink:href=\"#ArialMT-48\"/>\r\n      </g>\r\n     </g>\r\n    </g>\r\n    <g id=\"text_7\">\r\n     <!-- Number of likes -->\r\n     <defs>\r\n      <path d=\"M 7.625 0 \r\nL 7.625 71.578125 \r\nL 17.328125 71.578125 \r\nL 54.9375 15.375 \r\nL 54.9375 71.578125 \r\nL 64.015625 71.578125 \r\nL 64.015625 0 \r\nL 54.296875 0 \r\nL 16.703125 56.25 \r\nL 16.703125 0 \r\nz\r\n\" id=\"ArialMT-78\"/>\r\n      <path d=\"M 40.578125 0 \r\nL 40.578125 7.625 \r\nQ 34.515625 -1.171875 24.125 -1.171875 \r\nQ 19.53125 -1.171875 15.546875 0.578125 \r\nQ 11.578125 2.34375 9.640625 5 \r\nQ 7.71875 7.671875 6.9375 11.53125 \r\nQ 6.390625 14.109375 6.390625 19.734375 \r\nL 6.390625 51.859375 \r\nL 15.1875 51.859375 \r\nL 15.1875 23.09375 \r\nQ 15.1875 16.21875 15.71875 13.8125 \r\nQ 16.546875 10.359375 19.234375 8.375 \r\nQ 21.921875 6.390625 25.875 6.390625 \r\nQ 29.828125 6.390625 33.296875 8.421875 \r\nQ 36.765625 10.453125 38.203125 13.9375 \r\nQ 39.65625 17.4375 39.65625 24.078125 \r\nL 39.65625 51.859375 \r\nL 48.4375 51.859375 \r\nL 48.4375 0 \r\nz\r\n\" id=\"ArialMT-117\"/>\r\n      <path d=\"M 6.59375 0 \r\nL 6.59375 51.859375 \r\nL 14.453125 51.859375 \r\nL 14.453125 44.578125 \r\nQ 16.890625 48.390625 20.9375 50.703125 \r\nQ 25 53.03125 30.171875 53.03125 \r\nQ 35.9375 53.03125 39.625 50.640625 \r\nQ 43.3125 48.25 44.828125 43.953125 \r\nQ 50.984375 53.03125 60.84375 53.03125 \r\nQ 68.5625 53.03125 72.703125 48.75 \r\nQ 76.859375 44.484375 76.859375 35.59375 \r\nL 76.859375 0 \r\nL 68.109375 0 \r\nL 68.109375 32.671875 \r\nQ 68.109375 37.9375 67.25 40.25 \r\nQ 66.40625 42.578125 64.15625 43.984375 \r\nQ 61.921875 45.40625 58.890625 45.40625 \r\nQ 53.421875 45.40625 49.796875 41.765625 \r\nQ 46.1875 38.140625 46.1875 30.125 \r\nL 46.1875 0 \r\nL 37.40625 0 \r\nL 37.40625 33.6875 \r\nQ 37.40625 39.546875 35.25 42.46875 \r\nQ 33.109375 45.40625 28.21875 45.40625 \r\nQ 24.515625 45.40625 21.359375 43.453125 \r\nQ 18.21875 41.5 16.796875 37.734375 \r\nQ 15.375 33.984375 15.375 26.90625 \r\nL 15.375 0 \r\nz\r\n\" id=\"ArialMT-109\"/>\r\n      <path d=\"M 14.703125 0 \r\nL 6.546875 0 \r\nL 6.546875 71.578125 \r\nL 15.328125 71.578125 \r\nL 15.328125 46.046875 \r\nQ 20.90625 53.03125 29.546875 53.03125 \r\nQ 34.328125 53.03125 38.59375 51.09375 \r\nQ 42.875 49.171875 45.625 45.671875 \r\nQ 48.390625 42.1875 49.953125 37.25 \r\nQ 51.515625 32.328125 51.515625 26.703125 \r\nQ 51.515625 13.375 44.921875 6.09375 \r\nQ 38.328125 -1.171875 29.109375 -1.171875 \r\nQ 19.921875 -1.171875 14.703125 6.5 \r\nz\r\nM 14.59375 26.3125 \r\nQ 14.59375 17 17.140625 12.84375 \r\nQ 21.296875 6.0625 28.375 6.0625 \r\nQ 34.125 6.0625 38.328125 11.0625 \r\nQ 42.53125 16.0625 42.53125 25.984375 \r\nQ 42.53125 36.140625 38.5 40.96875 \r\nQ 34.46875 45.796875 28.765625 45.796875 \r\nQ 23 45.796875 18.796875 40.796875 \r\nQ 14.59375 35.796875 14.59375 26.3125 \r\nz\r\n\" id=\"ArialMT-98\"/>\r\n      <path d=\"M 42.09375 16.703125 \r\nL 51.171875 15.578125 \r\nQ 49.03125 7.625 43.21875 3.21875 \r\nQ 37.40625 -1.171875 28.375 -1.171875 \r\nQ 17 -1.171875 10.328125 5.828125 \r\nQ 3.65625 12.84375 3.65625 25.484375 \r\nQ 3.65625 38.578125 10.390625 45.796875 \r\nQ 17.140625 53.03125 27.875 53.03125 \r\nQ 38.28125 53.03125 44.875 45.953125 \r\nQ 51.46875 38.875 51.46875 26.03125 \r\nQ 51.46875 25.25 51.421875 23.6875 \r\nL 12.75 23.6875 \r\nQ 13.234375 15.140625 17.578125 10.59375 \r\nQ 21.921875 6.0625 28.421875 6.0625 \r\nQ 33.25 6.0625 36.671875 8.59375 \r\nQ 40.09375 11.140625 42.09375 16.703125 \r\nz\r\nM 13.234375 30.90625 \r\nL 42.1875 30.90625 \r\nQ 41.609375 37.453125 38.875 40.71875 \r\nQ 34.671875 45.796875 27.984375 45.796875 \r\nQ 21.921875 45.796875 17.796875 41.75 \r\nQ 13.671875 37.703125 13.234375 30.90625 \r\nz\r\n\" id=\"ArialMT-101\"/>\r\n      <path d=\"M 6.5 0 \r\nL 6.5 51.859375 \r\nL 14.40625 51.859375 \r\nL 14.40625 44 \r\nQ 17.4375 49.515625 20 51.265625 \r\nQ 22.5625 53.03125 25.640625 53.03125 \r\nQ 30.078125 53.03125 34.671875 50.203125 \r\nL 31.640625 42.046875 \r\nQ 28.421875 43.953125 25.203125 43.953125 \r\nQ 22.3125 43.953125 20.015625 42.21875 \r\nQ 17.71875 40.484375 16.75 37.40625 \r\nQ 15.28125 32.71875 15.28125 27.15625 \r\nL 15.28125 0 \r\nz\r\n\" id=\"ArialMT-114\"/>\r\n      <path id=\"ArialMT-32\"/>\r\n      <path d=\"M 3.328125 25.921875 \r\nQ 3.328125 40.328125 11.328125 47.265625 \r\nQ 18.015625 53.03125 27.640625 53.03125 \r\nQ 38.328125 53.03125 45.109375 46.015625 \r\nQ 51.90625 39.015625 51.90625 26.65625 \r\nQ 51.90625 16.65625 48.90625 10.90625 \r\nQ 45.90625 5.171875 40.15625 2 \r\nQ 34.421875 -1.171875 27.640625 -1.171875 \r\nQ 16.75 -1.171875 10.03125 5.8125 \r\nQ 3.328125 12.796875 3.328125 25.921875 \r\nz\r\nM 12.359375 25.921875 \r\nQ 12.359375 15.96875 16.703125 11.015625 \r\nQ 21.046875 6.0625 27.640625 6.0625 \r\nQ 34.1875 6.0625 38.53125 11.03125 \r\nQ 42.875 16.015625 42.875 26.21875 \r\nQ 42.875 35.84375 38.5 40.796875 \r\nQ 34.125 45.75 27.640625 45.75 \r\nQ 21.046875 45.75 16.703125 40.8125 \r\nQ 12.359375 35.890625 12.359375 25.921875 \r\nz\r\n\" id=\"ArialMT-111\"/>\r\n      <path d=\"M 8.6875 0 \r\nL 8.6875 45.015625 \r\nL 0.921875 45.015625 \r\nL 0.921875 51.859375 \r\nL 8.6875 51.859375 \r\nL 8.6875 57.375 \r\nQ 8.6875 62.59375 9.625 65.140625 \r\nQ 10.890625 68.5625 14.078125 70.671875 \r\nQ 17.28125 72.796875 23.046875 72.796875 \r\nQ 26.765625 72.796875 31.25 71.921875 \r\nL 29.9375 64.265625 \r\nQ 27.203125 64.75 24.75 64.75 \r\nQ 20.75 64.75 19.09375 63.03125 \r\nQ 17.4375 61.328125 17.4375 56.640625 \r\nL 17.4375 51.859375 \r\nL 27.546875 51.859375 \r\nL 27.546875 45.015625 \r\nL 17.4375 45.015625 \r\nL 17.4375 0 \r\nz\r\n\" id=\"ArialMT-102\"/>\r\n      <path d=\"M 6.390625 0 \r\nL 6.390625 71.578125 \r\nL 15.1875 71.578125 \r\nL 15.1875 0 \r\nz\r\n\" id=\"ArialMT-108\"/>\r\n      <path d=\"M 6.640625 61.46875 \r\nL 6.640625 71.578125 \r\nL 15.4375 71.578125 \r\nL 15.4375 61.46875 \r\nz\r\nM 6.640625 0 \r\nL 6.640625 51.859375 \r\nL 15.4375 51.859375 \r\nL 15.4375 0 \r\nz\r\n\" id=\"ArialMT-105\"/>\r\n      <path d=\"M 6.640625 0 \r\nL 6.640625 71.578125 \r\nL 15.4375 71.578125 \r\nL 15.4375 30.765625 \r\nL 36.234375 51.859375 \r\nL 47.609375 51.859375 \r\nL 27.78125 32.625 \r\nL 49.609375 0 \r\nL 38.765625 0 \r\nL 21.625 26.515625 \r\nL 15.4375 20.5625 \r\nL 15.4375 0 \r\nz\r\n\" id=\"ArialMT-107\"/>\r\n      <path d=\"M 3.078125 15.484375 \r\nL 11.765625 16.84375 \r\nQ 12.5 11.625 15.84375 8.84375 \r\nQ 19.1875 6.0625 25.203125 6.0625 \r\nQ 31.25 6.0625 34.171875 8.515625 \r\nQ 37.109375 10.984375 37.109375 14.3125 \r\nQ 37.109375 17.28125 34.515625 19 \r\nQ 32.71875 20.171875 25.53125 21.96875 \r\nQ 15.875 24.421875 12.140625 26.203125 \r\nQ 8.40625 27.984375 6.46875 31.125 \r\nQ 4.546875 34.28125 4.546875 38.09375 \r\nQ 4.546875 41.546875 6.125 44.5 \r\nQ 7.71875 47.46875 10.453125 49.421875 \r\nQ 12.5 50.921875 16.03125 51.96875 \r\nQ 19.578125 53.03125 23.640625 53.03125 \r\nQ 29.734375 53.03125 34.34375 51.265625 \r\nQ 38.96875 49.515625 41.15625 46.5 \r\nQ 43.359375 43.5 44.1875 38.484375 \r\nL 35.59375 37.3125 \r\nQ 35.015625 41.3125 32.203125 43.546875 \r\nQ 29.390625 45.796875 24.265625 45.796875 \r\nQ 18.21875 45.796875 15.625 43.796875 \r\nQ 13.03125 41.796875 13.03125 39.109375 \r\nQ 13.03125 37.40625 14.109375 36.03125 \r\nQ 15.1875 34.625 17.484375 33.6875 \r\nQ 18.796875 33.203125 25.25 31.453125 \r\nQ 34.578125 28.953125 38.25 27.359375 \r\nQ 41.9375 25.78125 44.03125 22.75 \r\nQ 46.140625 19.734375 46.140625 15.234375 \r\nQ 46.140625 10.84375 43.578125 6.953125 \r\nQ 41.015625 3.078125 36.171875 0.953125 \r\nQ 31.34375 -1.171875 25.25 -1.171875 \r\nQ 15.140625 -1.171875 9.84375 3.03125 \r\nQ 4.546875 7.234375 3.078125 15.484375 \r\nz\r\n\" id=\"ArialMT-115\"/>\r\n     </defs>\r\n     <g transform=\"translate(163.902734 260.094687)scale(0.15 -0.15)\">\r\n      <use xlink:href=\"#ArialMT-78\"/>\r\n      <use x=\"72.216797\" xlink:href=\"#ArialMT-117\"/>\r\n      <use x=\"127.832031\" xlink:href=\"#ArialMT-109\"/>\r\n      <use x=\"211.132812\" xlink:href=\"#ArialMT-98\"/>\r\n      <use x=\"266.748047\" xlink:href=\"#ArialMT-101\"/>\r\n      <use x=\"322.363281\" xlink:href=\"#ArialMT-114\"/>\r\n      <use x=\"355.664062\" xlink:href=\"#ArialMT-32\"/>\r\n      <use x=\"383.447266\" xlink:href=\"#ArialMT-111\"/>\r\n      <use x=\"439.0625\" xlink:href=\"#ArialMT-102\"/>\r\n      <use x=\"466.845703\" xlink:href=\"#ArialMT-32\"/>\r\n      <use x=\"494.628906\" xlink:href=\"#ArialMT-108\"/>\r\n      <use x=\"516.845703\" xlink:href=\"#ArialMT-105\"/>\r\n      <use x=\"539.0625\" xlink:href=\"#ArialMT-107\"/>\r\n      <use x=\"589.0625\" xlink:href=\"#ArialMT-101\"/>\r\n      <use x=\"644.677734\" xlink:href=\"#ArialMT-115\"/>\r\n     </g>\r\n    </g>\r\n   </g>\r\n   <g id=\"matplotlib.axis_2\">\r\n    <g id=\"ytick_1\">\r\n     <g id=\"line2d_7\">\r\n      <defs>\r\n       <path d=\"M 0 0 \r\nL -3.5 0 \r\n\" id=\"m7f0ee03e86\" style=\"stroke:#000000;stroke-width:0.8;\"/>\r\n      </defs>\r\n      <g>\r\n       <use style=\"stroke:#000000;stroke-width:0.8;\" x=\"48.600781\" xlink:href=\"#m7f0ee03e86\" y=\"188.4\"/>\r\n      </g>\r\n     </g>\r\n     <g id=\"text_8\">\r\n      <!-- 47 -->\r\n      <defs>\r\n       <path d=\"M 4.734375 62.203125 \r\nL 4.734375 70.65625 \r\nL 51.078125 70.65625 \r\nL 51.078125 63.8125 \r\nQ 44.234375 56.546875 37.515625 44.484375 \r\nQ 30.8125 32.421875 27.15625 19.671875 \r\nQ 24.515625 10.6875 23.78125 0 \r\nL 14.75 0 \r\nQ 14.890625 8.453125 18.0625 20.40625 \r\nQ 21.234375 32.375 27.171875 43.484375 \r\nQ 33.109375 54.59375 39.796875 62.203125 \r\nz\r\n\" id=\"ArialMT-55\"/>\r\n      </defs>\r\n      <g transform=\"translate(24.917969 193.768359)scale(0.15 -0.15)\">\r\n       <use xlink:href=\"#ArialMT-52\"/>\r\n       <use x=\"55.615234\" xlink:href=\"#ArialMT-55\"/>\r\n      </g>\r\n     </g>\r\n    </g>\r\n    <g id=\"ytick_2\">\r\n     <g id=\"line2d_8\">\r\n      <g>\r\n       <use style=\"stroke:#000000;stroke-width:0.8;\" x=\"48.600781\" xlink:href=\"#m7f0ee03e86\" y=\"115.92\"/>\r\n      </g>\r\n     </g>\r\n     <g id=\"text_9\">\r\n      <!-- 48 -->\r\n      <g transform=\"translate(24.917969 121.288359)scale(0.15 -0.15)\">\r\n       <use xlink:href=\"#ArialMT-52\"/>\r\n       <use x=\"55.615234\" xlink:href=\"#ArialMT-56\"/>\r\n      </g>\r\n     </g>\r\n    </g>\r\n    <g id=\"text_10\">\r\n     <!-- Time window [weeks] -->\r\n     <defs>\r\n      <path d=\"M 25.921875 0 \r\nL 25.921875 63.140625 \r\nL 2.34375 63.140625 \r\nL 2.34375 71.578125 \r\nL 59.078125 71.578125 \r\nL 59.078125 63.140625 \r\nL 35.40625 63.140625 \r\nL 35.40625 0 \r\nz\r\n\" id=\"ArialMT-84\"/>\r\n      <path d=\"M 16.15625 0 \r\nL 0.296875 51.859375 \r\nL 9.375 51.859375 \r\nL 17.625 21.921875 \r\nL 20.703125 10.796875 \r\nQ 20.90625 11.625 23.390625 21.484375 \r\nL 31.640625 51.859375 \r\nL 40.671875 51.859375 \r\nL 48.4375 21.78125 \r\nL 51.03125 11.859375 \r\nL 54 21.875 \r\nL 62.890625 51.859375 \r\nL 71.4375 51.859375 \r\nL 55.21875 0 \r\nL 46.09375 0 \r\nL 37.84375 31.0625 \r\nL 35.84375 39.890625 \r\nL 25.34375 0 \r\nz\r\n\" id=\"ArialMT-119\"/>\r\n      <path d=\"M 6.59375 0 \r\nL 6.59375 51.859375 \r\nL 14.5 51.859375 \r\nL 14.5 44.484375 \r\nQ 20.21875 53.03125 31 53.03125 \r\nQ 35.6875 53.03125 39.625 51.34375 \r\nQ 43.5625 49.65625 45.515625 46.921875 \r\nQ 47.46875 44.1875 48.25 40.4375 \r\nQ 48.734375 37.984375 48.734375 31.890625 \r\nL 48.734375 0 \r\nL 39.9375 0 \r\nL 39.9375 31.546875 \r\nQ 39.9375 36.921875 38.90625 39.578125 \r\nQ 37.890625 42.234375 35.28125 43.8125 \r\nQ 32.671875 45.40625 29.15625 45.40625 \r\nQ 23.53125 45.40625 19.453125 41.84375 \r\nQ 15.375 38.28125 15.375 28.328125 \r\nL 15.375 0 \r\nz\r\n\" id=\"ArialMT-110\"/>\r\n      <path d=\"M 40.234375 0 \r\nL 40.234375 6.546875 \r\nQ 35.296875 -1.171875 25.734375 -1.171875 \r\nQ 19.53125 -1.171875 14.328125 2.25 \r\nQ 9.125 5.671875 6.265625 11.796875 \r\nQ 3.421875 17.921875 3.421875 25.875 \r\nQ 3.421875 33.640625 6 39.96875 \r\nQ 8.59375 46.296875 13.765625 49.65625 \r\nQ 18.953125 53.03125 25.34375 53.03125 \r\nQ 30.03125 53.03125 33.6875 51.046875 \r\nQ 37.359375 49.078125 39.65625 45.90625 \r\nL 39.65625 71.578125 \r\nL 48.390625 71.578125 \r\nL 48.390625 0 \r\nz\r\nM 12.453125 25.875 \r\nQ 12.453125 15.921875 16.640625 10.984375 \r\nQ 20.84375 6.0625 26.5625 6.0625 \r\nQ 32.328125 6.0625 36.34375 10.765625 \r\nQ 40.375 15.484375 40.375 25.140625 \r\nQ 40.375 35.796875 36.265625 40.765625 \r\nQ 32.171875 45.75 26.171875 45.75 \r\nQ 20.3125 45.75 16.375 40.96875 \r\nQ 12.453125 36.1875 12.453125 25.875 \r\nz\r\n\" id=\"ArialMT-100\"/>\r\n      <path d=\"M 6.78125 -19.875 \r\nL 6.78125 71.578125 \r\nL 26.171875 71.578125 \r\nL 26.171875 64.3125 \r\nL 15.578125 64.3125 \r\nL 15.578125 -12.59375 \r\nL 26.171875 -12.59375 \r\nL 26.171875 -19.875 \r\nz\r\n\" id=\"ArialMT-91\"/>\r\n      <path d=\"M 21.296875 -19.875 \r\nL 1.90625 -19.875 \r\nL 1.90625 -12.59375 \r\nL 12.5 -12.59375 \r\nL 12.5 64.3125 \r\nL 1.90625 64.3125 \r\nL 1.90625 71.578125 \r\nL 21.296875 71.578125 \r\nz\r\n\" id=\"ArialMT-93\"/>\r\n     </defs>\r\n     <g transform=\"translate(17.936719 186.9075)rotate(-90)scale(0.15 -0.15)\">\r\n      <use xlink:href=\"#ArialMT-84\"/>\r\n      <use x=\"57.333984\" xlink:href=\"#ArialMT-105\"/>\r\n      <use x=\"79.550781\" xlink:href=\"#ArialMT-109\"/>\r\n      <use x=\"162.851562\" xlink:href=\"#ArialMT-101\"/>\r\n      <use x=\"218.466797\" xlink:href=\"#ArialMT-32\"/>\r\n      <use x=\"246.25\" xlink:href=\"#ArialMT-119\"/>\r\n      <use x=\"318.466797\" xlink:href=\"#ArialMT-105\"/>\r\n      <use x=\"340.683594\" xlink:href=\"#ArialMT-110\"/>\r\n      <use x=\"396.298828\" xlink:href=\"#ArialMT-100\"/>\r\n      <use x=\"451.914062\" xlink:href=\"#ArialMT-111\"/>\r\n      <use x=\"507.529297\" xlink:href=\"#ArialMT-119\"/>\r\n      <use x=\"579.746094\" xlink:href=\"#ArialMT-32\"/>\r\n      <use x=\"607.529297\" xlink:href=\"#ArialMT-91\"/>\r\n      <use x=\"635.3125\" xlink:href=\"#ArialMT-119\"/>\r\n      <use x=\"707.529297\" xlink:href=\"#ArialMT-101\"/>\r\n      <use x=\"763.144531\" xlink:href=\"#ArialMT-101\"/>\r\n      <use x=\"818.759766\" xlink:href=\"#ArialMT-107\"/>\r\n      <use x=\"868.759766\" xlink:href=\"#ArialMT-115\"/>\r\n      <use x=\"918.759766\" xlink:href=\"#ArialMT-93\"/>\r\n     </g>\r\n    </g>\r\n   </g>\r\n   <g id=\"patch_3\">\r\n    <path d=\"M 48.600781 224.64 \r\nL 48.600781 7.2 \r\n\" style=\"fill:none;stroke:#000000;stroke-linecap:square;stroke-linejoin:miter;stroke-width:0.8;\"/>\r\n   </g>\r\n   <g id=\"patch_4\">\r\n    <path d=\"M 383.400781 224.64 \r\nL 383.400781 7.2 \r\n\" style=\"fill:none;stroke:#000000;stroke-linecap:square;stroke-linejoin:miter;stroke-width:0.8;\"/>\r\n   </g>\r\n   <g id=\"patch_5\">\r\n    <path d=\"M 48.600781 224.64 \r\nL 383.400781 224.64 \r\n\" style=\"fill:none;stroke:#000000;stroke-linecap:square;stroke-linejoin:miter;stroke-width:0.8;\"/>\r\n   </g>\r\n   <g id=\"patch_6\">\r\n    <path d=\"M 48.600781 7.2 \r\nL 383.400781 7.2 \r\n\" style=\"fill:none;stroke:#000000;stroke-linecap:square;stroke-linejoin:miter;stroke-width:0.8;\"/>\r\n   </g>\r\n   <g id=\"legend_1\">\r\n    <g id=\"patch_7\">\r\n     <path d=\"M 153.680469 61.811719 \r\nL 372.900781 61.811719 \r\nQ 375.900781 61.811719 375.900781 58.811719 \r\nL 375.900781 17.7 \r\nQ 375.900781 14.7 372.900781 14.7 \r\nL 153.680469 14.7 \r\nQ 150.680469 14.7 150.680469 17.7 \r\nL 150.680469 58.811719 \r\nQ 150.680469 61.811719 153.680469 61.811719 \r\nz\r\n\" style=\"fill:#ffffff;opacity:0.8;stroke:#cccccc;stroke-linejoin:miter;\"/>\r\n    </g>\r\n    <g id=\"patch_8\">\r\n     <path d=\"M 156.680469 31.436719 \r\nL 186.680469 31.436719 \r\nL 186.680469 20.936719 \r\nL 156.680469 20.936719 \r\nz\r\n\" style=\"fill:#4d4d4d;stroke:#4d4d4d;stroke-linejoin:miter;\"/>\r\n    </g>\r\n    <g id=\"text_11\">\r\n     <!-- None -->\r\n     <g transform=\"translate(198.680469 31.436719)scale(0.15 -0.15)\">\r\n      <use xlink:href=\"#ArialMT-78\"/>\r\n      <use x=\"72.216797\" xlink:href=\"#ArialMT-111\"/>\r\n      <use x=\"127.832031\" xlink:href=\"#ArialMT-110\"/>\r\n      <use x=\"183.447266\" xlink:href=\"#ArialMT-101\"/>\r\n     </g>\r\n    </g>\r\n    <g id=\"patch_9\">\r\n     <path d=\"M 156.680469 52.654687 \r\nL 186.680469 52.654687 \r\nL 186.680469 42.154687 \r\nL 156.680469 42.154687 \r\nz\r\n\" style=\"fill:#8cdcda;stroke:#8cdcda;stroke-linejoin:miter;\"/>\r\n    </g>\r\n    <g id=\"text_12\">\r\n     <!-- Low -->\r\n     <defs>\r\n      <path d=\"M 7.328125 0 \r\nL 7.328125 71.578125 \r\nL 16.796875 71.578125 \r\nL 16.796875 8.453125 \r\nL 52.046875 8.453125 \r\nL 52.046875 0 \r\nz\r\n\" id=\"ArialMT-76\"/>\r\n     </defs>\r\n     <g transform=\"translate(198.680469 52.654687)scale(0.15 -0.15)\">\r\n      <use xlink:href=\"#ArialMT-76\"/>\r\n      <use x=\"55.615234\" xlink:href=\"#ArialMT-111\"/>\r\n      <use x=\"111.230469\" xlink:href=\"#ArialMT-119\"/>\r\n     </g>\r\n    </g>\r\n    <g id=\"patch_10\">\r\n     <path d=\"M 264.5375 31.436719 \r\nL 294.5375 31.436719 \r\nL 294.5375 20.936719 \r\nL 264.5375 20.936719 \r\nz\r\n\" style=\"fill:#b1d877;stroke:#b1d877;stroke-linejoin:miter;\"/>\r\n    </g>\r\n    <g id=\"text_13\">\r\n     <!-- Moderate -->\r\n     <defs>\r\n      <path d=\"M 7.421875 0 \r\nL 7.421875 71.578125 \r\nL 21.6875 71.578125 \r\nL 38.625 20.90625 \r\nQ 40.96875 13.8125 42.046875 10.296875 \r\nQ 43.265625 14.203125 45.84375 21.78125 \r\nL 62.984375 71.578125 \r\nL 75.734375 71.578125 \r\nL 75.734375 0 \r\nL 66.609375 0 \r\nL 66.609375 59.90625 \r\nL 45.796875 0 \r\nL 37.25 0 \r\nL 16.546875 60.9375 \r\nL 16.546875 0 \r\nz\r\n\" id=\"ArialMT-77\"/>\r\n      <path d=\"M 40.4375 6.390625 \r\nQ 35.546875 2.25 31.03125 0.53125 \r\nQ 26.515625 -1.171875 21.34375 -1.171875 \r\nQ 12.796875 -1.171875 8.203125 3 \r\nQ 3.609375 7.171875 3.609375 13.671875 \r\nQ 3.609375 17.484375 5.34375 20.625 \r\nQ 7.078125 23.78125 9.890625 25.6875 \r\nQ 12.703125 27.59375 16.21875 28.5625 \r\nQ 18.796875 29.25 24.03125 29.890625 \r\nQ 34.671875 31.15625 39.703125 32.90625 \r\nQ 39.75 34.71875 39.75 35.203125 \r\nQ 39.75 40.578125 37.25 42.78125 \r\nQ 33.890625 45.75 27.25 45.75 \r\nQ 21.046875 45.75 18.09375 43.578125 \r\nQ 15.140625 41.40625 13.71875 35.890625 \r\nL 5.125 37.0625 \r\nQ 6.296875 42.578125 8.984375 45.96875 \r\nQ 11.671875 49.359375 16.75 51.1875 \r\nQ 21.828125 53.03125 28.515625 53.03125 \r\nQ 35.15625 53.03125 39.296875 51.46875 \r\nQ 43.453125 49.90625 45.40625 47.53125 \r\nQ 47.359375 45.171875 48.140625 41.546875 \r\nQ 48.578125 39.3125 48.578125 33.453125 \r\nL 48.578125 21.734375 \r\nQ 48.578125 9.46875 49.140625 6.21875 \r\nQ 49.703125 2.984375 51.375 0 \r\nL 42.1875 0 \r\nQ 40.828125 2.734375 40.4375 6.390625 \r\nz\r\nM 39.703125 26.03125 \r\nQ 34.90625 24.078125 25.34375 22.703125 \r\nQ 19.921875 21.921875 17.671875 20.9375 \r\nQ 15.4375 19.96875 14.203125 18.09375 \r\nQ 12.984375 16.21875 12.984375 13.921875 \r\nQ 12.984375 10.40625 15.640625 8.0625 \r\nQ 18.3125 5.71875 23.4375 5.71875 \r\nQ 28.515625 5.71875 32.46875 7.9375 \r\nQ 36.421875 10.15625 38.28125 14.015625 \r\nQ 39.703125 17 39.703125 22.796875 \r\nz\r\n\" id=\"ArialMT-97\"/>\r\n      <path d=\"M 25.78125 7.859375 \r\nL 27.046875 0.09375 \r\nQ 23.34375 -0.6875 20.40625 -0.6875 \r\nQ 15.625 -0.6875 12.984375 0.828125 \r\nQ 10.359375 2.34375 9.28125 4.8125 \r\nQ 8.203125 7.28125 8.203125 15.1875 \r\nL 8.203125 45.015625 \r\nL 1.765625 45.015625 \r\nL 1.765625 51.859375 \r\nL 8.203125 51.859375 \r\nL 8.203125 64.703125 \r\nL 16.9375 69.96875 \r\nL 16.9375 51.859375 \r\nL 25.78125 51.859375 \r\nL 25.78125 45.015625 \r\nL 16.9375 45.015625 \r\nL 16.9375 14.703125 \r\nQ 16.9375 10.9375 17.40625 9.859375 \r\nQ 17.875 8.796875 18.921875 8.15625 \r\nQ 19.96875 7.515625 21.921875 7.515625 \r\nQ 23.390625 7.515625 25.78125 7.859375 \r\nz\r\n\" id=\"ArialMT-116\"/>\r\n     </defs>\r\n     <g transform=\"translate(306.5375 31.436719)scale(0.15 -0.15)\">\r\n      <use xlink:href=\"#ArialMT-77\"/>\r\n      <use x=\"83.300781\" xlink:href=\"#ArialMT-111\"/>\r\n      <use x=\"138.916016\" xlink:href=\"#ArialMT-100\"/>\r\n      <use x=\"194.53125\" xlink:href=\"#ArialMT-101\"/>\r\n      <use x=\"250.146484\" xlink:href=\"#ArialMT-114\"/>\r\n      <use x=\"283.447266\" xlink:href=\"#ArialMT-97\"/>\r\n      <use x=\"339.0625\" xlink:href=\"#ArialMT-116\"/>\r\n      <use x=\"366.845703\" xlink:href=\"#ArialMT-101\"/>\r\n     </g>\r\n    </g>\r\n    <g id=\"patch_11\">\r\n     <path d=\"M 264.5375 52.654687 \r\nL 294.5375 52.654687 \r\nL 294.5375 42.154687 \r\nL 264.5375 42.154687 \r\nz\r\n\" style=\"fill:#f16a70;stroke:#f16a70;stroke-linejoin:miter;\"/>\r\n    </g>\r\n    <g id=\"text_14\">\r\n     <!-- Many -->\r\n     <defs>\r\n      <path d=\"M 6.203125 -19.96875 \r\nL 5.21875 -11.71875 \r\nQ 8.109375 -12.5 10.25 -12.5 \r\nQ 13.1875 -12.5 14.9375 -11.515625 \r\nQ 16.703125 -10.546875 17.828125 -8.796875 \r\nQ 18.65625 -7.46875 20.515625 -2.25 \r\nQ 20.75 -1.515625 21.296875 -0.09375 \r\nL 1.609375 51.859375 \r\nL 11.078125 51.859375 \r\nL 21.875 21.828125 \r\nQ 23.96875 16.109375 25.640625 9.8125 \r\nQ 27.15625 15.875 29.25 21.625 \r\nL 40.328125 51.859375 \r\nL 49.125 51.859375 \r\nL 29.390625 -0.875 \r\nQ 26.21875 -9.421875 24.46875 -12.640625 \r\nQ 22.125 -17 19.09375 -19.015625 \r\nQ 16.0625 -21.046875 11.859375 -21.046875 \r\nQ 9.328125 -21.046875 6.203125 -19.96875 \r\nz\r\n\" id=\"ArialMT-121\"/>\r\n     </defs>\r\n     <g transform=\"translate(306.5375 52.654687)scale(0.15 -0.15)\">\r\n      <use xlink:href=\"#ArialMT-77\"/>\r\n      <use x=\"83.300781\" xlink:href=\"#ArialMT-97\"/>\r\n      <use x=\"138.916016\" xlink:href=\"#ArialMT-110\"/>\r\n      <use x=\"194.53125\" xlink:href=\"#ArialMT-121\"/>\r\n     </g>\r\n    </g>\r\n   </g>\r\n  </g>\r\n </g>\r\n <defs>\r\n  <clipPath id=\"p6ed92a5483\">\r\n   <rect height=\"217.44\" width=\"334.8\" x=\"48.600781\" y=\"7.2\"/>\r\n  </clipPath>\r\n </defs>\r\n</svg>\r\n",
      "text/plain": [
       "<Figure size 432x288 with 1 Axes>"
      ]
     },
     "metadata": {
      "needs_background": "light"
     },
     "output_type": "display_data"
    }
   ],
   "source": [
    "import matplotlib.pyplot as plt\n",
    "import matplotlib.patches as mpatches\n",
    "import matplotlib\n",
    "\n",
    "size = 15\n",
    "font = {'family' : 'Arial',\n",
    "        'weight' : 'normal',\n",
    "        'size'   : size}\n",
    "matplotlib.rc('font', **font)\n",
    "matplotlib.rc('xtick', labelsize=size) \n",
    "matplotlib.rc('ytick', labelsize=size) \n",
    "\n",
    "\n",
    "fig, ax = plt.subplots()\n",
    "\n",
    "cols = ['#4d4d4d', '#8cdcda', '#b1d877', '#f16a70'][::-1]\n",
    "size_factor = 20\n",
    "\n",
    "# old \n",
    "sc = ax.scatter(\n",
    "    [c.center[0]*10 for k, c in old.items()],\n",
    "    [0 for k, c in old.items()],\n",
    "    c=cols,\n",
    "    s=[c.size*size_factor for k, c in old.items()], \n",
    "    alpha = 1)\n",
    "\n",
    "# new \n",
    "sc = ax.scatter(\n",
    "    [c.center[0]*10 for k, c in new.items()],\n",
    "    [1 for k, c in new.items()],\n",
    "    c=cols[:len(new)],\n",
    "    s=[c.size*size_factor for k, c in new.items()], \n",
    "    alpha = 1)\n",
    "\n",
    "plt.yticks([0, 1], ['47', '48'])\n",
    "plt.ylim([-.5, 2.5])\n",
    "\n",
    "plt.xlim([-150, 1150])\n",
    "\n",
    "plt.ylabel(\"Time window [weeks]\")\n",
    "plt.xlabel(\"Number of likes\")\n",
    "\n",
    "labels = ['No likes', 'Low number of likes', 'Moderate number of likes', 'Many likes']\n",
    "labels = ['None', 'Low', 'Moderate', 'Many']\n",
    "\n",
    "legend_patches = []\n",
    "for c, l in zip(cols[::-1], labels):\n",
    "    pat = mpatches.Patch(color=c, label=l)\n",
    "    legend_patches.append(pat)\n",
    "\n",
    "plt.legend(handles=legend_patches, \n",
    "            ncol=2,\n",
    "            )\n",
    "plt.show()\n",
    "\n",
    "\n"
   ]
  }
 ],
 "metadata": {
  "interpreter": {
   "hash": "ac79ad19892b6e891e8d97ca5fdbb2e2457e6e4ba8b10fb20aa9e37280e031f3"
  },
  "kernelspec": {
   "display_name": "Python 3.7.8 64-bit ('venv': venv)",
   "name": "python3"
  },
  "language_info": {
   "codemirror_mode": {
    "name": "ipython",
    "version": 3
   },
   "file_extension": ".py",
   "mimetype": "text/x-python",
   "name": "python",
   "nbconvert_exporter": "python",
   "pygments_lexer": "ipython3",
   "version": "3.6.9"
  },
  "metadata": {
   "interpreter": {
    "hash": "edc7e8da127e731d54753afe8930f1420dc6ae9a13010eedc53dff7bbda352d4"
   }
  },
  "orig_nbformat": 2
 },
 "nbformat": 4,
 "nbformat_minor": 2
}
