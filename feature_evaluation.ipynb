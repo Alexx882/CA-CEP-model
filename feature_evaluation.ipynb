{
 "metadata": {
  "language_info": {
   "codemirror_mode": {
    "name": "ipython",
    "version": 3
   },
   "file_extension": ".py",
   "mimetype": "text/x-python",
   "name": "python",
   "nbconvert_exporter": "python",
   "pygments_lexer": "ipython3",
   "version": "3.6.9"
  },
  "orig_nbformat": 2,
  "kernelspec": {
   "name": "pythonjvsc74a57bd0edc7e8da127e731d54753afe8930f1420dc6ae9a13010eedc53dff7bbda352d4",
   "display_name": "Python 3.6.9 64-bit ('venv-gpu2': venv)"
  },
  "metadata": {
   "interpreter": {
    "hash": "edc7e8da127e731d54753afe8930f1420dc6ae9a13010eedc53dff7bbda352d4"
   }
  }
 },
 "nbformat": 4,
 "nbformat_minor": 2,
 "cells": [
  {
   "source": [
    "# Evaluation of Single-Context Features"
   ],
   "cell_type": "markdown",
   "metadata": {}
  },
  {
   "cell_type": "code",
   "execution_count": 5,
   "metadata": {},
   "outputs": [],
   "source": [
    "dataset = 'youtube'\n",
    "layer_name = 'LikesLayer' "
   ]
  },
  {
   "cell_type": "code",
   "execution_count": 6,
   "metadata": {},
   "outputs": [],
   "source": [
    "import pandas as pd\n",
    "from pandas import DataFrame\n",
    "\n",
    "df: DataFrame = pd.read_csv(f'data/{dataset}/ml_input/single_context/{layer_name}.csv', index_col=0)"
   ]
  },
  {
   "source": [
    "# Evaluation of Cross-Context Features"
   ],
   "cell_type": "markdown",
   "metadata": {}
  },
  {
   "cell_type": "code",
   "execution_count": 7,
   "metadata": {},
   "outputs": [],
   "source": [
    "dataset = 'youtube'\n",
    "layer_name = 'LikesLayer' \n",
    "reference_layer_name = 'ViewsLayer'"
   ]
  },
  {
   "cell_type": "code",
   "execution_count": null,
   "metadata": {},
   "outputs": [],
   "source": [
    "import pandas as pd\n",
    "from pandas import DataFrame\n",
    "\n",
    "df: DataFrame = pd.read_csv(f'data/{dataset}/ml_input/cross_context/{layer_name}_{reference_layer_name}.csv', index_col=0)"
   ]
  },
  {
   "source": [
    "## Standardization"
   ],
   "cell_type": "markdown",
   "metadata": {}
  },
  {
   "cell_type": "code",
   "execution_count": 8,
   "metadata": {},
   "outputs": [],
   "source": [
    "from sklearn.preprocessing import StandardScaler\n",
    "X = StandardScaler().fit_transform(df)[:,:-1] # all except y"
   ]
  },
  {
   "cell_type": "code",
   "execution_count": 9,
   "metadata": {},
   "outputs": [],
   "source": [
    "y = df[df.columns[-1]]"
   ]
  },
  {
   "cell_type": "code",
   "execution_count": null,
   "metadata": {},
   "outputs": [],
   "source": [
    "pd.DataFrame(data=X, columns=df.columns[:-1]).head(2)"
   ]
  },
  {
   "cell_type": "code",
   "execution_count": null,
   "metadata": {},
   "outputs": [],
   "source": [
    "df.head(2)"
   ]
  },
  {
   "cell_type": "code",
   "execution_count": null,
   "metadata": {},
   "outputs": [],
   "source": [
    "y.value_counts()"
   ]
  },
  {
   "source": [
    "## Principal Components"
   ],
   "cell_type": "markdown",
   "metadata": {}
  },
  {
   "cell_type": "code",
   "execution_count": 10,
   "metadata": {},
   "outputs": [],
   "source": [
    "from sklearn.decomposition import PCA\n",
    "\n",
    "n_components = 10\n",
    "\n",
    "pca = PCA(n_components=n_components)\n",
    "# compute scores in Xp\n",
    "Xp = pca.fit_transform(X)\n",
    "# get loadings and the ammount of variance explained by each component \n",
    "c, v, r = pca.components_, pca.explained_variance_, pca.explained_variance_ratio_\n",
    "\n",
    "loadings = pd.DataFrame(data=c, columns=df.columns[:-1], index=range(n_components))"
   ]
  },
  {
   "cell_type": "code",
   "execution_count": 11,
   "metadata": {},
   "outputs": [
    {
     "output_type": "execute_result",
     "data": {
      "text/plain": [
       "              Z1        Z2        Z3        Z4        Z5        Z6        Z7  \\\n",
       "0      -0.168816 -0.053058  0.267579 -0.035999 -0.012545  1.433794 -0.396463   \n",
       "1      -0.884871  0.169540 -1.796813  0.008273  0.001021  0.891177  0.856891   \n",
       "2       0.443359  0.039854 -0.772903 -0.036451  0.016829 -0.911476 -1.344437   \n",
       "3      -0.854960 -0.288239  2.838445 -0.010156  0.000727  0.118628  0.865400   \n",
       "4      -0.877890  0.075037 -0.786473  0.006765  0.001849 -0.171029  0.879920   \n",
       "...          ...       ...       ...       ...       ...       ...       ...   \n",
       "565819  1.536324  0.104252 -1.823928 -0.047624  0.005387  0.811525 -1.117300   \n",
       "565820 -0.233108  0.199060 -2.184184  0.009082  0.028105 -0.240721 -0.197911   \n",
       "565821 -0.888695  0.206657 -2.149995  0.007444  0.001224  0.092125  0.873035   \n",
       "565822  1.529951  0.159364 -2.184140 -0.059007  0.003080 -0.637061 -1.091591   \n",
       "565823 -0.043041  0.051073 -0.737826  0.003373  0.033962 -0.356493 -0.547126   \n",
       "\n",
       "              Z8        Z9       Z10  \n",
       "0       1.763088  0.630923  0.034910  \n",
       "1       0.058710 -0.022858  0.047587  \n",
       "2       1.218976 -1.105190 -0.080137  \n",
       "3       0.048275 -0.023601  0.060426  \n",
       "4       0.040947 -0.027198  0.047959  \n",
       "...          ...       ...       ...  \n",
       "565819  2.050897 -0.803641 -0.018232  \n",
       "565820 -0.329895 -1.678571 -0.045953  \n",
       "565821  0.044949 -0.022172  0.039347  \n",
       "565822  2.007867 -0.825255 -0.014639  \n",
       "565823 -0.447906 -2.182809 -0.069883  \n",
       "\n",
       "[565824 rows x 10 columns]"
      ],
      "text/html": "<div>\n<style scoped>\n    .dataframe tbody tr th:only-of-type {\n        vertical-align: middle;\n    }\n\n    .dataframe tbody tr th {\n        vertical-align: top;\n    }\n\n    .dataframe thead th {\n        text-align: right;\n    }\n</style>\n<table border=\"1\" class=\"dataframe\">\n  <thead>\n    <tr style=\"text-align: right;\">\n      <th></th>\n      <th>Z1</th>\n      <th>Z2</th>\n      <th>Z3</th>\n      <th>Z4</th>\n      <th>Z5</th>\n      <th>Z6</th>\n      <th>Z7</th>\n      <th>Z8</th>\n      <th>Z9</th>\n      <th>Z10</th>\n    </tr>\n  </thead>\n  <tbody>\n    <tr>\n      <th>0</th>\n      <td>-0.168816</td>\n      <td>-0.053058</td>\n      <td>0.267579</td>\n      <td>-0.035999</td>\n      <td>-0.012545</td>\n      <td>1.433794</td>\n      <td>-0.396463</td>\n      <td>1.763088</td>\n      <td>0.630923</td>\n      <td>0.034910</td>\n    </tr>\n    <tr>\n      <th>1</th>\n      <td>-0.884871</td>\n      <td>0.169540</td>\n      <td>-1.796813</td>\n      <td>0.008273</td>\n      <td>0.001021</td>\n      <td>0.891177</td>\n      <td>0.856891</td>\n      <td>0.058710</td>\n      <td>-0.022858</td>\n      <td>0.047587</td>\n    </tr>\n    <tr>\n      <th>2</th>\n      <td>0.443359</td>\n      <td>0.039854</td>\n      <td>-0.772903</td>\n      <td>-0.036451</td>\n      <td>0.016829</td>\n      <td>-0.911476</td>\n      <td>-1.344437</td>\n      <td>1.218976</td>\n      <td>-1.105190</td>\n      <td>-0.080137</td>\n    </tr>\n    <tr>\n      <th>3</th>\n      <td>-0.854960</td>\n      <td>-0.288239</td>\n      <td>2.838445</td>\n      <td>-0.010156</td>\n      <td>0.000727</td>\n      <td>0.118628</td>\n      <td>0.865400</td>\n      <td>0.048275</td>\n      <td>-0.023601</td>\n      <td>0.060426</td>\n    </tr>\n    <tr>\n      <th>4</th>\n      <td>-0.877890</td>\n      <td>0.075037</td>\n      <td>-0.786473</td>\n      <td>0.006765</td>\n      <td>0.001849</td>\n      <td>-0.171029</td>\n      <td>0.879920</td>\n      <td>0.040947</td>\n      <td>-0.027198</td>\n      <td>0.047959</td>\n    </tr>\n    <tr>\n      <th>...</th>\n      <td>...</td>\n      <td>...</td>\n      <td>...</td>\n      <td>...</td>\n      <td>...</td>\n      <td>...</td>\n      <td>...</td>\n      <td>...</td>\n      <td>...</td>\n      <td>...</td>\n    </tr>\n    <tr>\n      <th>565819</th>\n      <td>1.536324</td>\n      <td>0.104252</td>\n      <td>-1.823928</td>\n      <td>-0.047624</td>\n      <td>0.005387</td>\n      <td>0.811525</td>\n      <td>-1.117300</td>\n      <td>2.050897</td>\n      <td>-0.803641</td>\n      <td>-0.018232</td>\n    </tr>\n    <tr>\n      <th>565820</th>\n      <td>-0.233108</td>\n      <td>0.199060</td>\n      <td>-2.184184</td>\n      <td>0.009082</td>\n      <td>0.028105</td>\n      <td>-0.240721</td>\n      <td>-0.197911</td>\n      <td>-0.329895</td>\n      <td>-1.678571</td>\n      <td>-0.045953</td>\n    </tr>\n    <tr>\n      <th>565821</th>\n      <td>-0.888695</td>\n      <td>0.206657</td>\n      <td>-2.149995</td>\n      <td>0.007444</td>\n      <td>0.001224</td>\n      <td>0.092125</td>\n      <td>0.873035</td>\n      <td>0.044949</td>\n      <td>-0.022172</td>\n      <td>0.039347</td>\n    </tr>\n    <tr>\n      <th>565822</th>\n      <td>1.529951</td>\n      <td>0.159364</td>\n      <td>-2.184140</td>\n      <td>-0.059007</td>\n      <td>0.003080</td>\n      <td>-0.637061</td>\n      <td>-1.091591</td>\n      <td>2.007867</td>\n      <td>-0.825255</td>\n      <td>-0.014639</td>\n    </tr>\n    <tr>\n      <th>565823</th>\n      <td>-0.043041</td>\n      <td>0.051073</td>\n      <td>-0.737826</td>\n      <td>0.003373</td>\n      <td>0.033962</td>\n      <td>-0.356493</td>\n      <td>-0.547126</td>\n      <td>-0.447906</td>\n      <td>-2.182809</td>\n      <td>-0.069883</td>\n    </tr>\n  </tbody>\n</table>\n<p>565824 rows × 10 columns</p>\n</div>"
     },
     "metadata": {},
     "execution_count": 11
    }
   ],
   "source": [
    "pd.DataFrame(data=Xp, \n",
    "             columns=[f'Z{i+1}' for i in range(n_components)])"
   ]
  },
  {
   "cell_type": "code",
   "execution_count": 14,
   "metadata": {},
   "outputs": [
    {
     "output_type": "execute_result",
     "data": {
      "text/plain": [
       "   cluster_size  cluster_variance  cluster_density  cluster_import1  \\\n",
       "0      0.393729          0.008284         0.008295         0.396586   \n",
       "1     -0.012943          0.269209         0.272162        -0.013192   \n",
       "2     -0.003656          0.025603         0.026055        -0.005204   \n",
       "3     -0.008696         -0.357302        -0.347308        -0.008497   \n",
       "4     -0.003403         -0.352127        -0.336442        -0.003323   \n",
       "5     -0.006448          0.002726         0.003599        -0.006460   \n",
       "6      0.088154          0.005967         0.005200         0.076113   \n",
       "7      0.280105         -0.014650        -0.014252         0.290463   \n",
       "8      0.092980         -0.003668        -0.004779         0.099314   \n",
       "9      0.016365         -0.058114        -0.053689         0.015570   \n",
       "\n",
       "   cluster_import2  cluster_area  cluster_center_distance   time_f1   time_f2  \\\n",
       "0         0.140288      0.008069                 0.008208 -0.003003  0.004051   \n",
       "1        -0.002244      0.261956                 0.241974  0.046347 -0.032224   \n",
       "2        -0.001868      0.024888                 0.021295 -0.476989  0.321081   \n",
       "3        -0.012491     -0.361534                -0.198682  0.001117  0.002011   \n",
       "4        -0.004660     -0.346543                 0.058228 -0.000218  0.000063   \n",
       "5        -0.018750      0.003222                -0.008216  0.169939  0.556605   \n",
       "6        -0.583605      0.006828                -0.031287 -0.002976 -0.009865   \n",
       "7         0.626634     -0.015299                 0.038516  0.003859  0.010037   \n",
       "8         0.248465     -0.003321                 0.009773  0.000549 -0.002406   \n",
       "9        -0.020194     -0.068020                 0.392702 -0.000926  0.008170   \n",
       "\n",
       "   cluster_size.1  ...  time_f2.1  cluster_size.2  cluster_variance.2  \\\n",
       "0        0.396144  ...   0.003211        0.393288            0.009952   \n",
       "1       -0.011871  ...  -0.038823       -0.014100            0.300861   \n",
       "2       -0.002835  ...   0.376160       -0.001311            0.031830   \n",
       "3        0.000260  ...  -0.000395        0.007367            0.414641   \n",
       "4        0.005732  ...  -0.000689       -0.003315           -0.188518   \n",
       "5        0.005118  ...   0.461671        0.013071           -0.000003   \n",
       "6        0.101199  ...  -0.009772        0.124639            0.012644   \n",
       "7       -0.048899  ...   0.006721       -0.216889            0.021961   \n",
       "8       -0.281243  ...  -0.000102        0.181192           -0.003833   \n",
       "9        0.005485  ...   0.005383       -0.000523           -0.174892   \n",
       "\n",
       "   cluster_density.2  cluster_import1.2  cluster_import2.2  cluster_area.2  \\\n",
       "0           0.009255           0.397085           0.139039        0.010120   \n",
       "1           0.291054          -0.014104          -0.003045        0.306262   \n",
       "2           0.030994          -0.005113          -0.001672        0.032398   \n",
       "3           0.405461           0.007164           0.012266        0.406383   \n",
       "4          -0.199887          -0.003263          -0.004689       -0.176459   \n",
       "5           0.000033           0.001797          -0.002219        0.000409   \n",
       "6           0.010388           0.114040          -0.521355        0.013684   \n",
       "7           0.021925          -0.223190          -0.556295        0.022048   \n",
       "8          -0.003070           0.192423           0.471036       -0.004125   \n",
       "9          -0.149220          -0.001844          -0.057980       -0.189221   \n",
       "\n",
       "   cluster_center_distance.2  time_f1.2  time_f2.2  \n",
       "0                   0.006878  -0.001835   0.002384  \n",
       "1                   0.177921   0.038157  -0.040685  \n",
       "2                   0.015841  -0.396385   0.395065  \n",
       "3                   0.189810   0.003406  -0.002507  \n",
       "4                  -0.049595  -0.000383   0.000281  \n",
       "5                  -0.000656   0.519958   0.234274  \n",
       "6                  -0.036546  -0.009585  -0.006481  \n",
       "7                  -0.066332   0.007656   0.005529  \n",
       "8                   0.034766   0.000628   0.001171  \n",
       "9                   0.612586   0.002612   0.001602  \n",
       "\n",
       "[10 rows x 27 columns]"
      ],
      "text/html": "<div>\n<style scoped>\n    .dataframe tbody tr th:only-of-type {\n        vertical-align: middle;\n    }\n\n    .dataframe tbody tr th {\n        vertical-align: top;\n    }\n\n    .dataframe thead th {\n        text-align: right;\n    }\n</style>\n<table border=\"1\" class=\"dataframe\">\n  <thead>\n    <tr style=\"text-align: right;\">\n      <th></th>\n      <th>cluster_size</th>\n      <th>cluster_variance</th>\n      <th>cluster_density</th>\n      <th>cluster_import1</th>\n      <th>cluster_import2</th>\n      <th>cluster_area</th>\n      <th>cluster_center_distance</th>\n      <th>time_f1</th>\n      <th>time_f2</th>\n      <th>cluster_size.1</th>\n      <th>...</th>\n      <th>time_f2.1</th>\n      <th>cluster_size.2</th>\n      <th>cluster_variance.2</th>\n      <th>cluster_density.2</th>\n      <th>cluster_import1.2</th>\n      <th>cluster_import2.2</th>\n      <th>cluster_area.2</th>\n      <th>cluster_center_distance.2</th>\n      <th>time_f1.2</th>\n      <th>time_f2.2</th>\n    </tr>\n  </thead>\n  <tbody>\n    <tr>\n      <th>0</th>\n      <td>0.393729</td>\n      <td>0.008284</td>\n      <td>0.008295</td>\n      <td>0.396586</td>\n      <td>0.140288</td>\n      <td>0.008069</td>\n      <td>0.008208</td>\n      <td>-0.003003</td>\n      <td>0.004051</td>\n      <td>0.396144</td>\n      <td>...</td>\n      <td>0.003211</td>\n      <td>0.393288</td>\n      <td>0.009952</td>\n      <td>0.009255</td>\n      <td>0.397085</td>\n      <td>0.139039</td>\n      <td>0.010120</td>\n      <td>0.006878</td>\n      <td>-0.001835</td>\n      <td>0.002384</td>\n    </tr>\n    <tr>\n      <th>1</th>\n      <td>-0.012943</td>\n      <td>0.269209</td>\n      <td>0.272162</td>\n      <td>-0.013192</td>\n      <td>-0.002244</td>\n      <td>0.261956</td>\n      <td>0.241974</td>\n      <td>0.046347</td>\n      <td>-0.032224</td>\n      <td>-0.011871</td>\n      <td>...</td>\n      <td>-0.038823</td>\n      <td>-0.014100</td>\n      <td>0.300861</td>\n      <td>0.291054</td>\n      <td>-0.014104</td>\n      <td>-0.003045</td>\n      <td>0.306262</td>\n      <td>0.177921</td>\n      <td>0.038157</td>\n      <td>-0.040685</td>\n    </tr>\n    <tr>\n      <th>2</th>\n      <td>-0.003656</td>\n      <td>0.025603</td>\n      <td>0.026055</td>\n      <td>-0.005204</td>\n      <td>-0.001868</td>\n      <td>0.024888</td>\n      <td>0.021295</td>\n      <td>-0.476989</td>\n      <td>0.321081</td>\n      <td>-0.002835</td>\n      <td>...</td>\n      <td>0.376160</td>\n      <td>-0.001311</td>\n      <td>0.031830</td>\n      <td>0.030994</td>\n      <td>-0.005113</td>\n      <td>-0.001672</td>\n      <td>0.032398</td>\n      <td>0.015841</td>\n      <td>-0.396385</td>\n      <td>0.395065</td>\n    </tr>\n    <tr>\n      <th>3</th>\n      <td>-0.008696</td>\n      <td>-0.357302</td>\n      <td>-0.347308</td>\n      <td>-0.008497</td>\n      <td>-0.012491</td>\n      <td>-0.361534</td>\n      <td>-0.198682</td>\n      <td>0.001117</td>\n      <td>0.002011</td>\n      <td>0.000260</td>\n      <td>...</td>\n      <td>-0.000395</td>\n      <td>0.007367</td>\n      <td>0.414641</td>\n      <td>0.405461</td>\n      <td>0.007164</td>\n      <td>0.012266</td>\n      <td>0.406383</td>\n      <td>0.189810</td>\n      <td>0.003406</td>\n      <td>-0.002507</td>\n    </tr>\n    <tr>\n      <th>4</th>\n      <td>-0.003403</td>\n      <td>-0.352127</td>\n      <td>-0.336442</td>\n      <td>-0.003323</td>\n      <td>-0.004660</td>\n      <td>-0.346543</td>\n      <td>0.058228</td>\n      <td>-0.000218</td>\n      <td>0.000063</td>\n      <td>0.005732</td>\n      <td>...</td>\n      <td>-0.000689</td>\n      <td>-0.003315</td>\n      <td>-0.188518</td>\n      <td>-0.199887</td>\n      <td>-0.003263</td>\n      <td>-0.004689</td>\n      <td>-0.176459</td>\n      <td>-0.049595</td>\n      <td>-0.000383</td>\n      <td>0.000281</td>\n    </tr>\n    <tr>\n      <th>5</th>\n      <td>-0.006448</td>\n      <td>0.002726</td>\n      <td>0.003599</td>\n      <td>-0.006460</td>\n      <td>-0.018750</td>\n      <td>0.003222</td>\n      <td>-0.008216</td>\n      <td>0.169939</td>\n      <td>0.556605</td>\n      <td>0.005118</td>\n      <td>...</td>\n      <td>0.461671</td>\n      <td>0.013071</td>\n      <td>-0.000003</td>\n      <td>0.000033</td>\n      <td>0.001797</td>\n      <td>-0.002219</td>\n      <td>0.000409</td>\n      <td>-0.000656</td>\n      <td>0.519958</td>\n      <td>0.234274</td>\n    </tr>\n    <tr>\n      <th>6</th>\n      <td>0.088154</td>\n      <td>0.005967</td>\n      <td>0.005200</td>\n      <td>0.076113</td>\n      <td>-0.583605</td>\n      <td>0.006828</td>\n      <td>-0.031287</td>\n      <td>-0.002976</td>\n      <td>-0.009865</td>\n      <td>0.101199</td>\n      <td>...</td>\n      <td>-0.009772</td>\n      <td>0.124639</td>\n      <td>0.012644</td>\n      <td>0.010388</td>\n      <td>0.114040</td>\n      <td>-0.521355</td>\n      <td>0.013684</td>\n      <td>-0.036546</td>\n      <td>-0.009585</td>\n      <td>-0.006481</td>\n    </tr>\n    <tr>\n      <th>7</th>\n      <td>0.280105</td>\n      <td>-0.014650</td>\n      <td>-0.014252</td>\n      <td>0.290463</td>\n      <td>0.626634</td>\n      <td>-0.015299</td>\n      <td>0.038516</td>\n      <td>0.003859</td>\n      <td>0.010037</td>\n      <td>-0.048899</td>\n      <td>...</td>\n      <td>0.006721</td>\n      <td>-0.216889</td>\n      <td>0.021961</td>\n      <td>0.021925</td>\n      <td>-0.223190</td>\n      <td>-0.556295</td>\n      <td>0.022048</td>\n      <td>-0.066332</td>\n      <td>0.007656</td>\n      <td>0.005529</td>\n    </tr>\n    <tr>\n      <th>8</th>\n      <td>0.092980</td>\n      <td>-0.003668</td>\n      <td>-0.004779</td>\n      <td>0.099314</td>\n      <td>0.248465</td>\n      <td>-0.003321</td>\n      <td>0.009773</td>\n      <td>0.000549</td>\n      <td>-0.002406</td>\n      <td>-0.281243</td>\n      <td>...</td>\n      <td>-0.000102</td>\n      <td>0.181192</td>\n      <td>-0.003833</td>\n      <td>-0.003070</td>\n      <td>0.192423</td>\n      <td>0.471036</td>\n      <td>-0.004125</td>\n      <td>0.034766</td>\n      <td>0.000628</td>\n      <td>0.001171</td>\n    </tr>\n    <tr>\n      <th>9</th>\n      <td>0.016365</td>\n      <td>-0.058114</td>\n      <td>-0.053689</td>\n      <td>0.015570</td>\n      <td>-0.020194</td>\n      <td>-0.068020</td>\n      <td>0.392702</td>\n      <td>-0.000926</td>\n      <td>0.008170</td>\n      <td>0.005485</td>\n      <td>...</td>\n      <td>0.005383</td>\n      <td>-0.000523</td>\n      <td>-0.174892</td>\n      <td>-0.149220</td>\n      <td>-0.001844</td>\n      <td>-0.057980</td>\n      <td>-0.189221</td>\n      <td>0.612586</td>\n      <td>0.002612</td>\n      <td>0.001602</td>\n    </tr>\n  </tbody>\n</table>\n<p>10 rows × 27 columns</p>\n</div>"
     },
     "metadata": {},
     "execution_count": 14
    }
   ],
   "source": [
    "loadings"
   ]
  },
  {
   "source": [
    "loadings.apply(lambda col: col != 0).sum().sort_values()"
   ],
   "cell_type": "code",
   "metadata": {},
   "execution_count": 12,
   "outputs": [
    {
     "output_type": "execute_result",
     "data": {
      "text/plain": [
       "cluster_size                 10\n",
       "cluster_center_distance.2    10\n",
       "cluster_area.2               10\n",
       "cluster_import2.2            10\n",
       "cluster_import1.2            10\n",
       "cluster_density.2            10\n",
       "cluster_variance.2           10\n",
       "cluster_size.2               10\n",
       "time_f2.1                    10\n",
       "time_f1.1                    10\n",
       "cluster_center_distance.1    10\n",
       "cluster_area.1               10\n",
       "time_f1.2                    10\n",
       "cluster_import2.1            10\n",
       "cluster_density.1            10\n",
       "cluster_variance.1           10\n",
       "cluster_size.1               10\n",
       "time_f2                      10\n",
       "time_f1                      10\n",
       "cluster_center_distance      10\n",
       "cluster_area                 10\n",
       "cluster_import2              10\n",
       "cluster_import1              10\n",
       "cluster_density              10\n",
       "cluster_variance             10\n",
       "cluster_import1.1            10\n",
       "time_f2.2                    10\n",
       "dtype: int64"
      ]
     },
     "metadata": {},
     "execution_count": 12
    }
   ]
  },
  {
   "source": [
    "Effect of Variables on each Component:"
   ],
   "cell_type": "markdown",
   "metadata": {}
  },
  {
   "cell_type": "code",
   "execution_count": null,
   "metadata": {},
   "outputs": [],
   "source": [
    "import seaborn as sns\n",
    "sns.heatmap(c, cmap='Blues',\n",
    "            yticklabels=[\"Z\"+str(x) for x in range(1,len(c)+1)],\n",
    "            xticklabels=list(df.columns[:-1]))"
   ]
  },
  {
   "source": [
    "Variance explained by Components:"
   ],
   "cell_type": "markdown",
   "metadata": {}
  },
  {
   "cell_type": "code",
   "execution_count": 13,
   "metadata": {},
   "outputs": [
    {
     "output_type": "display_data",
     "data": {
      "text/plain": "<Figure size 720x360 with 2 Axes>",
      "image/svg+xml": "<?xml version=\"1.0\" encoding=\"utf-8\" standalone=\"no\"?>\n<!DOCTYPE svg PUBLIC \"-//W3C//DTD SVG 1.1//EN\"\n  \"http://www.w3.org/Graphics/SVG/1.1/DTD/svg11.dtd\">\n<!-- Created with matplotlib (https://matplotlib.org/) -->\n<svg height=\"352.478125pt\" version=\"1.1\" viewBox=\"0 0 712.465625 352.478125\" width=\"712.465625pt\" xmlns=\"http://www.w3.org/2000/svg\" xmlns:xlink=\"http://www.w3.org/1999/xlink\">\n <defs>\n  <style type=\"text/css\">\n*{stroke-linecap:butt;stroke-linejoin:round;}\n  </style>\n </defs>\n <g id=\"figure_1\">\n  <g id=\"patch_1\">\n   <path d=\"M -0 352.478125 \nL 712.465625 352.478125 \nL 712.465625 0 \nL -0 0 \nz\n\" style=\"fill:none;\"/>\n  </g>\n  <g id=\"axes_1\">\n   <g id=\"patch_2\">\n    <path d=\"M 34.240625 328.6 \nL 345.915625 328.6 \nL 345.915625 7.2 \nL 34.240625 7.2 \nz\n\" style=\"fill:#ffffff;\"/>\n   </g>\n   <g id=\"patch_3\">\n    <path clip-path=\"url(#p1a82217ba6)\" d=\"M 48.40767 328.6 \nL 71.537541 328.6 \nL 71.537541 22.504762 \nL 48.40767 22.504762 \nz\n\" style=\"fill:#1f77b4;\"/>\n   </g>\n   <g id=\"patch_4\">\n    <path clip-path=\"url(#p1a82217ba6)\" d=\"M 77.320008 328.6 \nL 100.449878 328.6 \nL 100.449878 96.59471 \nL 77.320008 96.59471 \nz\n\" style=\"fill:#1f77b4;\"/>\n   </g>\n   <g id=\"patch_5\">\n    <path clip-path=\"url(#p1a82217ba6)\" d=\"M 106.232346 328.6 \nL 129.362216 328.6 \nL 129.362216 110.149983 \nL 106.232346 110.149983 \nz\n\" style=\"fill:#1f77b4;\"/>\n   </g>\n   <g id=\"patch_6\">\n    <path clip-path=\"url(#p1a82217ba6)\" d=\"M 135.144683 328.6 \nL 158.274554 328.6 \nL 158.274554 167.533191 \nL 135.144683 167.533191 \nz\n\" style=\"fill:#1f77b4;\"/>\n   </g>\n   <g id=\"patch_7\">\n    <path clip-path=\"url(#p1a82217ba6)\" d=\"M 164.057021 328.6 \nL 187.186891 328.6 \nL 187.186891 182.719215 \nL 164.057021 182.719215 \nz\n\" style=\"fill:#1f77b4;\"/>\n   </g>\n   <g id=\"patch_8\">\n    <path clip-path=\"url(#p1a82217ba6)\" d=\"M 192.969359 328.6 \nL 216.099229 328.6 \nL 216.099229 256.913539 \nL 192.969359 256.913539 \nz\n\" style=\"fill:#1f77b4;\"/>\n   </g>\n   <g id=\"patch_9\">\n    <path clip-path=\"url(#p1a82217ba6)\" d=\"M 221.881696 328.6 \nL 245.011567 328.6 \nL 245.011567 264.903085 \nL 221.881696 264.903085 \nz\n\" style=\"fill:#1f77b4;\"/>\n   </g>\n   <g id=\"patch_10\">\n    <path clip-path=\"url(#p1a82217ba6)\" d=\"M 250.794034 328.6 \nL 273.923904 328.6 \nL 273.923904 269.114506 \nL 250.794034 269.114506 \nz\n\" style=\"fill:#1f77b4;\"/>\n   </g>\n   <g id=\"patch_11\">\n    <path clip-path=\"url(#p1a82217ba6)\" d=\"M 279.706372 328.6 \nL 302.836242 328.6 \nL 302.836242 269.849213 \nL 279.706372 269.849213 \nz\n\" style=\"fill:#1f77b4;\"/>\n   </g>\n   <g id=\"patch_12\">\n    <path clip-path=\"url(#p1a82217ba6)\" d=\"M 308.618709 328.6 \nL 331.74858 328.6 \nL 331.74858 273.75258 \nL 308.618709 273.75258 \nz\n\" style=\"fill:#1f77b4;\"/>\n   </g>\n   <g id=\"matplotlib.axis_1\">\n    <g id=\"xtick_1\">\n     <g id=\"line2d_1\">\n      <defs>\n       <path d=\"M 0 0 \nL 0 3.5 \n\" id=\"me8b68f0dd6\" style=\"stroke:#000000;stroke-width:0.8;\"/>\n      </defs>\n      <g>\n       <use style=\"stroke:#000000;stroke-width:0.8;\" x=\"88.884943\" xlink:href=\"#me8b68f0dd6\" y=\"328.6\"/>\n      </g>\n     </g>\n     <g id=\"text_1\">\n      <!-- 2 -->\n      <defs>\n       <path d=\"M 19.1875 8.296875 \nL 53.609375 8.296875 \nL 53.609375 0 \nL 7.328125 0 \nL 7.328125 8.296875 \nQ 12.9375 14.109375 22.625 23.890625 \nQ 32.328125 33.6875 34.8125 36.53125 \nQ 39.546875 41.84375 41.421875 45.53125 \nQ 43.3125 49.21875 43.3125 52.78125 \nQ 43.3125 58.59375 39.234375 62.25 \nQ 35.15625 65.921875 28.609375 65.921875 \nQ 23.96875 65.921875 18.8125 64.3125 \nQ 13.671875 62.703125 7.8125 59.421875 \nL 7.8125 69.390625 \nQ 13.765625 71.78125 18.9375 73 \nQ 24.125 74.21875 28.421875 74.21875 \nQ 39.75 74.21875 46.484375 68.546875 \nQ 53.21875 62.890625 53.21875 53.421875 \nQ 53.21875 48.921875 51.53125 44.890625 \nQ 49.859375 40.875 45.40625 35.40625 \nQ 44.1875 33.984375 37.640625 27.21875 \nQ 31.109375 20.453125 19.1875 8.296875 \nz\n\" id=\"DejaVuSans-50\"/>\n      </defs>\n      <g transform=\"translate(85.703693 343.198437)scale(0.1 -0.1)\">\n       <use xlink:href=\"#DejaVuSans-50\"/>\n      </g>\n     </g>\n    </g>\n    <g id=\"xtick_2\">\n     <g id=\"line2d_2\">\n      <g>\n       <use style=\"stroke:#000000;stroke-width:0.8;\" x=\"146.709619\" xlink:href=\"#me8b68f0dd6\" y=\"328.6\"/>\n      </g>\n     </g>\n     <g id=\"text_2\">\n      <!-- 4 -->\n      <defs>\n       <path d=\"M 37.796875 64.3125 \nL 12.890625 25.390625 \nL 37.796875 25.390625 \nz\nM 35.203125 72.90625 \nL 47.609375 72.90625 \nL 47.609375 25.390625 \nL 58.015625 25.390625 \nL 58.015625 17.1875 \nL 47.609375 17.1875 \nL 47.609375 0 \nL 37.796875 0 \nL 37.796875 17.1875 \nL 4.890625 17.1875 \nL 4.890625 26.703125 \nz\n\" id=\"DejaVuSans-52\"/>\n      </defs>\n      <g transform=\"translate(143.528369 343.198437)scale(0.1 -0.1)\">\n       <use xlink:href=\"#DejaVuSans-52\"/>\n      </g>\n     </g>\n    </g>\n    <g id=\"xtick_3\">\n     <g id=\"line2d_3\">\n      <g>\n       <use style=\"stroke:#000000;stroke-width:0.8;\" x=\"204.534294\" xlink:href=\"#me8b68f0dd6\" y=\"328.6\"/>\n      </g>\n     </g>\n     <g id=\"text_3\">\n      <!-- 6 -->\n      <defs>\n       <path d=\"M 33.015625 40.375 \nQ 26.375 40.375 22.484375 35.828125 \nQ 18.609375 31.296875 18.609375 23.390625 \nQ 18.609375 15.53125 22.484375 10.953125 \nQ 26.375 6.390625 33.015625 6.390625 \nQ 39.65625 6.390625 43.53125 10.953125 \nQ 47.40625 15.53125 47.40625 23.390625 \nQ 47.40625 31.296875 43.53125 35.828125 \nQ 39.65625 40.375 33.015625 40.375 \nz\nM 52.59375 71.296875 \nL 52.59375 62.3125 \nQ 48.875 64.0625 45.09375 64.984375 \nQ 41.3125 65.921875 37.59375 65.921875 \nQ 27.828125 65.921875 22.671875 59.328125 \nQ 17.53125 52.734375 16.796875 39.40625 \nQ 19.671875 43.65625 24.015625 45.921875 \nQ 28.375 48.1875 33.59375 48.1875 \nQ 44.578125 48.1875 50.953125 41.515625 \nQ 57.328125 34.859375 57.328125 23.390625 \nQ 57.328125 12.15625 50.6875 5.359375 \nQ 44.046875 -1.421875 33.015625 -1.421875 \nQ 20.359375 -1.421875 13.671875 8.265625 \nQ 6.984375 17.96875 6.984375 36.375 \nQ 6.984375 53.65625 15.1875 63.9375 \nQ 23.390625 74.21875 37.203125 74.21875 \nQ 40.921875 74.21875 44.703125 73.484375 \nQ 48.484375 72.75 52.59375 71.296875 \nz\n\" id=\"DejaVuSans-54\"/>\n      </defs>\n      <g transform=\"translate(201.353044 343.198437)scale(0.1 -0.1)\">\n       <use xlink:href=\"#DejaVuSans-54\"/>\n      </g>\n     </g>\n    </g>\n    <g id=\"xtick_4\">\n     <g id=\"line2d_4\">\n      <g>\n       <use style=\"stroke:#000000;stroke-width:0.8;\" x=\"262.358969\" xlink:href=\"#me8b68f0dd6\" y=\"328.6\"/>\n      </g>\n     </g>\n     <g id=\"text_4\">\n      <!-- 8 -->\n      <defs>\n       <path d=\"M 31.78125 34.625 \nQ 24.75 34.625 20.71875 30.859375 \nQ 16.703125 27.09375 16.703125 20.515625 \nQ 16.703125 13.921875 20.71875 10.15625 \nQ 24.75 6.390625 31.78125 6.390625 \nQ 38.8125 6.390625 42.859375 10.171875 \nQ 46.921875 13.96875 46.921875 20.515625 \nQ 46.921875 27.09375 42.890625 30.859375 \nQ 38.875 34.625 31.78125 34.625 \nz\nM 21.921875 38.8125 \nQ 15.578125 40.375 12.03125 44.71875 \nQ 8.5 49.078125 8.5 55.328125 \nQ 8.5 64.0625 14.71875 69.140625 \nQ 20.953125 74.21875 31.78125 74.21875 \nQ 42.671875 74.21875 48.875 69.140625 \nQ 55.078125 64.0625 55.078125 55.328125 \nQ 55.078125 49.078125 51.53125 44.71875 \nQ 48 40.375 41.703125 38.8125 \nQ 48.828125 37.15625 52.796875 32.3125 \nQ 56.78125 27.484375 56.78125 20.515625 \nQ 56.78125 9.90625 50.3125 4.234375 \nQ 43.84375 -1.421875 31.78125 -1.421875 \nQ 19.734375 -1.421875 13.25 4.234375 \nQ 6.78125 9.90625 6.78125 20.515625 \nQ 6.78125 27.484375 10.78125 32.3125 \nQ 14.796875 37.15625 21.921875 38.8125 \nz\nM 18.3125 54.390625 \nQ 18.3125 48.734375 21.84375 45.5625 \nQ 25.390625 42.390625 31.78125 42.390625 \nQ 38.140625 42.390625 41.71875 45.5625 \nQ 45.3125 48.734375 45.3125 54.390625 \nQ 45.3125 60.0625 41.71875 63.234375 \nQ 38.140625 66.40625 31.78125 66.40625 \nQ 25.390625 66.40625 21.84375 63.234375 \nQ 18.3125 60.0625 18.3125 54.390625 \nz\n\" id=\"DejaVuSans-56\"/>\n      </defs>\n      <g transform=\"translate(259.177719 343.198437)scale(0.1 -0.1)\">\n       <use xlink:href=\"#DejaVuSans-56\"/>\n      </g>\n     </g>\n    </g>\n    <g id=\"xtick_5\">\n     <g id=\"line2d_5\">\n      <g>\n       <use style=\"stroke:#000000;stroke-width:0.8;\" x=\"320.183644\" xlink:href=\"#me8b68f0dd6\" y=\"328.6\"/>\n      </g>\n     </g>\n     <g id=\"text_5\">\n      <!-- 10 -->\n      <defs>\n       <path d=\"M 12.40625 8.296875 \nL 28.515625 8.296875 \nL 28.515625 63.921875 \nL 10.984375 60.40625 \nL 10.984375 69.390625 \nL 28.421875 72.90625 \nL 38.28125 72.90625 \nL 38.28125 8.296875 \nL 54.390625 8.296875 \nL 54.390625 0 \nL 12.40625 0 \nz\n\" id=\"DejaVuSans-49\"/>\n       <path d=\"M 31.78125 66.40625 \nQ 24.171875 66.40625 20.328125 58.90625 \nQ 16.5 51.421875 16.5 36.375 \nQ 16.5 21.390625 20.328125 13.890625 \nQ 24.171875 6.390625 31.78125 6.390625 \nQ 39.453125 6.390625 43.28125 13.890625 \nQ 47.125 21.390625 47.125 36.375 \nQ 47.125 51.421875 43.28125 58.90625 \nQ 39.453125 66.40625 31.78125 66.40625 \nz\nM 31.78125 74.21875 \nQ 44.046875 74.21875 50.515625 64.515625 \nQ 56.984375 54.828125 56.984375 36.375 \nQ 56.984375 17.96875 50.515625 8.265625 \nQ 44.046875 -1.421875 31.78125 -1.421875 \nQ 19.53125 -1.421875 13.0625 8.265625 \nQ 6.59375 17.96875 6.59375 36.375 \nQ 6.59375 54.828125 13.0625 64.515625 \nQ 19.53125 74.21875 31.78125 74.21875 \nz\n\" id=\"DejaVuSans-48\"/>\n      </defs>\n      <g transform=\"translate(313.821144 343.198437)scale(0.1 -0.1)\">\n       <use xlink:href=\"#DejaVuSans-49\"/>\n       <use x=\"63.623047\" xlink:href=\"#DejaVuSans-48\"/>\n      </g>\n     </g>\n    </g>\n   </g>\n   <g id=\"matplotlib.axis_2\">\n    <g id=\"ytick_1\">\n     <g id=\"line2d_6\">\n      <defs>\n       <path d=\"M 0 0 \nL -3.5 0 \n\" id=\"mb304017a4f\" style=\"stroke:#000000;stroke-width:0.8;\"/>\n      </defs>\n      <g>\n       <use style=\"stroke:#000000;stroke-width:0.8;\" x=\"34.240625\" xlink:href=\"#mb304017a4f\" y=\"328.6\"/>\n      </g>\n     </g>\n     <g id=\"text_6\">\n      <!-- 0 -->\n      <g transform=\"translate(20.878125 332.399219)scale(0.1 -0.1)\">\n       <use xlink:href=\"#DejaVuSans-48\"/>\n      </g>\n     </g>\n    </g>\n    <g id=\"ytick_2\">\n     <g id=\"line2d_7\">\n      <g>\n       <use style=\"stroke:#000000;stroke-width:0.8;\" x=\"34.240625\" xlink:href=\"#mb304017a4f\" y=\"271.791038\"/>\n      </g>\n     </g>\n     <g id=\"text_7\">\n      <!-- 1 -->\n      <g transform=\"translate(20.878125 275.590257)scale(0.1 -0.1)\">\n       <use xlink:href=\"#DejaVuSans-49\"/>\n      </g>\n     </g>\n    </g>\n    <g id=\"ytick_3\">\n     <g id=\"line2d_8\">\n      <g>\n       <use style=\"stroke:#000000;stroke-width:0.8;\" x=\"34.240625\" xlink:href=\"#mb304017a4f\" y=\"214.982076\"/>\n      </g>\n     </g>\n     <g id=\"text_8\">\n      <!-- 2 -->\n      <g transform=\"translate(20.878125 218.781295)scale(0.1 -0.1)\">\n       <use xlink:href=\"#DejaVuSans-50\"/>\n      </g>\n     </g>\n    </g>\n    <g id=\"ytick_4\">\n     <g id=\"line2d_9\">\n      <g>\n       <use style=\"stroke:#000000;stroke-width:0.8;\" x=\"34.240625\" xlink:href=\"#mb304017a4f\" y=\"158.173114\"/>\n      </g>\n     </g>\n     <g id=\"text_9\">\n      <!-- 3 -->\n      <defs>\n       <path d=\"M 40.578125 39.3125 \nQ 47.65625 37.796875 51.625 33 \nQ 55.609375 28.21875 55.609375 21.1875 \nQ 55.609375 10.40625 48.1875 4.484375 \nQ 40.765625 -1.421875 27.09375 -1.421875 \nQ 22.515625 -1.421875 17.65625 -0.515625 \nQ 12.796875 0.390625 7.625 2.203125 \nL 7.625 11.71875 \nQ 11.71875 9.328125 16.59375 8.109375 \nQ 21.484375 6.890625 26.8125 6.890625 \nQ 36.078125 6.890625 40.9375 10.546875 \nQ 45.796875 14.203125 45.796875 21.1875 \nQ 45.796875 27.640625 41.28125 31.265625 \nQ 36.765625 34.90625 28.71875 34.90625 \nL 20.21875 34.90625 \nL 20.21875 43.015625 \nL 29.109375 43.015625 \nQ 36.375 43.015625 40.234375 45.921875 \nQ 44.09375 48.828125 44.09375 54.296875 \nQ 44.09375 59.90625 40.109375 62.90625 \nQ 36.140625 65.921875 28.71875 65.921875 \nQ 24.65625 65.921875 20.015625 65.03125 \nQ 15.375 64.15625 9.8125 62.3125 \nL 9.8125 71.09375 \nQ 15.4375 72.65625 20.34375 73.4375 \nQ 25.25 74.21875 29.59375 74.21875 \nQ 40.828125 74.21875 47.359375 69.109375 \nQ 53.90625 64.015625 53.90625 55.328125 \nQ 53.90625 49.265625 50.4375 45.09375 \nQ 46.96875 40.921875 40.578125 39.3125 \nz\n\" id=\"DejaVuSans-51\"/>\n      </defs>\n      <g transform=\"translate(20.878125 161.972333)scale(0.1 -0.1)\">\n       <use xlink:href=\"#DejaVuSans-51\"/>\n      </g>\n     </g>\n    </g>\n    <g id=\"ytick_5\">\n     <g id=\"line2d_10\">\n      <g>\n       <use style=\"stroke:#000000;stroke-width:0.8;\" x=\"34.240625\" xlink:href=\"#mb304017a4f\" y=\"101.364152\"/>\n      </g>\n     </g>\n     <g id=\"text_10\">\n      <!-- 4 -->\n      <g transform=\"translate(20.878125 105.163371)scale(0.1 -0.1)\">\n       <use xlink:href=\"#DejaVuSans-52\"/>\n      </g>\n     </g>\n    </g>\n    <g id=\"ytick_6\">\n     <g id=\"line2d_11\">\n      <g>\n       <use style=\"stroke:#000000;stroke-width:0.8;\" x=\"34.240625\" xlink:href=\"#mb304017a4f\" y=\"44.555191\"/>\n      </g>\n     </g>\n     <g id=\"text_11\">\n      <!-- 5 -->\n      <defs>\n       <path d=\"M 10.796875 72.90625 \nL 49.515625 72.90625 \nL 49.515625 64.59375 \nL 19.828125 64.59375 \nL 19.828125 46.734375 \nQ 21.96875 47.46875 24.109375 47.828125 \nQ 26.265625 48.1875 28.421875 48.1875 \nQ 40.625 48.1875 47.75 41.5 \nQ 54.890625 34.8125 54.890625 23.390625 \nQ 54.890625 11.625 47.5625 5.09375 \nQ 40.234375 -1.421875 26.90625 -1.421875 \nQ 22.3125 -1.421875 17.546875 -0.640625 \nQ 12.796875 0.140625 7.71875 1.703125 \nL 7.71875 11.625 \nQ 12.109375 9.234375 16.796875 8.0625 \nQ 21.484375 6.890625 26.703125 6.890625 \nQ 35.15625 6.890625 40.078125 11.328125 \nQ 45.015625 15.765625 45.015625 23.390625 \nQ 45.015625 31 40.078125 35.4375 \nQ 35.15625 39.890625 26.703125 39.890625 \nQ 22.75 39.890625 18.8125 39.015625 \nQ 14.890625 38.140625 10.796875 36.28125 \nz\n\" id=\"DejaVuSans-53\"/>\n      </defs>\n      <g transform=\"translate(20.878125 48.354409)scale(0.1 -0.1)\">\n       <use xlink:href=\"#DejaVuSans-53\"/>\n      </g>\n     </g>\n    </g>\n    <g id=\"text_12\">\n     <!-- Variance explained -->\n     <defs>\n      <path d=\"M 28.609375 0 \nL 0.78125 72.90625 \nL 11.078125 72.90625 \nL 34.1875 11.53125 \nL 57.328125 72.90625 \nL 67.578125 72.90625 \nL 39.796875 0 \nz\n\" id=\"DejaVuSans-86\"/>\n      <path d=\"M 34.28125 27.484375 \nQ 23.390625 27.484375 19.1875 25 \nQ 14.984375 22.515625 14.984375 16.5 \nQ 14.984375 11.71875 18.140625 8.90625 \nQ 21.296875 6.109375 26.703125 6.109375 \nQ 34.1875 6.109375 38.703125 11.40625 \nQ 43.21875 16.703125 43.21875 25.484375 \nL 43.21875 27.484375 \nz\nM 52.203125 31.203125 \nL 52.203125 0 \nL 43.21875 0 \nL 43.21875 8.296875 \nQ 40.140625 3.328125 35.546875 0.953125 \nQ 30.953125 -1.421875 24.3125 -1.421875 \nQ 15.921875 -1.421875 10.953125 3.296875 \nQ 6 8.015625 6 15.921875 \nQ 6 25.140625 12.171875 29.828125 \nQ 18.359375 34.515625 30.609375 34.515625 \nL 43.21875 34.515625 \nL 43.21875 35.40625 \nQ 43.21875 41.609375 39.140625 45 \nQ 35.0625 48.390625 27.6875 48.390625 \nQ 23 48.390625 18.546875 47.265625 \nQ 14.109375 46.140625 10.015625 43.890625 \nL 10.015625 52.203125 \nQ 14.9375 54.109375 19.578125 55.046875 \nQ 24.21875 56 28.609375 56 \nQ 40.484375 56 46.34375 49.84375 \nQ 52.203125 43.703125 52.203125 31.203125 \nz\n\" id=\"DejaVuSans-97\"/>\n      <path d=\"M 41.109375 46.296875 \nQ 39.59375 47.171875 37.8125 47.578125 \nQ 36.03125 48 33.890625 48 \nQ 26.265625 48 22.1875 43.046875 \nQ 18.109375 38.09375 18.109375 28.8125 \nL 18.109375 0 \nL 9.078125 0 \nL 9.078125 54.6875 \nL 18.109375 54.6875 \nL 18.109375 46.1875 \nQ 20.953125 51.171875 25.484375 53.578125 \nQ 30.03125 56 36.53125 56 \nQ 37.453125 56 38.578125 55.875 \nQ 39.703125 55.765625 41.0625 55.515625 \nz\n\" id=\"DejaVuSans-114\"/>\n      <path d=\"M 9.421875 54.6875 \nL 18.40625 54.6875 \nL 18.40625 0 \nL 9.421875 0 \nz\nM 9.421875 75.984375 \nL 18.40625 75.984375 \nL 18.40625 64.59375 \nL 9.421875 64.59375 \nz\n\" id=\"DejaVuSans-105\"/>\n      <path d=\"M 54.890625 33.015625 \nL 54.890625 0 \nL 45.90625 0 \nL 45.90625 32.71875 \nQ 45.90625 40.484375 42.875 44.328125 \nQ 39.84375 48.1875 33.796875 48.1875 \nQ 26.515625 48.1875 22.3125 43.546875 \nQ 18.109375 38.921875 18.109375 30.90625 \nL 18.109375 0 \nL 9.078125 0 \nL 9.078125 54.6875 \nL 18.109375 54.6875 \nL 18.109375 46.1875 \nQ 21.34375 51.125 25.703125 53.5625 \nQ 30.078125 56 35.796875 56 \nQ 45.21875 56 50.046875 50.171875 \nQ 54.890625 44.34375 54.890625 33.015625 \nz\n\" id=\"DejaVuSans-110\"/>\n      <path d=\"M 48.78125 52.59375 \nL 48.78125 44.1875 \nQ 44.96875 46.296875 41.140625 47.34375 \nQ 37.3125 48.390625 33.40625 48.390625 \nQ 24.65625 48.390625 19.8125 42.84375 \nQ 14.984375 37.3125 14.984375 27.296875 \nQ 14.984375 17.28125 19.8125 11.734375 \nQ 24.65625 6.203125 33.40625 6.203125 \nQ 37.3125 6.203125 41.140625 7.25 \nQ 44.96875 8.296875 48.78125 10.40625 \nL 48.78125 2.09375 \nQ 45.015625 0.34375 40.984375 -0.53125 \nQ 36.96875 -1.421875 32.421875 -1.421875 \nQ 20.0625 -1.421875 12.78125 6.34375 \nQ 5.515625 14.109375 5.515625 27.296875 \nQ 5.515625 40.671875 12.859375 48.328125 \nQ 20.21875 56 33.015625 56 \nQ 37.15625 56 41.109375 55.140625 \nQ 45.0625 54.296875 48.78125 52.59375 \nz\n\" id=\"DejaVuSans-99\"/>\n      <path d=\"M 56.203125 29.59375 \nL 56.203125 25.203125 \nL 14.890625 25.203125 \nQ 15.484375 15.921875 20.484375 11.0625 \nQ 25.484375 6.203125 34.421875 6.203125 \nQ 39.59375 6.203125 44.453125 7.46875 \nQ 49.3125 8.734375 54.109375 11.28125 \nL 54.109375 2.78125 \nQ 49.265625 0.734375 44.1875 -0.34375 \nQ 39.109375 -1.421875 33.890625 -1.421875 \nQ 20.796875 -1.421875 13.15625 6.1875 \nQ 5.515625 13.8125 5.515625 26.8125 \nQ 5.515625 40.234375 12.765625 48.109375 \nQ 20.015625 56 32.328125 56 \nQ 43.359375 56 49.78125 48.890625 \nQ 56.203125 41.796875 56.203125 29.59375 \nz\nM 47.21875 32.234375 \nQ 47.125 39.59375 43.09375 43.984375 \nQ 39.0625 48.390625 32.421875 48.390625 \nQ 24.90625 48.390625 20.390625 44.140625 \nQ 15.875 39.890625 15.1875 32.171875 \nz\n\" id=\"DejaVuSans-101\"/>\n      <path id=\"DejaVuSans-32\"/>\n      <path d=\"M 54.890625 54.6875 \nL 35.109375 28.078125 \nL 55.90625 0 \nL 45.3125 0 \nL 29.390625 21.484375 \nL 13.484375 0 \nL 2.875 0 \nL 24.125 28.609375 \nL 4.6875 54.6875 \nL 15.28125 54.6875 \nL 29.78125 35.203125 \nL 44.28125 54.6875 \nz\n\" id=\"DejaVuSans-120\"/>\n      <path d=\"M 18.109375 8.203125 \nL 18.109375 -20.796875 \nL 9.078125 -20.796875 \nL 9.078125 54.6875 \nL 18.109375 54.6875 \nL 18.109375 46.390625 \nQ 20.953125 51.265625 25.265625 53.625 \nQ 29.59375 56 35.59375 56 \nQ 45.5625 56 51.78125 48.09375 \nQ 58.015625 40.1875 58.015625 27.296875 \nQ 58.015625 14.40625 51.78125 6.484375 \nQ 45.5625 -1.421875 35.59375 -1.421875 \nQ 29.59375 -1.421875 25.265625 0.953125 \nQ 20.953125 3.328125 18.109375 8.203125 \nz\nM 48.6875 27.296875 \nQ 48.6875 37.203125 44.609375 42.84375 \nQ 40.53125 48.484375 33.40625 48.484375 \nQ 26.265625 48.484375 22.1875 42.84375 \nQ 18.109375 37.203125 18.109375 27.296875 \nQ 18.109375 17.390625 22.1875 11.75 \nQ 26.265625 6.109375 33.40625 6.109375 \nQ 40.53125 6.109375 44.609375 11.75 \nQ 48.6875 17.390625 48.6875 27.296875 \nz\n\" id=\"DejaVuSans-112\"/>\n      <path d=\"M 9.421875 75.984375 \nL 18.40625 75.984375 \nL 18.40625 0 \nL 9.421875 0 \nz\n\" id=\"DejaVuSans-108\"/>\n      <path d=\"M 45.40625 46.390625 \nL 45.40625 75.984375 \nL 54.390625 75.984375 \nL 54.390625 0 \nL 45.40625 0 \nL 45.40625 8.203125 \nQ 42.578125 3.328125 38.25 0.953125 \nQ 33.9375 -1.421875 27.875 -1.421875 \nQ 17.96875 -1.421875 11.734375 6.484375 \nQ 5.515625 14.40625 5.515625 27.296875 \nQ 5.515625 40.1875 11.734375 48.09375 \nQ 17.96875 56 27.875 56 \nQ 33.9375 56 38.25 53.625 \nQ 42.578125 51.265625 45.40625 46.390625 \nz\nM 14.796875 27.296875 \nQ 14.796875 17.390625 18.875 11.75 \nQ 22.953125 6.109375 30.078125 6.109375 \nQ 37.203125 6.109375 41.296875 11.75 \nQ 45.40625 17.390625 45.40625 27.296875 \nQ 45.40625 37.203125 41.296875 42.84375 \nQ 37.203125 48.484375 30.078125 48.484375 \nQ 22.953125 48.484375 18.875 42.84375 \nQ 14.796875 37.203125 14.796875 27.296875 \nz\n\" id=\"DejaVuSans-100\"/>\n     </defs>\n     <g transform=\"translate(14.798438 215.473437)rotate(-90)scale(0.1 -0.1)\">\n      <use xlink:href=\"#DejaVuSans-86\"/>\n      <use x=\"60.658203\" xlink:href=\"#DejaVuSans-97\"/>\n      <use x=\"121.9375\" xlink:href=\"#DejaVuSans-114\"/>\n      <use x=\"163.050781\" xlink:href=\"#DejaVuSans-105\"/>\n      <use x=\"190.833984\" xlink:href=\"#DejaVuSans-97\"/>\n      <use x=\"252.113281\" xlink:href=\"#DejaVuSans-110\"/>\n      <use x=\"315.492188\" xlink:href=\"#DejaVuSans-99\"/>\n      <use x=\"370.472656\" xlink:href=\"#DejaVuSans-101\"/>\n      <use x=\"431.996094\" xlink:href=\"#DejaVuSans-32\"/>\n      <use x=\"463.783203\" xlink:href=\"#DejaVuSans-101\"/>\n      <use x=\"523.556641\" xlink:href=\"#DejaVuSans-120\"/>\n      <use x=\"582.736328\" xlink:href=\"#DejaVuSans-112\"/>\n      <use x=\"646.212891\" xlink:href=\"#DejaVuSans-108\"/>\n      <use x=\"673.996094\" xlink:href=\"#DejaVuSans-97\"/>\n      <use x=\"735.275391\" xlink:href=\"#DejaVuSans-105\"/>\n      <use x=\"763.058594\" xlink:href=\"#DejaVuSans-110\"/>\n      <use x=\"826.4375\" xlink:href=\"#DejaVuSans-101\"/>\n      <use x=\"887.960938\" xlink:href=\"#DejaVuSans-100\"/>\n     </g>\n    </g>\n   </g>\n   <g id=\"patch_13\">\n    <path d=\"M 34.240625 328.6 \nL 34.240625 7.2 \n\" style=\"fill:none;stroke:#000000;stroke-linecap:square;stroke-linejoin:miter;stroke-width:0.8;\"/>\n   </g>\n   <g id=\"patch_14\">\n    <path d=\"M 345.915625 328.6 \nL 345.915625 7.2 \n\" style=\"fill:none;stroke:#000000;stroke-linecap:square;stroke-linejoin:miter;stroke-width:0.8;\"/>\n   </g>\n   <g id=\"patch_15\">\n    <path d=\"M 34.240625 328.6 \nL 345.915625 328.6 \n\" style=\"fill:none;stroke:#000000;stroke-linecap:square;stroke-linejoin:miter;stroke-width:0.8;\"/>\n   </g>\n   <g id=\"patch_16\">\n    <path d=\"M 34.240625 7.2 \nL 345.915625 7.2 \n\" style=\"fill:none;stroke:#000000;stroke-linecap:square;stroke-linejoin:miter;stroke-width:0.8;\"/>\n   </g>\n  </g>\n  <g id=\"axes_2\">\n   <g id=\"patch_17\">\n    <path d=\"M 393.590625 328.6 \nL 705.265625 328.6 \nL 705.265625 7.2 \nL 393.590625 7.2 \nz\n\" style=\"fill:#ffffff;\"/>\n   </g>\n   <g id=\"patch_18\">\n    <path clip-path=\"url(#p7ba3870e27)\" d=\"M 407.75767 328.6 \nL 430.887541 328.6 \nL 430.887541 260.307966 \nL 407.75767 260.307966 \nz\n\" style=\"fill:#008000;\"/>\n   </g>\n   <g id=\"patch_19\">\n    <path clip-path=\"url(#p7ba3870e27)\" d=\"M 436.670008 328.6 \nL 459.799878 328.6 \nL 459.799878 208.545929 \nL 436.670008 208.545929 \nz\n\" style=\"fill:#008000;\"/>\n   </g>\n   <g id=\"patch_20\">\n    <path clip-path=\"url(#p7ba3870e27)\" d=\"M 465.582346 328.6 \nL 488.712216 328.6 \nL 488.712216 159.80817 \nL 465.582346 159.80817 \nz\n\" style=\"fill:#008000;\"/>\n   </g>\n   <g id=\"patch_21\">\n    <path clip-path=\"url(#p7ba3870e27)\" d=\"M 494.494683 328.6 \nL 517.624554 328.6 \nL 517.624554 123.873014 \nL 494.494683 123.873014 \nz\n\" style=\"fill:#008000;\"/>\n   </g>\n   <g id=\"patch_22\">\n    <path clip-path=\"url(#p7ba3870e27)\" d=\"M 523.407021 328.6 \nL 546.536891 328.6 \nL 546.536891 91.32597 \nL 523.407021 91.32597 \nz\n\" style=\"fill:#008000;\"/>\n   </g>\n   <g id=\"patch_23\">\n    <path clip-path=\"url(#p7ba3870e27)\" d=\"M 552.319359 328.6 \nL 575.449229 328.6 \nL 575.449229 75.332208 \nL 552.319359 75.332208 \nz\n\" style=\"fill:#008000;\"/>\n   </g>\n   <g id=\"patch_24\">\n    <path clip-path=\"url(#p7ba3870e27)\" d=\"M 581.231696 328.6 \nL 604.361567 328.6 \nL 604.361567 61.120972 \nL 581.231696 61.120972 \nz\n\" style=\"fill:#008000;\"/>\n   </g>\n   <g id=\"patch_25\">\n    <path clip-path=\"url(#p7ba3870e27)\" d=\"M 610.144034 328.6 \nL 633.273904 328.6 \nL 633.273904 47.849333 \nL 610.144034 47.849333 \nz\n\" style=\"fill:#008000;\"/>\n   </g>\n   <g id=\"patch_26\">\n    <path clip-path=\"url(#p7ba3870e27)\" d=\"M 639.056372 328.6 \nL 662.186242 328.6 \nL 662.186242 34.741613 \nL 639.056372 34.741613 \nz\n\" style=\"fill:#008000;\"/>\n   </g>\n   <g id=\"patch_27\">\n    <path clip-path=\"url(#p7ba3870e27)\" d=\"M 667.968709 328.6 \nL 691.09858 328.6 \nL 691.09858 22.504762 \nL 667.968709 22.504762 \nz\n\" style=\"fill:#008000;\"/>\n   </g>\n   <g id=\"matplotlib.axis_3\">\n    <g id=\"xtick_6\">\n     <g id=\"line2d_12\">\n      <g>\n       <use style=\"stroke:#000000;stroke-width:0.8;\" x=\"448.234943\" xlink:href=\"#me8b68f0dd6\" y=\"328.6\"/>\n      </g>\n     </g>\n     <g id=\"text_13\">\n      <!-- 2 -->\n      <g transform=\"translate(445.053693 343.198437)scale(0.1 -0.1)\">\n       <use xlink:href=\"#DejaVuSans-50\"/>\n      </g>\n     </g>\n    </g>\n    <g id=\"xtick_7\">\n     <g id=\"line2d_13\">\n      <g>\n       <use style=\"stroke:#000000;stroke-width:0.8;\" x=\"506.059619\" xlink:href=\"#me8b68f0dd6\" y=\"328.6\"/>\n      </g>\n     </g>\n     <g id=\"text_14\">\n      <!-- 4 -->\n      <g transform=\"translate(502.878369 343.198437)scale(0.1 -0.1)\">\n       <use xlink:href=\"#DejaVuSans-52\"/>\n      </g>\n     </g>\n    </g>\n    <g id=\"xtick_8\">\n     <g id=\"line2d_14\">\n      <g>\n       <use style=\"stroke:#000000;stroke-width:0.8;\" x=\"563.884294\" xlink:href=\"#me8b68f0dd6\" y=\"328.6\"/>\n      </g>\n     </g>\n     <g id=\"text_15\">\n      <!-- 6 -->\n      <g transform=\"translate(560.703044 343.198437)scale(0.1 -0.1)\">\n       <use xlink:href=\"#DejaVuSans-54\"/>\n      </g>\n     </g>\n    </g>\n    <g id=\"xtick_9\">\n     <g id=\"line2d_15\">\n      <g>\n       <use style=\"stroke:#000000;stroke-width:0.8;\" x=\"621.708969\" xlink:href=\"#me8b68f0dd6\" y=\"328.6\"/>\n      </g>\n     </g>\n     <g id=\"text_16\">\n      <!-- 8 -->\n      <g transform=\"translate(618.527719 343.198437)scale(0.1 -0.1)\">\n       <use xlink:href=\"#DejaVuSans-56\"/>\n      </g>\n     </g>\n    </g>\n    <g id=\"xtick_10\">\n     <g id=\"line2d_16\">\n      <g>\n       <use style=\"stroke:#000000;stroke-width:0.8;\" x=\"679.533644\" xlink:href=\"#me8b68f0dd6\" y=\"328.6\"/>\n      </g>\n     </g>\n     <g id=\"text_17\">\n      <!-- 10 -->\n      <g transform=\"translate(673.171144 343.198437)scale(0.1 -0.1)\">\n       <use xlink:href=\"#DejaVuSans-49\"/>\n       <use x=\"63.623047\" xlink:href=\"#DejaVuSans-48\"/>\n      </g>\n     </g>\n    </g>\n   </g>\n   <g id=\"matplotlib.axis_4\">\n    <g id=\"ytick_7\">\n     <g id=\"line2d_17\">\n      <g>\n       <use style=\"stroke:#000000;stroke-width:0.8;\" x=\"393.590625\" xlink:href=\"#mb304017a4f\" y=\"328.6\"/>\n      </g>\n     </g>\n     <g id=\"text_18\">\n      <!-- 0.0 -->\n      <defs>\n       <path d=\"M 10.6875 12.40625 \nL 21 12.40625 \nL 21 0 \nL 10.6875 0 \nz\n\" id=\"DejaVuSans-46\"/>\n      </defs>\n      <g transform=\"translate(370.6875 332.399219)scale(0.1 -0.1)\">\n       <use xlink:href=\"#DejaVuSans-48\"/>\n       <use x=\"63.623047\" xlink:href=\"#DejaVuSans-46\"/>\n       <use x=\"95.410156\" xlink:href=\"#DejaVuSans-48\"/>\n      </g>\n     </g>\n    </g>\n    <g id=\"ytick_8\">\n     <g id=\"line2d_18\">\n      <g>\n       <use style=\"stroke:#000000;stroke-width:0.8;\" x=\"393.590625\" xlink:href=\"#mb304017a4f\" y=\"260.157659\"/>\n      </g>\n     </g>\n     <g id=\"text_19\">\n      <!-- 0.2 -->\n      <g transform=\"translate(370.6875 263.956878)scale(0.1 -0.1)\">\n       <use xlink:href=\"#DejaVuSans-48\"/>\n       <use x=\"63.623047\" xlink:href=\"#DejaVuSans-46\"/>\n       <use x=\"95.410156\" xlink:href=\"#DejaVuSans-50\"/>\n      </g>\n     </g>\n    </g>\n    <g id=\"ytick_9\">\n     <g id=\"line2d_19\">\n      <g>\n       <use style=\"stroke:#000000;stroke-width:0.8;\" x=\"393.590625\" xlink:href=\"#mb304017a4f\" y=\"191.715319\"/>\n      </g>\n     </g>\n     <g id=\"text_20\">\n      <!-- 0.4 -->\n      <g transform=\"translate(370.6875 195.514537)scale(0.1 -0.1)\">\n       <use xlink:href=\"#DejaVuSans-48\"/>\n       <use x=\"63.623047\" xlink:href=\"#DejaVuSans-46\"/>\n       <use x=\"95.410156\" xlink:href=\"#DejaVuSans-52\"/>\n      </g>\n     </g>\n    </g>\n    <g id=\"ytick_10\">\n     <g id=\"line2d_20\">\n      <g>\n       <use style=\"stroke:#000000;stroke-width:0.8;\" x=\"393.590625\" xlink:href=\"#mb304017a4f\" y=\"123.272978\"/>\n      </g>\n     </g>\n     <g id=\"text_21\">\n      <!-- 0.6 -->\n      <g transform=\"translate(370.6875 127.072197)scale(0.1 -0.1)\">\n       <use xlink:href=\"#DejaVuSans-48\"/>\n       <use x=\"63.623047\" xlink:href=\"#DejaVuSans-46\"/>\n       <use x=\"95.410156\" xlink:href=\"#DejaVuSans-54\"/>\n      </g>\n     </g>\n    </g>\n    <g id=\"ytick_11\">\n     <g id=\"line2d_21\">\n      <g>\n       <use style=\"stroke:#000000;stroke-width:0.8;\" x=\"393.590625\" xlink:href=\"#mb304017a4f\" y=\"54.830637\"/>\n      </g>\n     </g>\n     <g id=\"text_22\">\n      <!-- 0.8 -->\n      <g transform=\"translate(370.6875 58.629856)scale(0.1 -0.1)\">\n       <use xlink:href=\"#DejaVuSans-48\"/>\n       <use x=\"63.623047\" xlink:href=\"#DejaVuSans-46\"/>\n       <use x=\"95.410156\" xlink:href=\"#DejaVuSans-56\"/>\n      </g>\n     </g>\n    </g>\n    <g id=\"text_23\">\n     <!-- Cumulative variance explained -->\n     <defs>\n      <path d=\"M 64.40625 67.28125 \nL 64.40625 56.890625 \nQ 59.421875 61.53125 53.78125 63.8125 \nQ 48.140625 66.109375 41.796875 66.109375 \nQ 29.296875 66.109375 22.65625 58.46875 \nQ 16.015625 50.828125 16.015625 36.375 \nQ 16.015625 21.96875 22.65625 14.328125 \nQ 29.296875 6.6875 41.796875 6.6875 \nQ 48.140625 6.6875 53.78125 8.984375 \nQ 59.421875 11.28125 64.40625 15.921875 \nL 64.40625 5.609375 \nQ 59.234375 2.09375 53.4375 0.328125 \nQ 47.65625 -1.421875 41.21875 -1.421875 \nQ 24.65625 -1.421875 15.125 8.703125 \nQ 5.609375 18.84375 5.609375 36.375 \nQ 5.609375 53.953125 15.125 64.078125 \nQ 24.65625 74.21875 41.21875 74.21875 \nQ 47.75 74.21875 53.53125 72.484375 \nQ 59.328125 70.75 64.40625 67.28125 \nz\n\" id=\"DejaVuSans-67\"/>\n      <path d=\"M 8.5 21.578125 \nL 8.5 54.6875 \nL 17.484375 54.6875 \nL 17.484375 21.921875 \nQ 17.484375 14.15625 20.5 10.265625 \nQ 23.53125 6.390625 29.59375 6.390625 \nQ 36.859375 6.390625 41.078125 11.03125 \nQ 45.3125 15.671875 45.3125 23.6875 \nL 45.3125 54.6875 \nL 54.296875 54.6875 \nL 54.296875 0 \nL 45.3125 0 \nL 45.3125 8.40625 \nQ 42.046875 3.421875 37.71875 1 \nQ 33.40625 -1.421875 27.6875 -1.421875 \nQ 18.265625 -1.421875 13.375 4.4375 \nQ 8.5 10.296875 8.5 21.578125 \nz\nM 31.109375 56 \nz\n\" id=\"DejaVuSans-117\"/>\n      <path d=\"M 52 44.1875 \nQ 55.375 50.25 60.0625 53.125 \nQ 64.75 56 71.09375 56 \nQ 79.640625 56 84.28125 50.015625 \nQ 88.921875 44.046875 88.921875 33.015625 \nL 88.921875 0 \nL 79.890625 0 \nL 79.890625 32.71875 \nQ 79.890625 40.578125 77.09375 44.375 \nQ 74.3125 48.1875 68.609375 48.1875 \nQ 61.625 48.1875 57.5625 43.546875 \nQ 53.515625 38.921875 53.515625 30.90625 \nL 53.515625 0 \nL 44.484375 0 \nL 44.484375 32.71875 \nQ 44.484375 40.625 41.703125 44.40625 \nQ 38.921875 48.1875 33.109375 48.1875 \nQ 26.21875 48.1875 22.15625 43.53125 \nQ 18.109375 38.875 18.109375 30.90625 \nL 18.109375 0 \nL 9.078125 0 \nL 9.078125 54.6875 \nL 18.109375 54.6875 \nL 18.109375 46.1875 \nQ 21.1875 51.21875 25.484375 53.609375 \nQ 29.78125 56 35.6875 56 \nQ 41.65625 56 45.828125 52.96875 \nQ 50 49.953125 52 44.1875 \nz\n\" id=\"DejaVuSans-109\"/>\n      <path d=\"M 18.3125 70.21875 \nL 18.3125 54.6875 \nL 36.8125 54.6875 \nL 36.8125 47.703125 \nL 18.3125 47.703125 \nL 18.3125 18.015625 \nQ 18.3125 11.328125 20.140625 9.421875 \nQ 21.96875 7.515625 27.59375 7.515625 \nL 36.8125 7.515625 \nL 36.8125 0 \nL 27.59375 0 \nQ 17.1875 0 13.234375 3.875 \nQ 9.28125 7.765625 9.28125 18.015625 \nL 9.28125 47.703125 \nL 2.6875 47.703125 \nL 2.6875 54.6875 \nL 9.28125 54.6875 \nL 9.28125 70.21875 \nz\n\" id=\"DejaVuSans-116\"/>\n      <path d=\"M 2.984375 54.6875 \nL 12.5 54.6875 \nL 29.59375 8.796875 \nL 46.6875 54.6875 \nL 56.203125 54.6875 \nL 35.6875 0 \nL 23.484375 0 \nz\n\" id=\"DejaVuSans-118\"/>\n     </defs>\n     <g transform=\"translate(364.607813 245.526562)rotate(-90)scale(0.1 -0.1)\">\n      <use xlink:href=\"#DejaVuSans-67\"/>\n      <use x=\"69.824219\" xlink:href=\"#DejaVuSans-117\"/>\n      <use x=\"133.203125\" xlink:href=\"#DejaVuSans-109\"/>\n      <use x=\"230.615234\" xlink:href=\"#DejaVuSans-117\"/>\n      <use x=\"293.994141\" xlink:href=\"#DejaVuSans-108\"/>\n      <use x=\"321.777344\" xlink:href=\"#DejaVuSans-97\"/>\n      <use x=\"383.056641\" xlink:href=\"#DejaVuSans-116\"/>\n      <use x=\"422.265625\" xlink:href=\"#DejaVuSans-105\"/>\n      <use x=\"450.048828\" xlink:href=\"#DejaVuSans-118\"/>\n      <use x=\"509.228516\" xlink:href=\"#DejaVuSans-101\"/>\n      <use x=\"570.751953\" xlink:href=\"#DejaVuSans-32\"/>\n      <use x=\"602.539062\" xlink:href=\"#DejaVuSans-118\"/>\n      <use x=\"661.71875\" xlink:href=\"#DejaVuSans-97\"/>\n      <use x=\"722.998047\" xlink:href=\"#DejaVuSans-114\"/>\n      <use x=\"764.111328\" xlink:href=\"#DejaVuSans-105\"/>\n      <use x=\"791.894531\" xlink:href=\"#DejaVuSans-97\"/>\n      <use x=\"853.173828\" xlink:href=\"#DejaVuSans-110\"/>\n      <use x=\"916.552734\" xlink:href=\"#DejaVuSans-99\"/>\n      <use x=\"971.533203\" xlink:href=\"#DejaVuSans-101\"/>\n      <use x=\"1033.056641\" xlink:href=\"#DejaVuSans-32\"/>\n      <use x=\"1064.84375\" xlink:href=\"#DejaVuSans-101\"/>\n      <use x=\"1124.617188\" xlink:href=\"#DejaVuSans-120\"/>\n      <use x=\"1183.796875\" xlink:href=\"#DejaVuSans-112\"/>\n      <use x=\"1247.273438\" xlink:href=\"#DejaVuSans-108\"/>\n      <use x=\"1275.056641\" xlink:href=\"#DejaVuSans-97\"/>\n      <use x=\"1336.335938\" xlink:href=\"#DejaVuSans-105\"/>\n      <use x=\"1364.119141\" xlink:href=\"#DejaVuSans-110\"/>\n      <use x=\"1427.498047\" xlink:href=\"#DejaVuSans-101\"/>\n      <use x=\"1489.021484\" xlink:href=\"#DejaVuSans-100\"/>\n     </g>\n    </g>\n   </g>\n   <g id=\"patch_28\">\n    <path d=\"M 393.590625 328.6 \nL 393.590625 7.2 \n\" style=\"fill:none;stroke:#000000;stroke-linecap:square;stroke-linejoin:miter;stroke-width:0.8;\"/>\n   </g>\n   <g id=\"patch_29\">\n    <path d=\"M 705.265625 328.6 \nL 705.265625 7.2 \n\" style=\"fill:none;stroke:#000000;stroke-linecap:square;stroke-linejoin:miter;stroke-width:0.8;\"/>\n   </g>\n   <g id=\"patch_30\">\n    <path d=\"M 393.590625 328.6 \nL 705.265625 328.6 \n\" style=\"fill:none;stroke:#000000;stroke-linecap:square;stroke-linejoin:miter;stroke-width:0.8;\"/>\n   </g>\n   <g id=\"patch_31\">\n    <path d=\"M 393.590625 7.2 \nL 705.265625 7.2 \n\" style=\"fill:none;stroke:#000000;stroke-linecap:square;stroke-linejoin:miter;stroke-width:0.8;\"/>\n   </g>\n  </g>\n </g>\n <defs>\n  <clipPath id=\"p1a82217ba6\">\n   <rect height=\"321.4\" width=\"311.675\" x=\"34.240625\" y=\"7.2\"/>\n  </clipPath>\n  <clipPath id=\"p7ba3870e27\">\n   <rect height=\"321.4\" width=\"311.675\" x=\"393.590625\" y=\"7.2\"/>\n  </clipPath>\n </defs>\n</svg>\n",
      "image/png": "[encoded data removed]"
     },
     "metadata": {
      "needs_background": "light"
     }
    }
   ],
   "source": [
    "import numpy as np\n",
    "import matplotlib.pyplot as plt\n",
    "\n",
    "fig, ax = plt.subplots(1,2, figsize=(10,5), sharex=True)\n",
    "ax[0].bar(range(1,len(v)+1),v)\n",
    "ax[0].set_ylabel('Variance explained')\n",
    "ax[1].set_ylabel('Cumulative variance explained')\n",
    "ax[1].bar(range(1,len(r)+1), np.cumsum(r), color='green')\n",
    "fig.tight_layout()"
   ]
  },
  {
   "source": [
    "Loadings to Components:\n"
   ],
   "cell_type": "markdown",
   "metadata": {}
  },
  {
   "cell_type": "code",
   "execution_count": null,
   "metadata": {},
   "outputs": [],
   "source": [
    "def biplot(z1, z2, sc, comps, obs, features, colors, title):\n",
    "    x, y = sc[:,z1], sc[:,z2]\n",
    "    \n",
    "    fig = plt.figure(figsize=(10,10))\n",
    "    plt.xlabel(\"Z{}\".format(z1))\n",
    "    plt.ylabel(\"Z{}\".format(z2))\n",
    "\n",
    "    sx = (x.max() - x.min())/2\n",
    "    sy = (y.max() - y.min())/2\n",
    "\n",
    "    # print X and y label\n",
    "    y_colors = ['red', 'orange', 'green', 'magenta', 'blue']\n",
    "    plt.scatter(x, y, c=[y_colors[int(e)] for e in obs])\n",
    "    # for i in range(len(obs)):\n",
    "    #     plt.text(x[i], y[i], obs[i], ha='center', fontsize=12)\n",
    "\n",
    "    vec = np.transpose(comps[[z1,z2], :])\n",
    "    \n",
    "    for i in range(len(vec)):\n",
    "        plt.arrow(0, 0, vec[i,0]*sx, vec[i,1]*sy, ec=colors[i],\n",
    "                  head_width=0.1, head_length=0.1, fc=colors[i])\n",
    "        plt.text(vec[i,0]*sx*1.2, vec[i,1]*sy*1.2, features[i], \n",
    "                 color = colors[i])\n",
    "\n",
    "    plt.title(title)\n",
    "    plt.grid()"
   ]
  },
  {
   "cell_type": "code",
   "execution_count": null,
   "metadata": {},
   "outputs": [],
   "source": [
    "import itertools\n",
    "\n",
    "feature_colors = plt.cm.rainbow(np.linspace(0, 1, len(df.columns)))\n",
    "for z1, z2 in itertools.combinations(range(n_components), 2):\n",
    "    biplot(z1, z2, Xp, c, y, df.columns, colors=feature_colors, title=f\"z1={z1} z2={z2}\")"
   ]
  },
  {
   "cell_type": "code",
   "execution_count": null,
   "metadata": {},
   "outputs": [],
   "source": [
    "sns.pairplot(df, hue=\"evolution_label\")"
   ]
  }
 ]
}