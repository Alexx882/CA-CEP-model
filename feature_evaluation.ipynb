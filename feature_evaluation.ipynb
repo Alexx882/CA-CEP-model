{
 "metadata": {
  "language_info": {
   "codemirror_mode": {
    "name": "ipython",
    "version": 3
   },
   "file_extension": ".py",
   "mimetype": "text/x-python",
   "name": "python",
   "nbconvert_exporter": "python",
   "pygments_lexer": "ipython3",
   "version": "3.7.8"
  },
  "orig_nbformat": 2,
  "kernelspec": {
   "name": "python378jvsc74a57bd0ac79ad19892b6e891e8d97ca5fdbb2e2457e6e4ba8b10fb20aa9e37280e031f3",
   "display_name": "Python 3.7.8 64-bit ('venv': venv)",
   "language": "python"
  },
  "metadata": {
   "interpreter": {
    "hash": "ac79ad19892b6e891e8d97ca5fdbb2e2457e6e4ba8b10fb20aa9e37280e031f3"
   }
  }
 },
 "nbformat": 4,
 "nbformat_minor": 2,
 "cells": [
  {
   "source": [
    "# Evaluation of Single-Context Features"
   ],
   "cell_type": "markdown",
   "metadata": {}
  },
  {
   "cell_type": "code",
   "execution_count": null,
   "metadata": {},
   "outputs": [],
   "source": [
    "dataset = 'youtube'\n",
    "layer_name = 'CategoryLayer' "
   ]
  },
  {
   "cell_type": "code",
   "execution_count": null,
   "metadata": {},
   "outputs": [],
   "source": [
    "import pandas as pd\n",
    "from pandas import DataFrame\n",
    "\n",
    "df: DataFrame = pd.read_csv(f'data/{dataset}/ml_input/single_context/{layer_name}.csv', index_col=0)"
   ]
  },
  {
   "source": [
    "# Evaluation of Cross-Context Features"
   ],
   "cell_type": "markdown",
   "metadata": {}
  },
  {
   "cell_type": "code",
   "execution_count": null,
   "metadata": {},
   "outputs": [],
   "source": [
    "dataset = 'youtube'\n",
    "layer_name = 'CategoryLayer' "
   ]
  },
  {
   "cell_type": "code",
   "execution_count": null,
   "metadata": {},
   "outputs": [],
   "source": [
    "import pandas as pd\n",
    "from pandas import DataFrame\n",
    "\n",
    "df: DataFrame = pd.read_csv(f'data/{dataset}/ml_input/cross_context/{layer_name}.csv', index_col=0)"
   ]
  },
  {
   "source": [
    "## Standardization"
   ],
   "cell_type": "markdown",
   "metadata": {}
  },
  {
   "cell_type": "code",
   "execution_count": null,
   "metadata": {},
   "outputs": [],
   "source": [
    "from sklearn.preprocessing import StandardScaler\n",
    "X = StandardScaler().fit_transform(df)[:,:-1] # all except y"
   ]
  },
  {
   "cell_type": "code",
   "execution_count": null,
   "metadata": {},
   "outputs": [],
   "source": [
    "y = df[df.columns[-1]]"
   ]
  },
  {
   "cell_type": "code",
   "execution_count": null,
   "metadata": {},
   "outputs": [],
   "source": [
    "pd.DataFrame(data=X, columns=df.columns[:-1]).head(2)"
   ]
  },
  {
   "cell_type": "code",
   "execution_count": null,
   "metadata": {},
   "outputs": [],
   "source": [
    "df.head(2)"
   ]
  },
  {
   "source": [
    "## Principal Components"
   ],
   "cell_type": "markdown",
   "metadata": {}
  },
  {
   "cell_type": "code",
   "execution_count": null,
   "metadata": {},
   "outputs": [],
   "source": [
    "from sklearn.decomposition import PCA\n",
    "\n",
    "n_components = 10\n",
    "\n",
    "pca = PCA(n_components=n_components)\n",
    "# compute scores in Xp\n",
    "Xp = pca.fit_transform(X)\n",
    "# get loadings and the ammount of variance explained by each component \n",
    "c, v, r = pca.components_, pca.explained_variance_, pca.explained_variance_ratio_\n",
    "\n",
    "loadings = pd.DataFrame(data=c, columns=df.columns[:-1], index=range(n_components))"
   ]
  },
  {
   "cell_type": "code",
   "execution_count": null,
   "metadata": {},
   "outputs": [],
   "source": [
    "pd.DataFrame(data=Xp, \n",
    "             columns=[f'Z{i+1}' for i in range(n_components)])"
   ]
  },
  {
   "source": [
    "loadings.apply(lambda col: col != 0).sum().sort_values()"
   ],
   "cell_type": "code",
   "metadata": {},
   "execution_count": null,
   "outputs": []
  },
  {
   "source": [
    "Effect of Variables on each Component:"
   ],
   "cell_type": "markdown",
   "metadata": {}
  },
  {
   "cell_type": "code",
   "execution_count": null,
   "metadata": {},
   "outputs": [],
   "source": [
    "import seaborn as sns\n",
    "sns.heatmap(c, cmap='Blues',\n",
    "            yticklabels=[\"Z\"+str(x) for x in range(1,len(c)+1)],\n",
    "            xticklabels=list(df.columns[:-1]))"
   ]
  },
  {
   "source": [
    "Variance explained by Components:"
   ],
   "cell_type": "markdown",
   "metadata": {}
  },
  {
   "cell_type": "code",
   "execution_count": null,
   "metadata": {},
   "outputs": [],
   "source": [
    "import numpy as np\n",
    "import matplotlib.pyplot as plt\n",
    "\n",
    "fig, ax = plt.subplots(1,2, figsize=(10,5), sharex=True)\n",
    "ax[0].bar(range(1,len(v)+1),v)\n",
    "ax[0].set_ylabel('Variance explained')\n",
    "ax[1].set_ylabel('Cumulative variance explained')\n",
    "ax[1].bar(range(1,len(r)+1), np.cumsum(r), color='green')\n",
    "fig.tight_layout()"
   ]
  },
  {
   "source": [
    "Loadings to Components:\n"
   ],
   "cell_type": "markdown",
   "metadata": {}
  },
  {
   "cell_type": "code",
   "execution_count": null,
   "metadata": {},
   "outputs": [],
   "source": [
    "def biplot(z1, z2, sc, comps, obs, features, colors, title):\n",
    "    x, y = sc[:,z1], sc[:,z2]\n",
    "    \n",
    "    fig = plt.figure(figsize=(10,10))\n",
    "    plt.xlabel(\"Z{}\".format(z1))\n",
    "    plt.ylabel(\"Z{}\".format(z2))\n",
    "\n",
    "    sx = (x.max() - x.min())/2\n",
    "    sy = (y.max() - y.min())/2\n",
    "\n",
    "    # print X and y label\n",
    "    y_colors = ['red', 'orange', 'green', 'magenta', 'blue']\n",
    "    plt.scatter(x, y, c=[y_colors[int(e)] for e in obs])\n",
    "    # for i in range(len(obs)):\n",
    "    #     plt.text(x[i], y[i], obs[i], ha='center', fontsize=12)\n",
    "\n",
    "    vec = np.transpose(comps[[z1,z2], :])\n",
    "    \n",
    "    for i in range(len(vec)):\n",
    "        plt.arrow(0, 0, vec[i,0]*sx, vec[i,1]*sy, ec=colors[i],\n",
    "                  head_width=0.1, head_length=0.1, fc=colors[i])\n",
    "        plt.text(vec[i,0]*sx*1.2, vec[i,1]*sy*1.2, features[i], \n",
    "                 color = colors[i])\n",
    "\n",
    "    plt.title(title)\n",
    "    plt.grid()"
   ]
  },
  {
   "cell_type": "code",
   "execution_count": null,
   "metadata": {},
   "outputs": [],
   "source": [
    "import itertools\n",
    "\n",
    "feature_colors = plt.cm.rainbow(np.linspace(0, 1, len(df.columns)))\n",
    "for z1, z2 in itertools.combinations(range(n_components), 2):\n",
    "    biplot(z1, z2, Xp, c, y, df.columns, colors=feature_colors, title=f\"z1={z1} z2={z2}\")"
   ]
  },
  {
   "cell_type": "code",
   "execution_count": null,
   "metadata": {},
   "outputs": [],
   "source": [
    "sns.pairplot(df, hue=\"evolution_label\")"
   ]
  }
 ]
}